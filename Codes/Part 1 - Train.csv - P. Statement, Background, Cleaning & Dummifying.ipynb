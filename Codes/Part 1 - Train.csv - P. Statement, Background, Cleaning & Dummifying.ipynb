{
 "cells": [
  {
   "cell_type": "markdown",
   "metadata": {},
   "source": [
    "<img src=\"http://imgur.com/1ZcRyrc.png\" style=\"float: left; margin: 20px; height: 100px\">\n",
    "\n",
    "# Project 2: Ames Housing Data and Kaggle Challenge\n",
    "#                  Part 1 - Train.csv - P. Statement, Background, Cleaning & Dummifying"
   ]
  },
  {
   "cell_type": "markdown",
   "metadata": {},
   "source": [
    "### Contents:\n",
    "- [Problem Statement](#Problem-Statement)\n",
    "- [Background](#Background)\n",
    "- [Data Import & Cleaning](#Data-Import-and-Cleaning-for-1st-Dataset---train.csv)\n",
    "- [Dummifying Columns](#Dummify-Columns)"
   ]
  },
  {
   "cell_type": "markdown",
   "metadata": {},
   "source": [
    "## Problem Statement"
   ]
  },
  {
   "cell_type": "markdown",
   "metadata": {},
   "source": [
    "This project aims to identify areas contributing to high transacted prices and where the highest transacted volume occurs, using a data science approach, so as to help realtors of Skywalker Property Advisors gain a competitive advantage in the Ames Housing Market."
   ]
  },
  {
   "cell_type": "markdown",
   "metadata": {},
   "source": [
    "## Background"
   ]
  },
  {
   "cell_type": "markdown",
   "metadata": {},
   "source": [
    "The city of Ames is one of cities in Iowa State, US. \n",
    "\n",
    "In Ames, the situation of property market housing is stable, with the number of houses sold per year from year 2006-2010 keep relatively stable at ~400+, even though US is experiencing Subprime financial crisis due that period. \n",
    "\n",
    "There are plenty of Property Advisors in Ames, and Skywalker Property Advisors is one of them. \n",
    "\n",
    "As data scientist to advise the realtors of Skywalker Property Advisors in the year 2010, data of houses sold in Ames in 2006-2010 (until July) have being extensively analysed on and various observations are obtained. With these observations, recommendations were made to the Realtors to help them to improve their sales, and to gain a competitive advantage in Ames Housing Market."
   ]
  },
  {
   "cell_type": "markdown",
   "metadata": {},
   "source": [
    "## Data Import and Cleaning for 1st Dataset - train.csv"
   ]
  },
  {
   "cell_type": "markdown",
   "metadata": {},
   "source": [
    "### 1. Import all necessary libraries"
   ]
  },
  {
   "cell_type": "code",
   "execution_count": 1,
   "metadata": {},
   "outputs": [],
   "source": [
    "# Import all necessary libraries\n",
    "import pandas as pd\n",
    "import numpy as np\n",
    "import matplotlib.pyplot as plt\n",
    "import seaborn as sns\n",
    "from sklearn.linear_model import LinearRegression, LassoCV, RidgeCV\n",
    "from sklearn import metrics\n",
    "import scipy.stats as stats\n",
    "from sklearn.model_selection import train_test_split, cross_val_score, cross_val_predict\n",
    "from sklearn.preprocessing import PolynomialFeatures, StandardScaler\n",
    "from sklearn.metrics import r2_score\n",
    "\n",
    "%matplotlib inline"
   ]
  },
  {
   "cell_type": "markdown",
   "metadata": {},
   "source": [
    "### 2. Read and understand the dataset"
   ]
  },
  {
   "cell_type": "code",
   "execution_count": 2,
   "metadata": {},
   "outputs": [],
   "source": [
    "# Read from train csv and save it in \"train\" as dataframe\n",
    "train = pd.read_csv(\"../data/train.csv\")"
   ]
  },
  {
   "cell_type": "code",
   "execution_count": 3,
   "metadata": {
    "scrolled": false
   },
   "outputs": [
    {
     "data": {
      "text/html": [
       "<div>\n",
       "<style scoped>\n",
       "    .dataframe tbody tr th:only-of-type {\n",
       "        vertical-align: middle;\n",
       "    }\n",
       "\n",
       "    .dataframe tbody tr th {\n",
       "        vertical-align: top;\n",
       "    }\n",
       "\n",
       "    .dataframe thead th {\n",
       "        text-align: right;\n",
       "    }\n",
       "</style>\n",
       "<table border=\"1\" class=\"dataframe\">\n",
       "  <thead>\n",
       "    <tr style=\"text-align: right;\">\n",
       "      <th></th>\n",
       "      <th>Id</th>\n",
       "      <th>PID</th>\n",
       "      <th>MS SubClass</th>\n",
       "      <th>MS Zoning</th>\n",
       "      <th>Lot Frontage</th>\n",
       "      <th>Lot Area</th>\n",
       "      <th>Street</th>\n",
       "      <th>Alley</th>\n",
       "      <th>Lot Shape</th>\n",
       "      <th>Land Contour</th>\n",
       "      <th>...</th>\n",
       "      <th>Screen Porch</th>\n",
       "      <th>Pool Area</th>\n",
       "      <th>Pool QC</th>\n",
       "      <th>Fence</th>\n",
       "      <th>Misc Feature</th>\n",
       "      <th>Misc Val</th>\n",
       "      <th>Mo Sold</th>\n",
       "      <th>Yr Sold</th>\n",
       "      <th>Sale Type</th>\n",
       "      <th>SalePrice</th>\n",
       "    </tr>\n",
       "  </thead>\n",
       "  <tbody>\n",
       "    <tr>\n",
       "      <th>0</th>\n",
       "      <td>109</td>\n",
       "      <td>533352170</td>\n",
       "      <td>60</td>\n",
       "      <td>RL</td>\n",
       "      <td>NaN</td>\n",
       "      <td>13517</td>\n",
       "      <td>Pave</td>\n",
       "      <td>NaN</td>\n",
       "      <td>IR1</td>\n",
       "      <td>Lvl</td>\n",
       "      <td>...</td>\n",
       "      <td>0</td>\n",
       "      <td>0</td>\n",
       "      <td>NaN</td>\n",
       "      <td>NaN</td>\n",
       "      <td>NaN</td>\n",
       "      <td>0</td>\n",
       "      <td>3</td>\n",
       "      <td>2010</td>\n",
       "      <td>WD</td>\n",
       "      <td>130500</td>\n",
       "    </tr>\n",
       "    <tr>\n",
       "      <th>1</th>\n",
       "      <td>544</td>\n",
       "      <td>531379050</td>\n",
       "      <td>60</td>\n",
       "      <td>RL</td>\n",
       "      <td>43.0</td>\n",
       "      <td>11492</td>\n",
       "      <td>Pave</td>\n",
       "      <td>NaN</td>\n",
       "      <td>IR1</td>\n",
       "      <td>Lvl</td>\n",
       "      <td>...</td>\n",
       "      <td>0</td>\n",
       "      <td>0</td>\n",
       "      <td>NaN</td>\n",
       "      <td>NaN</td>\n",
       "      <td>NaN</td>\n",
       "      <td>0</td>\n",
       "      <td>4</td>\n",
       "      <td>2009</td>\n",
       "      <td>WD</td>\n",
       "      <td>220000</td>\n",
       "    </tr>\n",
       "    <tr>\n",
       "      <th>2</th>\n",
       "      <td>153</td>\n",
       "      <td>535304180</td>\n",
       "      <td>20</td>\n",
       "      <td>RL</td>\n",
       "      <td>68.0</td>\n",
       "      <td>7922</td>\n",
       "      <td>Pave</td>\n",
       "      <td>NaN</td>\n",
       "      <td>Reg</td>\n",
       "      <td>Lvl</td>\n",
       "      <td>...</td>\n",
       "      <td>0</td>\n",
       "      <td>0</td>\n",
       "      <td>NaN</td>\n",
       "      <td>NaN</td>\n",
       "      <td>NaN</td>\n",
       "      <td>0</td>\n",
       "      <td>1</td>\n",
       "      <td>2010</td>\n",
       "      <td>WD</td>\n",
       "      <td>109000</td>\n",
       "    </tr>\n",
       "    <tr>\n",
       "      <th>3</th>\n",
       "      <td>318</td>\n",
       "      <td>916386060</td>\n",
       "      <td>60</td>\n",
       "      <td>RL</td>\n",
       "      <td>73.0</td>\n",
       "      <td>9802</td>\n",
       "      <td>Pave</td>\n",
       "      <td>NaN</td>\n",
       "      <td>Reg</td>\n",
       "      <td>Lvl</td>\n",
       "      <td>...</td>\n",
       "      <td>0</td>\n",
       "      <td>0</td>\n",
       "      <td>NaN</td>\n",
       "      <td>NaN</td>\n",
       "      <td>NaN</td>\n",
       "      <td>0</td>\n",
       "      <td>4</td>\n",
       "      <td>2010</td>\n",
       "      <td>WD</td>\n",
       "      <td>174000</td>\n",
       "    </tr>\n",
       "    <tr>\n",
       "      <th>4</th>\n",
       "      <td>255</td>\n",
       "      <td>906425045</td>\n",
       "      <td>50</td>\n",
       "      <td>RL</td>\n",
       "      <td>82.0</td>\n",
       "      <td>14235</td>\n",
       "      <td>Pave</td>\n",
       "      <td>NaN</td>\n",
       "      <td>IR1</td>\n",
       "      <td>Lvl</td>\n",
       "      <td>...</td>\n",
       "      <td>0</td>\n",
       "      <td>0</td>\n",
       "      <td>NaN</td>\n",
       "      <td>NaN</td>\n",
       "      <td>NaN</td>\n",
       "      <td>0</td>\n",
       "      <td>3</td>\n",
       "      <td>2010</td>\n",
       "      <td>WD</td>\n",
       "      <td>138500</td>\n",
       "    </tr>\n",
       "  </tbody>\n",
       "</table>\n",
       "<p>5 rows × 81 columns</p>\n",
       "</div>"
      ],
      "text/plain": [
       "    Id        PID  MS SubClass MS Zoning  Lot Frontage  Lot Area Street Alley  \\\n",
       "0  109  533352170           60        RL           NaN     13517   Pave   NaN   \n",
       "1  544  531379050           60        RL          43.0     11492   Pave   NaN   \n",
       "2  153  535304180           20        RL          68.0      7922   Pave   NaN   \n",
       "3  318  916386060           60        RL          73.0      9802   Pave   NaN   \n",
       "4  255  906425045           50        RL          82.0     14235   Pave   NaN   \n",
       "\n",
       "  Lot Shape Land Contour  ... Screen Porch Pool Area Pool QC Fence  \\\n",
       "0       IR1          Lvl  ...            0         0     NaN   NaN   \n",
       "1       IR1          Lvl  ...            0         0     NaN   NaN   \n",
       "2       Reg          Lvl  ...            0         0     NaN   NaN   \n",
       "3       Reg          Lvl  ...            0         0     NaN   NaN   \n",
       "4       IR1          Lvl  ...            0         0     NaN   NaN   \n",
       "\n",
       "  Misc Feature Misc Val Mo Sold Yr Sold  Sale Type  SalePrice  \n",
       "0          NaN        0       3    2010        WD      130500  \n",
       "1          NaN        0       4    2009        WD      220000  \n",
       "2          NaN        0       1    2010        WD      109000  \n",
       "3          NaN        0       4    2010        WD      174000  \n",
       "4          NaN        0       3    2010        WD      138500  \n",
       "\n",
       "[5 rows x 81 columns]"
      ]
     },
     "execution_count": 3,
     "metadata": {},
     "output_type": "execute_result"
    }
   ],
   "source": [
    "# Print 1st 5 rows of dataframe\n",
    "train.head()"
   ]
  },
  {
   "cell_type": "code",
   "execution_count": 4,
   "metadata": {},
   "outputs": [
    {
     "data": {
      "text/plain": [
       "(2051, 81)"
      ]
     },
     "execution_count": 4,
     "metadata": {},
     "output_type": "execute_result"
    }
   ],
   "source": [
    "#Check number of rows and columns in dataset\n",
    "train.shape\n",
    "\n",
    "# train dataset have 2051 rows and 81 columns"
   ]
  },
  {
   "cell_type": "code",
   "execution_count": 5,
   "metadata": {},
   "outputs": [
    {
     "name": "stdout",
     "output_type": "stream",
     "text": [
      "<class 'pandas.core.frame.DataFrame'>\n",
      "RangeIndex: 2051 entries, 0 to 2050\n",
      "Data columns (total 81 columns):\n",
      " #   Column           Non-Null Count  Dtype  \n",
      "---  ------           --------------  -----  \n",
      " 0   Id               2051 non-null   int64  \n",
      " 1   PID              2051 non-null   int64  \n",
      " 2   MS SubClass      2051 non-null   int64  \n",
      " 3   MS Zoning        2051 non-null   object \n",
      " 4   Lot Frontage     1721 non-null   float64\n",
      " 5   Lot Area         2051 non-null   int64  \n",
      " 6   Street           2051 non-null   object \n",
      " 7   Alley            140 non-null    object \n",
      " 8   Lot Shape        2051 non-null   object \n",
      " 9   Land Contour     2051 non-null   object \n",
      " 10  Utilities        2051 non-null   object \n",
      " 11  Lot Config       2051 non-null   object \n",
      " 12  Land Slope       2051 non-null   object \n",
      " 13  Neighborhood     2051 non-null   object \n",
      " 14  Condition 1      2051 non-null   object \n",
      " 15  Condition 2      2051 non-null   object \n",
      " 16  Bldg Type        2051 non-null   object \n",
      " 17  House Style      2051 non-null   object \n",
      " 18  Overall Qual     2051 non-null   int64  \n",
      " 19  Overall Cond     2051 non-null   int64  \n",
      " 20  Year Built       2051 non-null   int64  \n",
      " 21  Year Remod/Add   2051 non-null   int64  \n",
      " 22  Roof Style       2051 non-null   object \n",
      " 23  Roof Matl        2051 non-null   object \n",
      " 24  Exterior 1st     2051 non-null   object \n",
      " 25  Exterior 2nd     2051 non-null   object \n",
      " 26  Mas Vnr Type     2029 non-null   object \n",
      " 27  Mas Vnr Area     2029 non-null   float64\n",
      " 28  Exter Qual       2051 non-null   object \n",
      " 29  Exter Cond       2051 non-null   object \n",
      " 30  Foundation       2051 non-null   object \n",
      " 31  Bsmt Qual        1996 non-null   object \n",
      " 32  Bsmt Cond        1996 non-null   object \n",
      " 33  Bsmt Exposure    1993 non-null   object \n",
      " 34  BsmtFin Type 1   1996 non-null   object \n",
      " 35  BsmtFin SF 1     2050 non-null   float64\n",
      " 36  BsmtFin Type 2   1995 non-null   object \n",
      " 37  BsmtFin SF 2     2050 non-null   float64\n",
      " 38  Bsmt Unf SF      2050 non-null   float64\n",
      " 39  Total Bsmt SF    2050 non-null   float64\n",
      " 40  Heating          2051 non-null   object \n",
      " 41  Heating QC       2051 non-null   object \n",
      " 42  Central Air      2051 non-null   object \n",
      " 43  Electrical       2051 non-null   object \n",
      " 44  1st Flr SF       2051 non-null   int64  \n",
      " 45  2nd Flr SF       2051 non-null   int64  \n",
      " 46  Low Qual Fin SF  2051 non-null   int64  \n",
      " 47  Gr Liv Area      2051 non-null   int64  \n",
      " 48  Bsmt Full Bath   2049 non-null   float64\n",
      " 49  Bsmt Half Bath   2049 non-null   float64\n",
      " 50  Full Bath        2051 non-null   int64  \n",
      " 51  Half Bath        2051 non-null   int64  \n",
      " 52  Bedroom AbvGr    2051 non-null   int64  \n",
      " 53  Kitchen AbvGr    2051 non-null   int64  \n",
      " 54  Kitchen Qual     2051 non-null   object \n",
      " 55  TotRms AbvGrd    2051 non-null   int64  \n",
      " 56  Functional       2051 non-null   object \n",
      " 57  Fireplaces       2051 non-null   int64  \n",
      " 58  Fireplace Qu     1051 non-null   object \n",
      " 59  Garage Type      1938 non-null   object \n",
      " 60  Garage Yr Blt    1937 non-null   float64\n",
      " 61  Garage Finish    1937 non-null   object \n",
      " 62  Garage Cars      2050 non-null   float64\n",
      " 63  Garage Area      2050 non-null   float64\n",
      " 64  Garage Qual      1937 non-null   object \n",
      " 65  Garage Cond      1937 non-null   object \n",
      " 66  Paved Drive      2051 non-null   object \n",
      " 67  Wood Deck SF     2051 non-null   int64  \n",
      " 68  Open Porch SF    2051 non-null   int64  \n",
      " 69  Enclosed Porch   2051 non-null   int64  \n",
      " 70  3Ssn Porch       2051 non-null   int64  \n",
      " 71  Screen Porch     2051 non-null   int64  \n",
      " 72  Pool Area        2051 non-null   int64  \n",
      " 73  Pool QC          9 non-null      object \n",
      " 74  Fence            400 non-null    object \n",
      " 75  Misc Feature     65 non-null     object \n",
      " 76  Misc Val         2051 non-null   int64  \n",
      " 77  Mo Sold          2051 non-null   int64  \n",
      " 78  Yr Sold          2051 non-null   int64  \n",
      " 79  Sale Type        2051 non-null   object \n",
      " 80  SalePrice        2051 non-null   int64  \n",
      "dtypes: float64(11), int64(28), object(42)\n",
      "memory usage: 1.3+ MB\n"
     ]
    }
   ],
   "source": [
    "# Check through the data types of columns and corss-check with data dictionary given\n",
    "train.info()\n",
    "\n",
    "# All the data types are same as data dictionary given"
   ]
  },
  {
   "cell_type": "markdown",
   "metadata": {},
   "source": [
    "### 3. Check for Missing Values and deal with Missing Values"
   ]
  },
  {
   "cell_type": "code",
   "execution_count": 6,
   "metadata": {
    "scrolled": false
   },
   "outputs": [
    {
     "name": "stdout",
     "output_type": "stream",
     "text": [
      "Lot Frontage 330\n",
      "Alley 1911\n",
      "Mas Vnr Type 22\n",
      "Mas Vnr Area 22\n",
      "Bsmt Qual 55\n",
      "Bsmt Cond 55\n",
      "Bsmt Exposure 58\n",
      "BsmtFin Type 1 55\n",
      "BsmtFin SF 1 1\n",
      "BsmtFin Type 2 56\n",
      "BsmtFin SF 2 1\n",
      "Bsmt Unf SF 1\n",
      "Total Bsmt SF 1\n",
      "Bsmt Full Bath 2\n",
      "Bsmt Half Bath 2\n",
      "Fireplace Qu 1000\n",
      "Garage Type 113\n",
      "Garage Yr Blt 114\n",
      "Garage Finish 114\n",
      "Garage Cars 1\n",
      "Garage Area 1\n",
      "Garage Qual 114\n",
      "Garage Cond 114\n",
      "Pool QC 2042\n",
      "Fence 1651\n",
      "Misc Feature 1986\n"
     ]
    }
   ],
   "source": [
    "# Check for any missing values in the all columns of data\n",
    "for i in range (0,len(train.columns)):                                          # for i in range of 0 to number of columns,\n",
    "    if train[train.columns[i]].isnull().sum() != 0:                             # if total amount of null values cells is not 0,\n",
    "        print(str(train.columns[i]), train[train.columns[i]].isnull().sum())    # print the column name, the amount of null values\n",
    "    else:\n",
    "        pass                                                                    # else pass"
   ]
  },
  {
   "cell_type": "markdown",
   "metadata": {},
   "source": [
    " #### 1. Replace empty cells in the below 13 columns from NA to no. This is because the meaning of NA in these columns means no existence of it. Hence, these NA is not missing values per say"
   ]
  },
  {
   "cell_type": "code",
   "execution_count": 7,
   "metadata": {},
   "outputs": [],
   "source": [
    "# Imputing missing values with No\n",
    "train['Alley'].replace(np.nan,\"No\",inplace = True)\n",
    "train['Bsmt Qual'].replace(np.nan,\"No\",inplace = True)\n",
    "train['Bsmt Cond'].replace(np.nan,\"No\",inplace = True)\n",
    "train['BsmtFin Type 1'].replace(np.nan,\"No\",inplace = True)\n",
    "train['BsmtFin Type 2'].replace(np.nan,\"No\",inplace = True)\n",
    "train['Fireplace Qu'].replace(np.nan,\"No\",inplace = True)\n",
    "train['Garage Type'].replace(np.nan,\"No\",inplace = True)\n",
    "train['Garage Finish'].replace(np.nan,\"No\",inplace = True)\n",
    "train['Garage Qual'].replace(np.nan,\"No\",inplace = True)\n",
    "train['Garage Cond'].replace(np.nan,\"No\",inplace = True)\n",
    "train['Pool QC'].replace(np.nan,\"No\",inplace = True)\n",
    "train['Fence'].replace(np.nan,\"No\",inplace = True)\n",
    "train['Misc Feature'].replace(np.nan,\"No\",inplace = True)"
   ]
  },
  {
   "cell_type": "code",
   "execution_count": 8,
   "metadata": {
    "scrolled": false
   },
   "outputs": [
    {
     "name": "stdout",
     "output_type": "stream",
     "text": [
      "Lot Frontage 330\n",
      "Mas Vnr Type 22\n",
      "Mas Vnr Area 22\n",
      "Bsmt Exposure 58\n",
      "BsmtFin SF 1 1\n",
      "BsmtFin SF 2 1\n",
      "Bsmt Unf SF 1\n",
      "Total Bsmt SF 1\n",
      "Bsmt Full Bath 2\n",
      "Bsmt Half Bath 2\n",
      "Garage Yr Blt 114\n",
      "Garage Cars 1\n",
      "Garage Area 1\n"
     ]
    }
   ],
   "source": [
    "# Recheck for any missing values in the all columns of data, and see if the columns above still here\n",
    "for i in range (0,len(train.columns)):                                          # for i in range of 0 to number of columns,\n",
    "    if train[train.columns[i]].isnull().sum() != 0:                             # if total amount of null values cells is not 0,\n",
    "        print(str(train.columns[i]), train[train.columns[i]].isnull().sum())    # print the column name, the amount of null values\n",
    "    else:\n",
    "        pass\n",
    "    \n",
    "# All the 13 columns above have no null values anymore"
   ]
  },
  {
   "cell_type": "markdown",
   "metadata": {},
   "source": [
    "#### 2. Replace blanks in column \"Lot Frontage\" to 0 as those blank cells mean there is 0 Lot Frontage, not missing data"
   ]
  },
  {
   "cell_type": "code",
   "execution_count": 9,
   "metadata": {},
   "outputs": [],
   "source": [
    "# Imputating missing values with 0\n",
    "train['Lot Frontage'].replace(np.nan,int(0), inplace = True)"
   ]
  },
  {
   "cell_type": "markdown",
   "metadata": {},
   "source": [
    "#### 3. Replace blanks in following columns to 0, using the deductive imputation, assuming that the blank data is due to non-existence of the item, hence they didnt fill in any value for the cell"
   ]
  },
  {
   "cell_type": "code",
   "execution_count": 10,
   "metadata": {},
   "outputs": [],
   "source": [
    "# Imputating missing values with 0\n",
    "train['Mas Vnr Area'].replace(np.nan,int(0), inplace = True)\n",
    "train['BsmtFin SF 1'].replace(np.nan,int(0), inplace = True)\n",
    "train['BsmtFin SF 2'].replace(np.nan,int(0), inplace = True)\n",
    "train['Bsmt Unf SF'].replace(np.nan,int(0), inplace = True)\n",
    "train['Total Bsmt SF'].replace(np.nan,int(0), inplace = True)\n",
    "train['Bsmt Full Bath'].replace(np.nan,int(0), inplace = True)\n",
    "train['Bsmt Half Bath'].replace(np.nan,int(0), inplace = True)\n",
    "train['Garage Cars'].replace(np.nan,int(0), inplace = True)\n",
    "train['Garage Area'].replace(np.nan,int(0), inplace = True)\n",
    "\n",
    "# Replace blanks in following columns to No, using the deductive imputation, assuming that the blank data is due to non-existence of the item, hence they didnt fill in any value for the cell\n",
    "train['Mas Vnr Type'].replace(np.nan,\"No\", inplace = True)"
   ]
  },
  {
   "cell_type": "code",
   "execution_count": 11,
   "metadata": {
    "scrolled": true
   },
   "outputs": [
    {
     "name": "stdout",
     "output_type": "stream",
     "text": [
      "Bsmt Exposure 58\n",
      "Garage Yr Blt 114\n"
     ]
    }
   ],
   "source": [
    "# Recheck for any missing values in the all columns of data\n",
    "for i in range (0,len(train.columns)):                                          # for i in range of 0 to number of columns,\n",
    "    if train[train.columns[i]].isnull().sum() != 0:                             # if total amount of null values cells is not 0,\n",
    "        print(str(train.columns[i]), train[train.columns[i]].isnull().sum())    # print the column name, the amount of null values\n",
    "    else:\n",
    "        pass"
   ]
  },
  {
   "cell_type": "markdown",
   "metadata": {},
   "source": [
    "#### 4. Remove the 'Garage Yr Blt' column as this column is unneccessary. Most values of 'Garage Yr Blt' is similar to values in \"Year Built\" or \"Year Remod/Add\""
   ]
  },
  {
   "cell_type": "code",
   "execution_count": 12,
   "metadata": {},
   "outputs": [],
   "source": [
    "# Removing 'Garage Yr Blt' column\n",
    "train.drop('Garage Yr Blt', axis=1, inplace = True)"
   ]
  },
  {
   "cell_type": "markdown",
   "metadata": {},
   "source": [
    "#### 5. Replace NaN values in 'Bsmt Exposure' column to No_Basement, \"None\" to \"No_Exposure\""
   ]
  },
  {
   "cell_type": "code",
   "execution_count": 13,
   "metadata": {},
   "outputs": [],
   "source": [
    "#5. Replace NaN values\n",
    "train['Bsmt Exposure'].replace(np.nan,\"No_Basement\", inplace = True)\n",
    "train['Bsmt Exposure'].replace(\"None\",\"No_Exposure\", inplace = True)"
   ]
  },
  {
   "cell_type": "code",
   "execution_count": 14,
   "metadata": {},
   "outputs": [],
   "source": [
    "# Recheck for any missing values in the all columns of data\n",
    "for i in range (0,len(train.columns)):                                          # for i in range of 0 to number of columns,\n",
    "    if train[train.columns[i]].isnull().sum() != 0:                             # if total amount of null values cells is not 0,\n",
    "        print(str(train.columns[i]), train[train.columns[i]].isnull().sum())    # print the column name, the amount of null values\n",
    "    else:\n",
    "        pass\n",
    "    \n",
    "# No columns now have null values."
   ]
  },
  {
   "cell_type": "markdown",
   "metadata": {},
   "source": [
    "### 4. Check contents of each column to see if any abnormality exist"
   ]
  },
  {
   "cell_type": "code",
   "execution_count": 15,
   "metadata": {
    "scrolled": true
   },
   "outputs": [
    {
     "data": {
      "text/plain": [
       "array(['A (agr)', 'C (all)', 'FV', 'I (all)', 'RH', 'RL', 'RM'],\n",
       "      dtype=object)"
      ]
     },
     "execution_count": 15,
     "metadata": {},
     "output_type": "execute_result"
    }
   ],
   "source": [
    "#Checking contents for each column to see if any abnormality exist\n",
    "np.unique(train['MS Zoning'])\n",
    "\n",
    "# Replace certain columns to remove the spacing"
   ]
  },
  {
   "cell_type": "code",
   "execution_count": 16,
   "metadata": {},
   "outputs": [],
   "source": [
    "# Replace cells in 'Ms Zoning' from \"A (agr)\" to \"A\", from \"C (all)\" to \"C\", from \"I (all)\", \"I\"\n",
    "train['MS Zoning'].replace(\"A (agr)\",\"A\", inplace = True)\n",
    "train['MS Zoning'].replace(\"C (all)\",\"C\", inplace = True)\n",
    "train['MS Zoning'].replace(\"I (all)\",\"I\", inplace = True)"
   ]
  },
  {
   "cell_type": "code",
   "execution_count": 17,
   "metadata": {},
   "outputs": [
    {
     "data": {
      "text/plain": [
       "array(['A', 'C', 'FV', 'I', 'RH', 'RL', 'RM'], dtype=object)"
      ]
     },
     "execution_count": 17,
     "metadata": {},
     "output_type": "execute_result"
    }
   ],
   "source": [
    "# Rechecking contents for column 'Ms Zoning'\n",
    "np.unique(train['MS Zoning'])\n",
    "\n",
    "# Now no spacing in cell"
   ]
  },
  {
   "cell_type": "code",
   "execution_count": 18,
   "metadata": {},
   "outputs": [
    {
     "data": {
      "text/plain": [
       "array(['AsbShng', 'AsphShn', 'BrkComm', 'BrkFace', 'CBlock', 'CemntBd',\n",
       "       'HdBoard', 'ImStucc', 'MetalSd', 'Plywood', 'Stone', 'Stucco',\n",
       "       'VinylSd', 'Wd Sdng', 'WdShing'], dtype=object)"
      ]
     },
     "execution_count": 18,
     "metadata": {},
     "output_type": "execute_result"
    }
   ],
   "source": [
    "#Checking contents for each column to see if any abnormality exist\n",
    "np.unique(train['Exterior 1st'])\n",
    "\n",
    "# Replace certain columns to remove the spacing"
   ]
  },
  {
   "cell_type": "code",
   "execution_count": 19,
   "metadata": {},
   "outputs": [],
   "source": [
    "# Replace cells in 'Exterior 1st' from \"Wd Sdng\" to \"WdSdng\" to remove spacing\n",
    "train['Exterior 1st'].replace(\"Wd Sdng\",\"WdSdng\", inplace = True)"
   ]
  },
  {
   "cell_type": "code",
   "execution_count": 20,
   "metadata": {},
   "outputs": [
    {
     "data": {
      "text/plain": [
       "array(['AsbShng', 'AsphShn', 'BrkComm', 'BrkFace', 'CBlock', 'CemntBd',\n",
       "       'HdBoard', 'ImStucc', 'MetalSd', 'Plywood', 'Stone', 'Stucco',\n",
       "       'VinylSd', 'WdSdng', 'WdShing'], dtype=object)"
      ]
     },
     "execution_count": 20,
     "metadata": {},
     "output_type": "execute_result"
    }
   ],
   "source": [
    "# Rechecking contents for column 'Bldg Type'\n",
    "np.unique(train['Exterior 1st'])\n",
    "\n",
    "# Now no spacing in cell"
   ]
  },
  {
   "cell_type": "code",
   "execution_count": 21,
   "metadata": {},
   "outputs": [
    {
     "data": {
      "text/plain": [
       "array(['AsbShng', 'AsphShn', 'Brk Cmn', 'BrkFace', 'CBlock', 'CmentBd',\n",
       "       'HdBoard', 'ImStucc', 'MetalSd', 'Plywood', 'Stone', 'Stucco',\n",
       "       'VinylSd', 'Wd Sdng', 'Wd Shng'], dtype=object)"
      ]
     },
     "execution_count": 21,
     "metadata": {},
     "output_type": "execute_result"
    }
   ],
   "source": [
    "#Checking contents for each column to see if any abnormality exist\n",
    "np.unique(train['Exterior 2nd'])\n",
    "\n",
    "# Replace certain columns to remove the spacing"
   ]
  },
  {
   "cell_type": "code",
   "execution_count": 22,
   "metadata": {},
   "outputs": [],
   "source": [
    "# Replace cells in 'Exterior 2nd' from \"Brk Cmn\" to \"BrkComm\", \"Wd Sdng\" to \"WdSdng\", \"Wd Shng\" to \"WdShing\" to remove spacing\n",
    "train['Exterior 2nd'].replace(\"Brk Cmn\",\"BrkComm\", inplace = True)\n",
    "train['Exterior 2nd'].replace(\"Wd Sdng\",\"WdSdng\", inplace = True)\n",
    "train['Exterior 2nd'].replace(\"Wd Shng\",\"WdShing\", inplace = True)"
   ]
  },
  {
   "cell_type": "code",
   "execution_count": 23,
   "metadata": {
    "scrolled": true
   },
   "outputs": [
    {
     "data": {
      "text/plain": [
       "array(['AsbShng', 'AsphShn', 'BrkComm', 'BrkFace', 'CBlock', 'CmentBd',\n",
       "       'HdBoard', 'ImStucc', 'MetalSd', 'Plywood', 'Stone', 'Stucco',\n",
       "       'VinylSd', 'WdSdng', 'WdShing'], dtype=object)"
      ]
     },
     "execution_count": 23,
     "metadata": {},
     "output_type": "execute_result"
    }
   ],
   "source": [
    "# Rechecking contents for column 'Bldg Type'\n",
    "np.unique(train['Exterior 2nd'])\n",
    "\n",
    "# Now no spacing in cell"
   ]
  },
  {
   "cell_type": "markdown",
   "metadata": {},
   "source": [
    "### 5. Changing Column Names"
   ]
  },
  {
   "cell_type": "code",
   "execution_count": 24,
   "metadata": {},
   "outputs": [],
   "source": [
    "# Lowercasifying all letters in column names\n",
    "train.columns = train.columns.str.lower()"
   ]
  },
  {
   "cell_type": "code",
   "execution_count": 25,
   "metadata": {
    "scrolled": false
   },
   "outputs": [],
   "source": [
    "# Rename all columns by replacing \" \" to \"_\"\n",
    "for i in range(0,len(train.columns)):                                                        # for i in range from 0 to no of columns,\n",
    "    if (train.columns.str.contains(\" \")[i]) == True:                                         # if the name of column contains space,\n",
    "        train = train.rename(columns={train.columns[i]: train.columns[i].replace(' ',\"_\")})  # replace the space with \"_\"\n"
   ]
  },
  {
   "cell_type": "code",
   "execution_count": 26,
   "metadata": {},
   "outputs": [
    {
     "data": {
      "text/plain": [
       "Index(['id', 'pid', 'ms_subclass', 'ms_zoning', 'lot_frontage', 'lot_area',\n",
       "       'street', 'alley', 'lot_shape', 'land_contour', 'utilities',\n",
       "       'lot_config', 'land_slope', 'neighborhood', 'condition_1',\n",
       "       'condition_2', 'bldg_type', 'house_style', 'overall_qual',\n",
       "       'overall_cond', 'year_built', 'year_remod/add', 'roof_style',\n",
       "       'roof_matl', 'exterior_1st', 'exterior_2nd', 'mas_vnr_type',\n",
       "       'mas_vnr_area', 'exter_qual', 'exter_cond', 'foundation', 'bsmt_qual',\n",
       "       'bsmt_cond', 'bsmt_exposure', 'bsmtfin_type_1', 'bsmtfin_sf_1',\n",
       "       'bsmtfin_type_2', 'bsmtfin_sf_2', 'bsmt_unf_sf', 'total_bsmt_sf',\n",
       "       'heating', 'heating_qc', 'central_air', 'electrical', '1st_flr_sf',\n",
       "       '2nd_flr_sf', 'low_qual_fin_sf', 'gr_liv_area', 'bsmt_full_bath',\n",
       "       'bsmt_half_bath', 'full_bath', 'half_bath', 'bedroom_abvgr',\n",
       "       'kitchen_abvgr', 'kitchen_qual', 'totrms_abvgrd', 'functional',\n",
       "       'fireplaces', 'fireplace_qu', 'garage_type', 'garage_finish',\n",
       "       'garage_cars', 'garage_area', 'garage_qual', 'garage_cond',\n",
       "       'paved_drive', 'wood_deck_sf', 'open_porch_sf', 'enclosed_porch',\n",
       "       '3ssn_porch', 'screen_porch', 'pool_area', 'pool_qc', 'fence',\n",
       "       'misc_feature', 'misc_val', 'mo_sold', 'yr_sold', 'sale_type',\n",
       "       'saleprice'],\n",
       "      dtype='object')"
      ]
     },
     "execution_count": 26,
     "metadata": {},
     "output_type": "execute_result"
    }
   ],
   "source": [
    "# Checking the name of columns again\n",
    "train.columns\n",
    "\n",
    "# All column names are successfully changed."
   ]
  },
  {
   "cell_type": "markdown",
   "metadata": {},
   "source": [
    "### 6. Drop Unnecessary column"
   ]
  },
  {
   "cell_type": "code",
   "execution_count": 27,
   "metadata": {},
   "outputs": [],
   "source": [
    "# The column \"gr_liv_area\" is an addition of 3 columns \"1st_flr_sf\",\"2nd_flr_sf\", and \"low_qual_fin_sf\".\n",
    "# Hence, \"gr_liv_area\" is to be dropped to solve the collineraity within these 4 columns\n",
    "train.drop('gr_liv_area', axis=1, inplace = True)\n",
    "\n",
    "# Dropping the \"pid\" column as well, as it is repetitive. We already have the ID column to identify a house, hence pid is redundant.\n",
    "train.drop('pid', axis=1, inplace = True)"
   ]
  },
  {
   "cell_type": "code",
   "execution_count": 28,
   "metadata": {},
   "outputs": [
    {
     "data": {
      "text/plain": [
       "Index(['id', 'ms_subclass', 'ms_zoning', 'lot_frontage', 'lot_area', 'street',\n",
       "       'alley', 'lot_shape', 'land_contour', 'utilities', 'lot_config',\n",
       "       'land_slope', 'neighborhood', 'condition_1', 'condition_2', 'bldg_type',\n",
       "       'house_style', 'overall_qual', 'overall_cond', 'year_built',\n",
       "       'year_remod/add', 'roof_style', 'roof_matl', 'exterior_1st',\n",
       "       'exterior_2nd', 'mas_vnr_type', 'mas_vnr_area', 'exter_qual',\n",
       "       'exter_cond', 'foundation', 'bsmt_qual', 'bsmt_cond', 'bsmt_exposure',\n",
       "       'bsmtfin_type_1', 'bsmtfin_sf_1', 'bsmtfin_type_2', 'bsmtfin_sf_2',\n",
       "       'bsmt_unf_sf', 'total_bsmt_sf', 'heating', 'heating_qc', 'central_air',\n",
       "       'electrical', '1st_flr_sf', '2nd_flr_sf', 'low_qual_fin_sf',\n",
       "       'bsmt_full_bath', 'bsmt_half_bath', 'full_bath', 'half_bath',\n",
       "       'bedroom_abvgr', 'kitchen_abvgr', 'kitchen_qual', 'totrms_abvgrd',\n",
       "       'functional', 'fireplaces', 'fireplace_qu', 'garage_type',\n",
       "       'garage_finish', 'garage_cars', 'garage_area', 'garage_qual',\n",
       "       'garage_cond', 'paved_drive', 'wood_deck_sf', 'open_porch_sf',\n",
       "       'enclosed_porch', '3ssn_porch', 'screen_porch', 'pool_area', 'pool_qc',\n",
       "       'fence', 'misc_feature', 'misc_val', 'mo_sold', 'yr_sold', 'sale_type',\n",
       "       'saleprice'],\n",
       "      dtype='object')"
      ]
     },
     "execution_count": 28,
     "metadata": {},
     "output_type": "execute_result"
    }
   ],
   "source": [
    "# Checking the name of columns again\n",
    "train.columns\n",
    "\n",
    "# \"gr_liv_area\" and \"pid\" is being removed."
   ]
  },
  {
   "cell_type": "markdown",
   "metadata": {},
   "source": [
    "### 7. Changing Contents of Columns"
   ]
  },
  {
   "cell_type": "code",
   "execution_count": 29,
   "metadata": {},
   "outputs": [],
   "source": [
    "# 1. Change content of column \"central_air\" from \" Yes\" \"No\" to 1 and 0\n",
    "train['central_air'].replace({\"Y\":1,\"N\":0}, inplace = True)"
   ]
  },
  {
   "cell_type": "code",
   "execution_count": 30,
   "metadata": {},
   "outputs": [],
   "source": [
    "# 2. Change'mas_vnr_type' column of the None value to No\n",
    "train['mas_vnr_type'].replace(\"None\",\"No\", inplace = True)"
   ]
  },
  {
   "cell_type": "code",
   "execution_count": 31,
   "metadata": {},
   "outputs": [],
   "source": [
    "# Changing the ordinal columns from categories to numerical values\n",
    "train[\"exter_qual\"].replace({\"Ex\": 5, \"Gd\":4, \"TA\":3, \"Fa\":2, \"Po\":1}, inplace = True)\n",
    "train[\"exter_cond\"].replace({\"Ex\": 5, \"Gd\":4, \"TA\":3, \"Fa\":2, \"Po\":1}, inplace = True)\n",
    "train[\"bsmt_qual\"].replace({\"Ex\": 5, \"Gd\":4, \"TA\":3, \"Fa\":2, \"Po\":1, \"No\":0}, inplace = True)\n",
    "train[\"bsmt_cond\"].replace({\"Ex\": 5, \"Gd\":4, \"TA\":3, \"Fa\":2, \"Po\":1, \"No\":0}, inplace = True)\n",
    "train[\"heating_qc\"].replace({\"Ex\": 5, \"Gd\":4, \"TA\":3, \"Fa\":2, \"Po\":1}, inplace = True)\n",
    "train[\"kitchen_qual\"].replace({\"Ex\": 5, \"Gd\":4, \"TA\":3, \"Fa\":2, \"Po\":1}, inplace = True)\n",
    "train[\"fireplace_qu\"].replace({\"Ex\": 5, \"Gd\":4, \"TA\":3, \"Fa\":2, \"Po\":1, \"No\":0}, inplace = True)\n",
    "train[\"garage_qual\"].replace({\"Ex\": 5, \"Gd\":4, \"TA\":3, \"Fa\":2, \"Po\":1, \"No\":0}, inplace = True)\n",
    "train[\"garage_cond\"].replace({\"Ex\": 5, \"Gd\":4, \"TA\":3, \"Fa\":2, \"Po\":1, \"No\":0}, inplace = True)\n",
    "train[\"pool_qc\"].replace({\"Ex\": 5, \"Gd\":4, \"TA\":3, \"Fa\":2, \"No\":0}, inplace = True)\n",
    "train['bsmt_exposure'].replace({\"Gd\": 3, \"Av\":2, \"Mn\":1, \"No_Basement\":0, \"No\":0}, inplace = True)"
   ]
  },
  {
   "cell_type": "code",
   "execution_count": 32,
   "metadata": {},
   "outputs": [],
   "source": [
    "# Changing the ordinal columns from categories to numerical values\n",
    "train[\"lot_shape\"].replace({\"IR3\": 1, \"IR2\":2, \"IR1\":3, \"Reg\":4}, inplace = True)\n",
    "train[\"utilities\"].replace({\"AllPub\": 4, \"NoSewr\":3, \"NoSeWa\":2, \"ELO\":1}, inplace = True)\n",
    "train[\"bsmtfin_type_1\"].replace({\"GLQ\": 6, \"ALQ\": 5, \"BLQ\": 4, \"Rec\":3, \"LwQ\":2, \"Unf\":1, \"No\":0}, inplace = True)\n",
    "train[\"bsmtfin_type_2\"].replace({\"GLQ\": 6, \"ALQ\": 5, \"BLQ\": 4, \"Rec\":3, \"LwQ\":2, \"Unf\":1, \"No\":0}, inplace = True)\n",
    "train[\"functional\"].replace({\"Typ\": 8, \"Min1\": 7, \"Min2\": 6, \"Mod\":5, \"Maj1\":4, \"Maj2\":3, \"Sev\": 2, \"Sal\":1}, inplace = True)\n",
    "train[\"garage_finish\"].replace({\"Fin\":3, \"RFn\":2, \"Unf\":1, \"No\":0}, inplace = True)\n",
    "train[\"paved_drive\"].replace({\"Y\":2, \"P\":1, \"N\":0}, inplace = True)"
   ]
  },
  {
   "cell_type": "markdown",
   "metadata": {},
   "source": [
    "### 8. Save Dataset"
   ]
  },
  {
   "cell_type": "code",
   "execution_count": 33,
   "metadata": {},
   "outputs": [
    {
     "data": {
      "text/plain": [
       "(2051, 78)"
      ]
     },
     "execution_count": 33,
     "metadata": {},
     "output_type": "execute_result"
    }
   ],
   "source": [
    "train.shape"
   ]
  },
  {
   "cell_type": "code",
   "execution_count": 34,
   "metadata": {},
   "outputs": [],
   "source": [
    "# Save dataset to csv as a modified dataset\n",
    "train.to_csv('../data/train_modified.csv', index = False)"
   ]
  },
  {
   "cell_type": "markdown",
   "metadata": {},
   "source": [
    "## Dummify Columns"
   ]
  },
  {
   "cell_type": "code",
   "execution_count": 35,
   "metadata": {},
   "outputs": [],
   "source": [
    "# Dummify categorical columns for regressions to take place later\n",
    "train_modified = pd.get_dummies(columns=['ms_subclass','ms_zoning','street','alley','land_contour','lot_config','land_slope', \n",
    "                                'neighborhood','condition_1','condition_2','bldg_type','house_style','roof_style', 'roof_matl',\n",
    "                                'exterior_1st','exterior_2nd','mas_vnr_type','foundation','heating','electrical','garage_type',\n",
    "                                'fence','misc_feature','sale_type'], drop_first=True, data = train)"
   ]
  },
  {
   "cell_type": "code",
   "execution_count": 36,
   "metadata": {},
   "outputs": [
    {
     "data": {
      "text/plain": [
       "(2051, 217)"
      ]
     },
     "execution_count": 36,
     "metadata": {},
     "output_type": "execute_result"
    }
   ],
   "source": [
    "# Checking the number of columns after dummifying\n",
    "train_modified.shape\n",
    "\n",
    "# There are 217 columns"
   ]
  },
  {
   "cell_type": "markdown",
   "metadata": {},
   "source": [
    "### 10. Save Dataset Again"
   ]
  },
  {
   "cell_type": "code",
   "execution_count": 37,
   "metadata": {},
   "outputs": [],
   "source": [
    "#Save dataset to csv as a modified dataset\n",
    "train_modified.to_csv('../data/train_modified_dummified.csv', index = False)"
   ]
  }
 ],
 "metadata": {
  "kernelspec": {
   "display_name": "Python 3",
   "language": "python",
   "name": "python3"
  },
  "language_info": {
   "codemirror_mode": {
    "name": "ipython",
    "version": 3
   },
   "file_extension": ".py",
   "mimetype": "text/x-python",
   "name": "python",
   "nbconvert_exporter": "python",
   "pygments_lexer": "ipython3",
   "version": "3.8.5"
  }
 },
 "nbformat": 4,
 "nbformat_minor": 4
}
