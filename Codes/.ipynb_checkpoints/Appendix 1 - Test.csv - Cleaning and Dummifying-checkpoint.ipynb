{
 "cells": [
  {
   "cell_type": "markdown",
   "metadata": {},
   "source": [
    "<img src=\"http://imgur.com/1ZcRyrc.png\" style=\"float: left; margin: 20px; height: 55px\">\n",
    "\n",
    "# Project 2: Ames Housing Data and Kaggle Challenge\n",
    "#                  Appendix 1 - Test.csv - Cleaning and Dummifying"
   ]
  },
  {
   "cell_type": "markdown",
   "metadata": {},
   "source": [
    "### Contents:\n",
    "- [Data Import & Cleaning](#Data-Import-and-Cleaning-for-Test.csv)"
   ]
  },
  {
   "cell_type": "markdown",
   "metadata": {},
   "source": [
    "## Data Import and Cleaning for Test.csv"
   ]
  },
  {
   "cell_type": "markdown",
   "metadata": {},
   "source": [
    "### 1. Import all necessary libraries"
   ]
  },
  {
   "cell_type": "code",
   "execution_count": 1,
   "metadata": {},
   "outputs": [],
   "source": [
    "# Import all necessary libraries\n",
    "import pandas as pd\n",
    "import numpy as np\n",
    "import matplotlib.pyplot as plt\n",
    "import seaborn as sns\n",
    "from sklearn.linear_model import LinearRegression, LassoCV, RidgeCV\n",
    "from sklearn import metrics\n",
    "import scipy.stats as stats\n",
    "from sklearn.model_selection import train_test_split, cross_val_score, cross_val_predict\n",
    "from sklearn.preprocessing import PolynomialFeatures, StandardScaler\n",
    "from sklearn.metrics import r2_score\n",
    "\n",
    "%matplotlib inline"
   ]
  },
  {
   "cell_type": "markdown",
   "metadata": {},
   "source": [
    "### 2. Read and understand the dataset"
   ]
  },
  {
   "cell_type": "code",
   "execution_count": 2,
   "metadata": {},
   "outputs": [],
   "source": [
    "# Read from test csv and save it in \"test\" as dataframe\n",
    "test = pd.read_csv(\"../data/test.csv\")"
   ]
  },
  {
   "cell_type": "code",
   "execution_count": 3,
   "metadata": {},
   "outputs": [
    {
     "data": {
      "text/html": [
       "<div>\n",
       "<style scoped>\n",
       "    .dataframe tbody tr th:only-of-type {\n",
       "        vertical-align: middle;\n",
       "    }\n",
       "\n",
       "    .dataframe tbody tr th {\n",
       "        vertical-align: top;\n",
       "    }\n",
       "\n",
       "    .dataframe thead th {\n",
       "        text-align: right;\n",
       "    }\n",
       "</style>\n",
       "<table border=\"1\" class=\"dataframe\">\n",
       "  <thead>\n",
       "    <tr style=\"text-align: right;\">\n",
       "      <th></th>\n",
       "      <th>Id</th>\n",
       "      <th>PID</th>\n",
       "      <th>MS SubClass</th>\n",
       "      <th>MS Zoning</th>\n",
       "      <th>Lot Frontage</th>\n",
       "      <th>Lot Area</th>\n",
       "      <th>Street</th>\n",
       "      <th>Alley</th>\n",
       "      <th>Lot Shape</th>\n",
       "      <th>Land Contour</th>\n",
       "      <th>...</th>\n",
       "      <th>3Ssn Porch</th>\n",
       "      <th>Screen Porch</th>\n",
       "      <th>Pool Area</th>\n",
       "      <th>Pool QC</th>\n",
       "      <th>Fence</th>\n",
       "      <th>Misc Feature</th>\n",
       "      <th>Misc Val</th>\n",
       "      <th>Mo Sold</th>\n",
       "      <th>Yr Sold</th>\n",
       "      <th>Sale Type</th>\n",
       "    </tr>\n",
       "  </thead>\n",
       "  <tbody>\n",
       "    <tr>\n",
       "      <th>0</th>\n",
       "      <td>2658</td>\n",
       "      <td>902301120</td>\n",
       "      <td>190</td>\n",
       "      <td>RM</td>\n",
       "      <td>69.0</td>\n",
       "      <td>9142</td>\n",
       "      <td>Pave</td>\n",
       "      <td>Grvl</td>\n",
       "      <td>Reg</td>\n",
       "      <td>Lvl</td>\n",
       "      <td>...</td>\n",
       "      <td>0</td>\n",
       "      <td>0</td>\n",
       "      <td>0</td>\n",
       "      <td>NaN</td>\n",
       "      <td>NaN</td>\n",
       "      <td>NaN</td>\n",
       "      <td>0</td>\n",
       "      <td>4</td>\n",
       "      <td>2006</td>\n",
       "      <td>WD</td>\n",
       "    </tr>\n",
       "    <tr>\n",
       "      <th>1</th>\n",
       "      <td>2718</td>\n",
       "      <td>905108090</td>\n",
       "      <td>90</td>\n",
       "      <td>RL</td>\n",
       "      <td>NaN</td>\n",
       "      <td>9662</td>\n",
       "      <td>Pave</td>\n",
       "      <td>NaN</td>\n",
       "      <td>IR1</td>\n",
       "      <td>Lvl</td>\n",
       "      <td>...</td>\n",
       "      <td>0</td>\n",
       "      <td>0</td>\n",
       "      <td>0</td>\n",
       "      <td>NaN</td>\n",
       "      <td>NaN</td>\n",
       "      <td>NaN</td>\n",
       "      <td>0</td>\n",
       "      <td>8</td>\n",
       "      <td>2006</td>\n",
       "      <td>WD</td>\n",
       "    </tr>\n",
       "    <tr>\n",
       "      <th>2</th>\n",
       "      <td>2414</td>\n",
       "      <td>528218130</td>\n",
       "      <td>60</td>\n",
       "      <td>RL</td>\n",
       "      <td>58.0</td>\n",
       "      <td>17104</td>\n",
       "      <td>Pave</td>\n",
       "      <td>NaN</td>\n",
       "      <td>IR1</td>\n",
       "      <td>Lvl</td>\n",
       "      <td>...</td>\n",
       "      <td>0</td>\n",
       "      <td>0</td>\n",
       "      <td>0</td>\n",
       "      <td>NaN</td>\n",
       "      <td>NaN</td>\n",
       "      <td>NaN</td>\n",
       "      <td>0</td>\n",
       "      <td>9</td>\n",
       "      <td>2006</td>\n",
       "      <td>New</td>\n",
       "    </tr>\n",
       "    <tr>\n",
       "      <th>3</th>\n",
       "      <td>1989</td>\n",
       "      <td>902207150</td>\n",
       "      <td>30</td>\n",
       "      <td>RM</td>\n",
       "      <td>60.0</td>\n",
       "      <td>8520</td>\n",
       "      <td>Pave</td>\n",
       "      <td>NaN</td>\n",
       "      <td>Reg</td>\n",
       "      <td>Lvl</td>\n",
       "      <td>...</td>\n",
       "      <td>0</td>\n",
       "      <td>0</td>\n",
       "      <td>0</td>\n",
       "      <td>NaN</td>\n",
       "      <td>NaN</td>\n",
       "      <td>NaN</td>\n",
       "      <td>0</td>\n",
       "      <td>7</td>\n",
       "      <td>2007</td>\n",
       "      <td>WD</td>\n",
       "    </tr>\n",
       "    <tr>\n",
       "      <th>4</th>\n",
       "      <td>625</td>\n",
       "      <td>535105100</td>\n",
       "      <td>20</td>\n",
       "      <td>RL</td>\n",
       "      <td>NaN</td>\n",
       "      <td>9500</td>\n",
       "      <td>Pave</td>\n",
       "      <td>NaN</td>\n",
       "      <td>IR1</td>\n",
       "      <td>Lvl</td>\n",
       "      <td>...</td>\n",
       "      <td>0</td>\n",
       "      <td>185</td>\n",
       "      <td>0</td>\n",
       "      <td>NaN</td>\n",
       "      <td>NaN</td>\n",
       "      <td>NaN</td>\n",
       "      <td>0</td>\n",
       "      <td>7</td>\n",
       "      <td>2009</td>\n",
       "      <td>WD</td>\n",
       "    </tr>\n",
       "  </tbody>\n",
       "</table>\n",
       "<p>5 rows × 80 columns</p>\n",
       "</div>"
      ],
      "text/plain": [
       "     Id        PID  MS SubClass MS Zoning  Lot Frontage  Lot Area Street  \\\n",
       "0  2658  902301120          190        RM          69.0      9142   Pave   \n",
       "1  2718  905108090           90        RL           NaN      9662   Pave   \n",
       "2  2414  528218130           60        RL          58.0     17104   Pave   \n",
       "3  1989  902207150           30        RM          60.0      8520   Pave   \n",
       "4   625  535105100           20        RL           NaN      9500   Pave   \n",
       "\n",
       "  Alley Lot Shape Land Contour  ... 3Ssn Porch Screen Porch Pool Area Pool QC  \\\n",
       "0  Grvl       Reg          Lvl  ...          0            0         0     NaN   \n",
       "1   NaN       IR1          Lvl  ...          0            0         0     NaN   \n",
       "2   NaN       IR1          Lvl  ...          0            0         0     NaN   \n",
       "3   NaN       Reg          Lvl  ...          0            0         0     NaN   \n",
       "4   NaN       IR1          Lvl  ...          0          185         0     NaN   \n",
       "\n",
       "  Fence Misc Feature Misc Val Mo Sold  Yr Sold  Sale Type  \n",
       "0   NaN          NaN        0       4     2006        WD   \n",
       "1   NaN          NaN        0       8     2006        WD   \n",
       "2   NaN          NaN        0       9     2006        New  \n",
       "3   NaN          NaN        0       7     2007        WD   \n",
       "4   NaN          NaN        0       7     2009        WD   \n",
       "\n",
       "[5 rows x 80 columns]"
      ]
     },
     "execution_count": 3,
     "metadata": {},
     "output_type": "execute_result"
    }
   ],
   "source": [
    "# Print 1st 5 rows of dataframe\n",
    "test.head()"
   ]
  },
  {
   "cell_type": "code",
   "execution_count": 4,
   "metadata": {},
   "outputs": [
    {
     "data": {
      "text/plain": [
       "(878, 80)"
      ]
     },
     "execution_count": 4,
     "metadata": {},
     "output_type": "execute_result"
    }
   ],
   "source": [
    "#Check number of rows and columns in dataset\n",
    "test.shape\n",
    "\n",
    "# test dataset have 878 rows and 80 columns"
   ]
  },
  {
   "cell_type": "code",
   "execution_count": 5,
   "metadata": {},
   "outputs": [
    {
     "name": "stdout",
     "output_type": "stream",
     "text": [
      "<class 'pandas.core.frame.DataFrame'>\n",
      "RangeIndex: 878 entries, 0 to 877\n",
      "Data columns (total 80 columns):\n",
      " #   Column           Non-Null Count  Dtype  \n",
      "---  ------           --------------  -----  \n",
      " 0   Id               878 non-null    int64  \n",
      " 1   PID              878 non-null    int64  \n",
      " 2   MS SubClass      878 non-null    int64  \n",
      " 3   MS Zoning        878 non-null    object \n",
      " 4   Lot Frontage     718 non-null    float64\n",
      " 5   Lot Area         878 non-null    int64  \n",
      " 6   Street           878 non-null    object \n",
      " 7   Alley            58 non-null     object \n",
      " 8   Lot Shape        878 non-null    object \n",
      " 9   Land Contour     878 non-null    object \n",
      " 10  Utilities        878 non-null    object \n",
      " 11  Lot Config       878 non-null    object \n",
      " 12  Land Slope       878 non-null    object \n",
      " 13  Neighborhood     878 non-null    object \n",
      " 14  Condition 1      878 non-null    object \n",
      " 15  Condition 2      878 non-null    object \n",
      " 16  Bldg Type        878 non-null    object \n",
      " 17  House Style      878 non-null    object \n",
      " 18  Overall Qual     878 non-null    int64  \n",
      " 19  Overall Cond     878 non-null    int64  \n",
      " 20  Year Built       878 non-null    int64  \n",
      " 21  Year Remod/Add   878 non-null    int64  \n",
      " 22  Roof Style       878 non-null    object \n",
      " 23  Roof Matl        878 non-null    object \n",
      " 24  Exterior 1st     878 non-null    object \n",
      " 25  Exterior 2nd     878 non-null    object \n",
      " 26  Mas Vnr Type     877 non-null    object \n",
      " 27  Mas Vnr Area     877 non-null    float64\n",
      " 28  Exter Qual       878 non-null    object \n",
      " 29  Exter Cond       878 non-null    object \n",
      " 30  Foundation       878 non-null    object \n",
      " 31  Bsmt Qual        853 non-null    object \n",
      " 32  Bsmt Cond        853 non-null    object \n",
      " 33  Bsmt Exposure    853 non-null    object \n",
      " 34  BsmtFin Type 1   853 non-null    object \n",
      " 35  BsmtFin SF 1     878 non-null    int64  \n",
      " 36  BsmtFin Type 2   853 non-null    object \n",
      " 37  BsmtFin SF 2     878 non-null    int64  \n",
      " 38  Bsmt Unf SF      878 non-null    int64  \n",
      " 39  Total Bsmt SF    878 non-null    int64  \n",
      " 40  Heating          878 non-null    object \n",
      " 41  Heating QC       878 non-null    object \n",
      " 42  Central Air      878 non-null    object \n",
      " 43  Electrical       877 non-null    object \n",
      " 44  1st Flr SF       878 non-null    int64  \n",
      " 45  2nd Flr SF       878 non-null    int64  \n",
      " 46  Low Qual Fin SF  878 non-null    int64  \n",
      " 47  Gr Liv Area      878 non-null    int64  \n",
      " 48  Bsmt Full Bath   878 non-null    int64  \n",
      " 49  Bsmt Half Bath   878 non-null    int64  \n",
      " 50  Full Bath        878 non-null    int64  \n",
      " 51  Half Bath        878 non-null    int64  \n",
      " 52  Bedroom AbvGr    878 non-null    int64  \n",
      " 53  Kitchen AbvGr    878 non-null    int64  \n",
      " 54  Kitchen Qual     878 non-null    object \n",
      " 55  TotRms AbvGrd    878 non-null    int64  \n",
      " 56  Functional       878 non-null    object \n",
      " 57  Fireplaces       878 non-null    int64  \n",
      " 58  Fireplace Qu     456 non-null    object \n",
      " 59  Garage Type      834 non-null    object \n",
      " 60  Garage Yr Blt    833 non-null    float64\n",
      " 61  Garage Finish    833 non-null    object \n",
      " 62  Garage Cars      878 non-null    int64  \n",
      " 63  Garage Area      878 non-null    int64  \n",
      " 64  Garage Qual      833 non-null    object \n",
      " 65  Garage Cond      833 non-null    object \n",
      " 66  Paved Drive      878 non-null    object \n",
      " 67  Wood Deck SF     878 non-null    int64  \n",
      " 68  Open Porch SF    878 non-null    int64  \n",
      " 69  Enclosed Porch   878 non-null    int64  \n",
      " 70  3Ssn Porch       878 non-null    int64  \n",
      " 71  Screen Porch     878 non-null    int64  \n",
      " 72  Pool Area        878 non-null    int64  \n",
      " 73  Pool QC          4 non-null      object \n",
      " 74  Fence            172 non-null    object \n",
      " 75  Misc Feature     41 non-null     object \n",
      " 76  Misc Val         878 non-null    int64  \n",
      " 77  Mo Sold          878 non-null    int64  \n",
      " 78  Yr Sold          878 non-null    int64  \n",
      " 79  Sale Type        878 non-null    object \n",
      "dtypes: float64(3), int64(35), object(42)\n",
      "memory usage: 548.9+ KB\n"
     ]
    }
   ],
   "source": [
    "# Check through the data types of columns and corss-check with data dictionary given\n",
    "test.info()"
   ]
  },
  {
   "cell_type": "code",
   "execution_count": 6,
   "metadata": {
    "scrolled": true
   },
   "outputs": [],
   "source": [
    "# Convert datatype of following columns from int to float to match to train.csv dataset\n",
    "test['BsmtFin SF 1']= test['BsmtFin SF 1'].astype(float)\n",
    "test['BsmtFin SF 2']= test['BsmtFin SF 2'].astype(float)\n",
    "test['Bsmt Unf SF']= test['Bsmt Unf SF'].astype(float)\n",
    "test['Total Bsmt SF']= test['Total Bsmt SF'].astype(float)\n",
    "test['Bsmt Full Bath']= test['Bsmt Full Bath'].astype(float)\n",
    "test['Bsmt Half Bath']= test['Bsmt Half Bath'].astype(float)\n",
    "test['Garage Cars']= test['Garage Cars'].astype(float)\n",
    "test['Garage Area']= test['Garage Area'].astype(float)"
   ]
  },
  {
   "cell_type": "markdown",
   "metadata": {},
   "source": [
    "### 3. Check for Missing Values and deal with Missing Values"
   ]
  },
  {
   "cell_type": "code",
   "execution_count": 7,
   "metadata": {
    "scrolled": true
   },
   "outputs": [
    {
     "name": "stdout",
     "output_type": "stream",
     "text": [
      "Lot Frontage 160\n",
      "Alley 820\n",
      "Mas Vnr Type 1\n",
      "Mas Vnr Area 1\n",
      "Bsmt Qual 25\n",
      "Bsmt Cond 25\n",
      "Bsmt Exposure 25\n",
      "BsmtFin Type 1 25\n",
      "BsmtFin Type 2 25\n",
      "Electrical 1\n",
      "Fireplace Qu 422\n",
      "Garage Type 44\n",
      "Garage Yr Blt 45\n",
      "Garage Finish 45\n",
      "Garage Qual 45\n",
      "Garage Cond 45\n",
      "Pool QC 874\n",
      "Fence 706\n",
      "Misc Feature 837\n"
     ]
    }
   ],
   "source": [
    "# Check for any missing values in the all columns of data\n",
    "for i in range (0,len(test.columns)):                                        # for i in range of 0 to number of columns,\n",
    "    if test[test.columns[i]].isnull().sum() != 0:                            # if total amount of null values cells is not 0,\n",
    "        print(str(test.columns[i]), test[test.columns[i]].isnull().sum())    # print the column name, the amount of null values\n",
    "    else:\n",
    "        pass                                                                 # else pass"
   ]
  },
  {
   "cell_type": "code",
   "execution_count": 8,
   "metadata": {},
   "outputs": [],
   "source": [
    "# 1. Replace empty cells in the below 13 columns from NA to no\n",
    "# This is because the meaning of NA in these columns means no existence of it \n",
    "# Hence, these NA is not missing values per say\n",
    "test['Alley'].replace(np.nan,\"No\",inplace = True)\n",
    "test['Bsmt Qual'].replace(np.nan,\"No\",inplace = True)\n",
    "test['Bsmt Cond'].replace(np.nan,\"No\",inplace = True)\n",
    "test['BsmtFin Type 1'].replace(np.nan,\"No\",inplace = True)\n",
    "test['BsmtFin Type 2'].replace(np.nan,\"No\",inplace = True)\n",
    "test['Fireplace Qu'].replace(np.nan,\"No\",inplace = True)\n",
    "test['Garage Type'].replace(np.nan,\"No\",inplace = True)\n",
    "test['Garage Finish'].replace(np.nan,\"No\",inplace = True)\n",
    "test['Garage Qual'].replace(np.nan,\"No\",inplace = True)\n",
    "test['Garage Cond'].replace(np.nan,\"No\",inplace = True)\n",
    "test['Pool QC'].replace(np.nan,\"No\",inplace = True)\n",
    "test['Fence'].replace(np.nan,\"No\",inplace = True)\n",
    "test['Misc Feature'].replace(np.nan,\"No\",inplace = True)"
   ]
  },
  {
   "cell_type": "code",
   "execution_count": 9,
   "metadata": {},
   "outputs": [
    {
     "name": "stdout",
     "output_type": "stream",
     "text": [
      "Lot Frontage 160\n",
      "Mas Vnr Type 1\n",
      "Mas Vnr Area 1\n",
      "Bsmt Exposure 25\n",
      "Electrical 1\n",
      "Garage Yr Blt 45\n"
     ]
    }
   ],
   "source": [
    "# Check for any missing values in the all columns of data\n",
    "for i in range (0,len(test.columns)):                                        # for i in range of 0 to number of columns,\n",
    "    if test[test.columns[i]].isnull().sum() != 0:                            # if total amount of null values cells is not 0,\n",
    "        print(str(test.columns[i]), test[test.columns[i]].isnull().sum())    # print the column name, the amount of null values\n",
    "    else:\n",
    "        pass                                                                 # else pass\n",
    "    \n",
    "# All the 13 columns above have no null values anymore"
   ]
  },
  {
   "cell_type": "code",
   "execution_count": 10,
   "metadata": {},
   "outputs": [],
   "source": [
    "# 2. Replace blanks in column \"Lot Frontage\" to 0 as those blank cells mean there is 0 Lot Frontage, not missing data\n",
    "test['Lot Frontage'].replace(np.nan,int(0), inplace = True)"
   ]
  },
  {
   "cell_type": "code",
   "execution_count": 11,
   "metadata": {},
   "outputs": [],
   "source": [
    "# 3. Replace blanks in following columns to 0, using the deductive imputation, assuming that the blank data is due to non-existence of the item, hence they didnt fill in any value for the cell\n",
    "test['Mas Vnr Area'].replace(np.nan,int(0), inplace = True)\n",
    "\n",
    "# Replace blanks in following columns to No, using the deductive imputation, assuming that the blank data is due to non-existence of the item, hence they didnt fill in any value for the cell\n",
    "test['Mas Vnr Type'].replace(np.nan,\"No\", inplace = True)\n",
    "\n",
    "# Replace blanks in following columns to SBrkr, using the deductive imputation, assuming that the blank data is Standard Circuit Breaker, which majority of data is\n",
    "test['Electrical'].replace(np.nan,\"SBrkr\", inplace = True)"
   ]
  },
  {
   "cell_type": "code",
   "execution_count": 12,
   "metadata": {},
   "outputs": [
    {
     "name": "stdout",
     "output_type": "stream",
     "text": [
      "Bsmt Exposure 25\n",
      "Garage Yr Blt 45\n"
     ]
    }
   ],
   "source": [
    "# Check for any missing values in the all columns of data\n",
    "for i in range (0,len(test.columns)):                                        # for i in range of 0 to number of columns,\n",
    "    if test[test.columns[i]].isnull().sum() != 0:                            # if total amount of null values cells is not 0,\n",
    "        print(str(test.columns[i]), test[test.columns[i]].isnull().sum())    # print the column name, the amount of null values\n",
    "    else:\n",
    "        pass                                                                 # else pass  "
   ]
  },
  {
   "cell_type": "code",
   "execution_count": 13,
   "metadata": {},
   "outputs": [],
   "source": [
    "# 4. Remove the 'Garage Yr Blt' column as this column is unneccessary. Most values of 'Garage Yr Blt' is similar to values in \"Year Built\" or \"Year Remod/Add\"\n",
    "test.drop('Garage Yr Blt', axis=1, inplace = True)"
   ]
  },
  {
   "cell_type": "code",
   "execution_count": 14,
   "metadata": {},
   "outputs": [],
   "source": [
    "#5. Replace NaN values in 'Bsmt Exposure' column to No_Basement, \"None\" to \"No_Exposure\"\n",
    "test['Bsmt Exposure'].replace(np.nan,\"No_Basement\", inplace = True)\n",
    "test['Bsmt Exposure'].replace(\"None\",\"No_Exposure\", inplace = True)"
   ]
  },
  {
   "cell_type": "code",
   "execution_count": 15,
   "metadata": {},
   "outputs": [],
   "source": [
    "# Recheck for any missing values in the all columns of data\n",
    "for i in range (0,len(test.columns)):                                        # for i in range of 0 to number of columns,\n",
    "    if test[test.columns[i]].isnull().sum() != 0:                            # if total amount of null values cells is not 0,\n",
    "        print(str(test.columns[i]), test[test.columns[i]].isnull().sum())    # print the column name, the amount of null values\n",
    "    else:\n",
    "        pass                                                                 # else pass  \n",
    "    \n",
    "# No columns now have null values."
   ]
  },
  {
   "cell_type": "markdown",
   "metadata": {},
   "source": [
    "### 4. Check contents of each column to see if any abnormality exist"
   ]
  },
  {
   "cell_type": "code",
   "execution_count": 16,
   "metadata": {},
   "outputs": [
    {
     "data": {
      "text/plain": [
       "array(['C (all)', 'FV', 'I (all)', 'RH', 'RL', 'RM'], dtype=object)"
      ]
     },
     "execution_count": 16,
     "metadata": {},
     "output_type": "execute_result"
    }
   ],
   "source": [
    "#Checking contents for each column to see if any abnormality exist\n",
    "np.unique(test['MS Zoning'])\n",
    "\n",
    "# Replace certain columns to remove the spacing"
   ]
  },
  {
   "cell_type": "code",
   "execution_count": 17,
   "metadata": {},
   "outputs": [],
   "source": [
    "# Replace cells in 'Ms Zoning' from \"A (agr)\" to \"A\", from \"C (all)\" to \"C\", from \"I (all)\", \"I\"\n",
    "test['MS Zoning'].replace(\"C (all)\",\"C\", inplace = True)\n",
    "test['MS Zoning'].replace(\"I (all)\",\"I\", inplace = True)"
   ]
  },
  {
   "cell_type": "code",
   "execution_count": 18,
   "metadata": {},
   "outputs": [
    {
     "data": {
      "text/plain": [
       "array(['C', 'FV', 'I', 'RH', 'RL', 'RM'], dtype=object)"
      ]
     },
     "execution_count": 18,
     "metadata": {},
     "output_type": "execute_result"
    }
   ],
   "source": [
    "# Rechecking contents for column 'Ms Zoning'\n",
    "np.unique(test['MS Zoning'])\n",
    "\n",
    "# Now no spacing in cell"
   ]
  },
  {
   "cell_type": "code",
   "execution_count": 19,
   "metadata": {},
   "outputs": [
    {
     "data": {
      "text/plain": [
       "array(['AsbShng', 'AsphShn', 'BrkComm', 'BrkFace', 'CemntBd', 'HdBoard',\n",
       "       'MetalSd', 'Plywood', 'PreCast', 'Stucco', 'VinylSd', 'Wd Sdng',\n",
       "       'WdShing'], dtype=object)"
      ]
     },
     "execution_count": 19,
     "metadata": {},
     "output_type": "execute_result"
    }
   ],
   "source": [
    "#Checking contents for each column to see if any abnormality exist\n",
    "np.unique(test['Exterior 1st'])\n",
    "\n",
    "# Replace certain columns to remove the spacing"
   ]
  },
  {
   "cell_type": "code",
   "execution_count": 20,
   "metadata": {},
   "outputs": [],
   "source": [
    "# Replace cells in 'Exterior 1st' from \"Wd Sdng\" to \"WdSdng\" to remove spacing\n",
    "test['Exterior 1st'].replace(\"Wd Sdng\",\"WdSdng\", inplace = True)"
   ]
  },
  {
   "cell_type": "code",
   "execution_count": 21,
   "metadata": {},
   "outputs": [
    {
     "data": {
      "text/plain": [
       "array(['AsbShng', 'AsphShn', 'BrkComm', 'BrkFace', 'CemntBd', 'HdBoard',\n",
       "       'MetalSd', 'Plywood', 'PreCast', 'Stucco', 'VinylSd', 'WdSdng',\n",
       "       'WdShing'], dtype=object)"
      ]
     },
     "execution_count": 21,
     "metadata": {},
     "output_type": "execute_result"
    }
   ],
   "source": [
    "# Rechecking contents for column 'Bldg Type'\n",
    "np.unique(test['Exterior 1st'])\n",
    "\n",
    "# Now no spacing in cell"
   ]
  },
  {
   "cell_type": "code",
   "execution_count": 22,
   "metadata": {},
   "outputs": [
    {
     "data": {
      "text/plain": [
       "array(['AsbShng', 'AsphShn', 'Brk Cmn', 'BrkFace', 'CBlock', 'CmentBd',\n",
       "       'HdBoard', 'ImStucc', 'MetalSd', 'Other', 'Plywood', 'PreCast',\n",
       "       'Stucco', 'VinylSd', 'Wd Sdng', 'Wd Shng'], dtype=object)"
      ]
     },
     "execution_count": 22,
     "metadata": {},
     "output_type": "execute_result"
    }
   ],
   "source": [
    "#Checking contents for each column to see if any abnormality exist\n",
    "np.unique(test['Exterior 2nd'])\n",
    "\n",
    "# Replace certain columns to remove the spacing"
   ]
  },
  {
   "cell_type": "code",
   "execution_count": 23,
   "metadata": {},
   "outputs": [],
   "source": [
    "# Replace cells in 'Exterior 2nd' from \"Brk Cmn\" to \"BrkComm\", \"Wd Sdng\" to \"WdSdng\", \"Wd Shng\" to \"WdShing\" to remove spacing\n",
    "test['Exterior 2nd'].replace(\"Brk Cmn\",\"BrkComm\", inplace = True)\n",
    "test['Exterior 2nd'].replace(\"Wd Sdng\",\"WdSdng\", inplace = True)\n",
    "test['Exterior 2nd'].replace(\"Wd Shng\",\"WdShing\", inplace = True)"
   ]
  },
  {
   "cell_type": "code",
   "execution_count": 24,
   "metadata": {},
   "outputs": [
    {
     "data": {
      "text/plain": [
       "array(['AsbShng', 'AsphShn', 'BrkComm', 'BrkFace', 'CBlock', 'CmentBd',\n",
       "       'HdBoard', 'ImStucc', 'MetalSd', 'Other', 'Plywood', 'PreCast',\n",
       "       'Stucco', 'VinylSd', 'WdSdng', 'WdShing'], dtype=object)"
      ]
     },
     "execution_count": 24,
     "metadata": {},
     "output_type": "execute_result"
    }
   ],
   "source": [
    "# Rechecking contents for column 'Bldg Type'\n",
    "np.unique(test['Exterior 2nd'])\n",
    "\n",
    "# Now no spacing in cell"
   ]
  },
  {
   "cell_type": "markdown",
   "metadata": {},
   "source": [
    "### 5. Changing Column Names"
   ]
  },
  {
   "cell_type": "code",
   "execution_count": 25,
   "metadata": {},
   "outputs": [],
   "source": [
    "# Lowercasifying all letters in column names\n",
    "test.columns = test.columns.str.lower()"
   ]
  },
  {
   "cell_type": "code",
   "execution_count": 26,
   "metadata": {},
   "outputs": [],
   "source": [
    "# Rename all columns by replacing \" \" to \"_\"\n",
    "for i in range(0,len(test.columns)):                                                        # for i in range from 0 to no of columns,\n",
    "    if (test.columns.str.contains(\" \")[i]) == True:                                         # if the name of column contains space,\n",
    "        test = test.rename(columns={test.columns[i]: test.columns[i].replace(' ',\"_\")})  # replace the space with \"_\"\n"
   ]
  },
  {
   "cell_type": "code",
   "execution_count": 27,
   "metadata": {},
   "outputs": [
    {
     "data": {
      "text/plain": [
       "Index(['id', 'pid', 'ms_subclass', 'ms_zoning', 'lot_frontage', 'lot_area',\n",
       "       'street', 'alley', 'lot_shape', 'land_contour', 'utilities',\n",
       "       'lot_config', 'land_slope', 'neighborhood', 'condition_1',\n",
       "       'condition_2', 'bldg_type', 'house_style', 'overall_qual',\n",
       "       'overall_cond', 'year_built', 'year_remod/add', 'roof_style',\n",
       "       'roof_matl', 'exterior_1st', 'exterior_2nd', 'mas_vnr_type',\n",
       "       'mas_vnr_area', 'exter_qual', 'exter_cond', 'foundation', 'bsmt_qual',\n",
       "       'bsmt_cond', 'bsmt_exposure', 'bsmtfin_type_1', 'bsmtfin_sf_1',\n",
       "       'bsmtfin_type_2', 'bsmtfin_sf_2', 'bsmt_unf_sf', 'total_bsmt_sf',\n",
       "       'heating', 'heating_qc', 'central_air', 'electrical', '1st_flr_sf',\n",
       "       '2nd_flr_sf', 'low_qual_fin_sf', 'gr_liv_area', 'bsmt_full_bath',\n",
       "       'bsmt_half_bath', 'full_bath', 'half_bath', 'bedroom_abvgr',\n",
       "       'kitchen_abvgr', 'kitchen_qual', 'totrms_abvgrd', 'functional',\n",
       "       'fireplaces', 'fireplace_qu', 'garage_type', 'garage_finish',\n",
       "       'garage_cars', 'garage_area', 'garage_qual', 'garage_cond',\n",
       "       'paved_drive', 'wood_deck_sf', 'open_porch_sf', 'enclosed_porch',\n",
       "       '3ssn_porch', 'screen_porch', 'pool_area', 'pool_qc', 'fence',\n",
       "       'misc_feature', 'misc_val', 'mo_sold', 'yr_sold', 'sale_type'],\n",
       "      dtype='object')"
      ]
     },
     "execution_count": 27,
     "metadata": {},
     "output_type": "execute_result"
    }
   ],
   "source": [
    "# Checking the name of columns again\n",
    "test.columns\n",
    "\n",
    "# All column names are successfully changed."
   ]
  },
  {
   "cell_type": "markdown",
   "metadata": {},
   "source": [
    "### 6. Drop Unnecessary column"
   ]
  },
  {
   "cell_type": "code",
   "execution_count": 28,
   "metadata": {},
   "outputs": [],
   "source": [
    "# The column \"gr_liv_area\" is an addition of 3 columns \"1st_flr_sf\",\"2nd_flr_sf\", and \"low_qual_fin_sf\".\n",
    "# Hence, \"gr_liv_area\" is to be dropped to solve the collineraity within these 4 columns\n",
    "test.drop('gr_liv_area', axis=1, inplace = True)\n",
    "\n",
    "# Dropping the \"pid\" and \"id\" column as well, as it is repetitive. We already have the ID column to identify a house, hence pid is redundant.\n",
    "test.drop('pid', axis=1, inplace = True)"
   ]
  },
  {
   "cell_type": "code",
   "execution_count": 29,
   "metadata": {},
   "outputs": [
    {
     "data": {
      "text/plain": [
       "Index(['id', 'ms_subclass', 'ms_zoning', 'lot_frontage', 'lot_area', 'street',\n",
       "       'alley', 'lot_shape', 'land_contour', 'utilities', 'lot_config',\n",
       "       'land_slope', 'neighborhood', 'condition_1', 'condition_2', 'bldg_type',\n",
       "       'house_style', 'overall_qual', 'overall_cond', 'year_built',\n",
       "       'year_remod/add', 'roof_style', 'roof_matl', 'exterior_1st',\n",
       "       'exterior_2nd', 'mas_vnr_type', 'mas_vnr_area', 'exter_qual',\n",
       "       'exter_cond', 'foundation', 'bsmt_qual', 'bsmt_cond', 'bsmt_exposure',\n",
       "       'bsmtfin_type_1', 'bsmtfin_sf_1', 'bsmtfin_type_2', 'bsmtfin_sf_2',\n",
       "       'bsmt_unf_sf', 'total_bsmt_sf', 'heating', 'heating_qc', 'central_air',\n",
       "       'electrical', '1st_flr_sf', '2nd_flr_sf', 'low_qual_fin_sf',\n",
       "       'bsmt_full_bath', 'bsmt_half_bath', 'full_bath', 'half_bath',\n",
       "       'bedroom_abvgr', 'kitchen_abvgr', 'kitchen_qual', 'totrms_abvgrd',\n",
       "       'functional', 'fireplaces', 'fireplace_qu', 'garage_type',\n",
       "       'garage_finish', 'garage_cars', 'garage_area', 'garage_qual',\n",
       "       'garage_cond', 'paved_drive', 'wood_deck_sf', 'open_porch_sf',\n",
       "       'enclosed_porch', '3ssn_porch', 'screen_porch', 'pool_area', 'pool_qc',\n",
       "       'fence', 'misc_feature', 'misc_val', 'mo_sold', 'yr_sold', 'sale_type'],\n",
       "      dtype='object')"
      ]
     },
     "execution_count": 29,
     "metadata": {},
     "output_type": "execute_result"
    }
   ],
   "source": [
    "# Checking the name of columns again\n",
    "test.columns\n",
    "\n",
    "# \"gr_liv_area\" and \"pid\" is being removed."
   ]
  },
  {
   "cell_type": "markdown",
   "metadata": {},
   "source": [
    "### 7. Changing Contents of Columns"
   ]
  },
  {
   "cell_type": "code",
   "execution_count": 30,
   "metadata": {},
   "outputs": [],
   "source": [
    "# 1. Change content of column \"central_air\" from \" Yes\" \"No\" to 1 and 0\n",
    "test['central_air'].replace({\"Y\":1, \"N\":0}, inplace = True)"
   ]
  },
  {
   "cell_type": "code",
   "execution_count": 31,
   "metadata": {},
   "outputs": [],
   "source": [
    "# 2. Change'mas_vnr_type' column of the None value to No\n",
    "test['mas_vnr_type'].replace(\"None\",\"No\", inplace = True)"
   ]
  },
  {
   "cell_type": "code",
   "execution_count": 32,
   "metadata": {},
   "outputs": [],
   "source": [
    "# Changing the ordinal columns from categories to numerical values\n",
    "test[\"exter_qual\"].replace({\"Ex\": 5, \"Gd\":4, \"TA\":3, \"Fa\":2, \"Po\":1}, inplace = True)\n",
    "test[\"exter_cond\"].replace({\"Ex\": 5, \"Gd\":4, \"TA\":3, \"Fa\":2, \"Po\":1}, inplace = True)\n",
    "test[\"bsmt_qual\"].replace({\"Ex\": 5, \"Gd\":4, \"TA\":3, \"Fa\":2, \"Po\":1, \"No\":0}, inplace = True)\n",
    "test[\"bsmt_cond\"].replace({\"Ex\": 5, \"Gd\":4, \"TA\":3, \"Fa\":2, \"Po\":1, \"No\":0}, inplace = True)\n",
    "test[\"heating_qc\"].replace({\"Ex\": 5, \"Gd\":4, \"TA\":3, \"Fa\":2, \"Po\":1}, inplace = True)\n",
    "test[\"kitchen_qual\"].replace({\"Ex\": 5, \"Gd\":4, \"TA\":3, \"Fa\":2, \"Po\":1}, inplace = True)\n",
    "test[\"fireplace_qu\"].replace({\"Ex\": 5, \"Gd\":4, \"TA\":3, \"Fa\":2, \"Po\":1, \"No\":0}, inplace = True)\n",
    "test[\"garage_qual\"].replace({\"Ex\": 5, \"Gd\":4, \"TA\":3, \"Fa\":2, \"Po\":1, \"No\":0}, inplace = True)\n",
    "test[\"garage_cond\"].replace({\"Ex\": 5, \"Gd\":4, \"TA\":3, \"Fa\":2, \"Po\":1, \"No\":0}, inplace = True)\n",
    "test[\"pool_qc\"].replace({\"Ex\": 5, \"Gd\":4, \"TA\":3, \"Fa\":2, \"No\":0}, inplace = True)\n",
    "test['bsmt_exposure'].replace({\"Gd\": 3, \"Av\":2, \"Mn\":1, \"No_Basement\":0, \"No\":0}, inplace = True)"
   ]
  },
  {
   "cell_type": "code",
   "execution_count": 33,
   "metadata": {},
   "outputs": [],
   "source": [
    "# Changing the ordinal columns from categories to numerical values\n",
    "test[\"lot_shape\"].replace({\"IR3\": 1, \"IR2\":2, \"IR1\":3, \"Reg\":4}, inplace = True)\n",
    "test[\"utilities\"].replace({\"AllPub\": 4, \"NoSewr\":3, \"NoSeWa\":2, \"ELO\":1}, inplace = True)\n",
    "test[\"bsmtfin_type_1\"].replace({\"GLQ\": 6, \"ALQ\": 5, \"BLQ\": 4, \"Rec\":3, \"LwQ\":2, \"Unf\":1, \"No\":0}, inplace = True)\n",
    "test[\"bsmtfin_type_2\"].replace({\"GLQ\": 6, \"ALQ\": 5, \"BLQ\": 4, \"Rec\":3, \"LwQ\":2, \"Unf\":1, \"No\":0}, inplace = True)\n",
    "test[\"functional\"].replace({\"Typ\": 8, \"Min1\": 7, \"Min2\": 6, \"Mod\":5, \"Maj1\":4, \"Maj2\":3, \"Sev\": 2, \"Sal\":1}, inplace = True)\n",
    "test[\"garage_finish\"].replace({\"Fin\":3, \"RFn\":2, \"Unf\":1, \"No\":0}, inplace = True)\n",
    "test[\"paved_drive\"].replace({\"Y\":2, \"P\":1, \"N\":0}, inplace = True)"
   ]
  },
  {
   "cell_type": "markdown",
   "metadata": {},
   "source": [
    "### 8. Save Dataset"
   ]
  },
  {
   "cell_type": "code",
   "execution_count": 35,
   "metadata": {},
   "outputs": [],
   "source": [
    "#Save dataset to csv as a modified dataset\n",
    "test.to_csv('../data/test_modified.csv', index = False)"
   ]
  },
  {
   "cell_type": "markdown",
   "metadata": {},
   "source": [
    "### 9. Dummify Columns"
   ]
  },
  {
   "cell_type": "code",
   "execution_count": 36,
   "metadata": {},
   "outputs": [],
   "source": [
    "# Dummify categorical columns for regressions to take place later\n",
    "test_modified = pd.get_dummies(columns=['ms_subclass','ms_zoning','street','alley','land_contour','lot_config','land_slope', \n",
    "                                'neighborhood','condition_1','condition_2','bldg_type','house_style','roof_style', 'roof_matl',\n",
    "                                'exterior_1st','exterior_2nd','mas_vnr_type','foundation','heating','electrical','garage_type',\n",
    "                                'fence','misc_feature','sale_type'], drop_first=True, data = test)"
   ]
  },
  {
   "cell_type": "code",
   "execution_count": 37,
   "metadata": {},
   "outputs": [
    {
     "data": {
      "text/plain": [
       "(878, 204)"
      ]
     },
     "execution_count": 37,
     "metadata": {},
     "output_type": "execute_result"
    }
   ],
   "source": [
    "# Checking the number of columns after dummifying\n",
    "test_modified.shape\n",
    "\n",
    "# There are 204 columns"
   ]
  },
  {
   "cell_type": "markdown",
   "metadata": {},
   "source": [
    "### 10. Match columns with train.csv"
   ]
  },
  {
   "cell_type": "markdown",
   "metadata": {},
   "source": [
    "#### Find the columns with least correlation with 'saleprice' and drop those columns"
   ]
  },
  {
   "cell_type": "code",
   "execution_count": 38,
   "metadata": {},
   "outputs": [],
   "source": [
    "# Drop the columns that is filtered away in train.csv with r < 0.05 vs 'saleprice' column\n",
    "test_modified.drop(columns=['foundation_Wood', 'neighborhood_Greens','sale_type_CWD', 'roof_matl_Tar&Grv', 'misc_val', \n",
    "                            'misc_feature_Othr', 'condition_2_Norm', 'exterior_2nd_BrkFace','house_style_2.5Unf', \n",
    "                            'condition_1_RRNn', 'land_slope_Sev', 'roof_style_Shed','bsmtfin_type_2', 'lot_config_FR3', \n",
    "                            'alley_Pave', 'lot_config_FR2','condition_1_RRAn', 'yr_sold', 'bsmtfin_sf_2', \n",
    "                            'neighborhood_SawyerW','sale_type_ConLI', 'roof_style_Mansard', 'house_style_1Story',\n",
    "                            'pool_area','exterior_2nd_AsphShn', 'foundation_Stone', 'neighborhood_Gilbert',\n",
    "                            'exterior_1st_BrkComm','condition_1_RRNe','neighborhood_Blueste', 'ms_subclass_75', \n",
    "                            'exterior_1st_BrkFace','utilities', 'exterior_1st_AsphShn', 'pool_qc', 'sale_type_Oth',\n",
    "                            'ms_subclass_80', 'mo_sold','land_contour_Low', 'sale_type_Con', 'ms_zoning_RH','ms_zoning_I', \n",
    "                            'ms_subclass_40', 'neighborhood_NWAmes', 'exterior_2nd_CBlock', 'sale_type_ConLw',\n",
    "                            'neighborhood_Mitchel', 'exter_cond', 'heating_GasW', 'exterior_1st_Plywood', 'ms_subclass_85',\n",
    "                            'fence_MnWw', 'low_qual_fin_sf', 'roof_style_Gambrel','house_style_SLvl', 'house_style_2.5Fin', \n",
    "                            'exterior_2nd_ImStucc','bsmt_half_bath', 'roof_matl_WdShake', 'neighborhood_NPkVill',\n",
    "                            'misc_feature_Shed', 'exterior_2nd_BrkComm', 'misc_feature_No', '3ssn_porch', \n",
    "                            'exterior_1st_WdShing'], axis=1, inplace = True)"
   ]
  },
  {
   "cell_type": "code",
   "execution_count": 39,
   "metadata": {},
   "outputs": [],
   "source": [
    "# Drop the columns that is filtered away in train.csv that have correlation > 0.85 with each other\n",
    "test_modified.drop(columns=['exterior_1st_CemntBd','bldg_type_2fmCon','exterior_1st_VinylSd', 'exterior_2nd_MetalSd',\n",
    "                            'garage_qual','garage_cars','exterior_1st_HdBoard','ms_zoning_FV','ms_subclass_45','fireplace_qu',\n",
    "                            'exterior_2nd_WdSdng'], axis=1, inplace = True)"
   ]
  },
  {
   "cell_type": "code",
   "execution_count": 40,
   "metadata": {},
   "outputs": [],
   "source": [
    "# Drop the columns that appears in test.csv but not train.csv\n",
    "test_modified.drop(columns=['roof_matl_Metal','roof_matl_Roll','exterior_1st_PreCast', 'exterior_2nd_Other',\n",
    "                            'exterior_2nd_PreCast','mas_vnr_type_CBlock','heating_GasA',\n",
    "                            'sale_type_VWD'], axis=1, inplace = True)"
   ]
  },
  {
   "cell_type": "code",
   "execution_count": 41,
   "metadata": {},
   "outputs": [],
   "source": [
    "# Add columns that appears in train.csv but not test.csv, all the values to be set as zero.\n",
    "test_modified['ms_zoning_C'] = 0\n",
    "test_modified['condition_2_PosN'] = 0\n",
    "test_modified['roof_matl_CompShg'] = 0\n",
    "test_modified['heating_Wall'] = 0"
   ]
  },
  {
   "cell_type": "markdown",
   "metadata": {},
   "source": [
    "### 11. Save Dataset Again"
   ]
  },
  {
   "cell_type": "code",
   "execution_count": 43,
   "metadata": {},
   "outputs": [],
   "source": [
    "#Save dataset to csv as a modified dataset\n",
    "test_modified.to_csv('../data/test_modified_dummified.csv', index = False)"
   ]
  }
 ],
 "metadata": {
  "kernelspec": {
   "display_name": "Python 3",
   "language": "python",
   "name": "python3"
  },
  "language_info": {
   "codemirror_mode": {
    "name": "ipython",
    "version": 3
   },
   "file_extension": ".py",
   "mimetype": "text/x-python",
   "name": "python",
   "nbconvert_exporter": "python",
   "pygments_lexer": "ipython3",
   "version": "3.8.5"
  }
 },
 "nbformat": 4,
 "nbformat_minor": 4
}
