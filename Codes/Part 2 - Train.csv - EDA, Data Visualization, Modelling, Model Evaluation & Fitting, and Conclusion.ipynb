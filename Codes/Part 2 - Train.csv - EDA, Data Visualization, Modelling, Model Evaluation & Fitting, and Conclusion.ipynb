{
 "cells": [
  {
   "cell_type": "markdown",
   "metadata": {},
   "source": [
    "<img src=\"http://imgur.com/1ZcRyrc.png\" style=\"float: left; margin: 20px; height: 100px\">\n",
    "\n",
    "# Project 2: Ames Housing Data and Kaggle Challenge\n",
    "#                  Part 2 - Train.csv - EDA, Data Visualization, Modelling, Model Evaluation & Fitting, Conclusion"
   ]
  },
  {
   "cell_type": "markdown",
   "metadata": {},
   "source": [
    "### Contents:\n",
    "- [Exploratory Data Analysis](#2.-Exploratory-Data-Analysis)\n",
    "- [Data Visualization](#Data-Visualization-for-EDA)\n",
    "- [Modelling](#3.-Modelling)\n",
    "    - [Linear Regression Model](#3.-Linear-Regression-Model)\n",
    "    - [Ridge Model](#4.-Ridge-Model)\n",
    "    - [Lasso Model](#5.-Lasso-Model)\n",
    "    - [Baseline](#6.-Calculate-baseline-RMSE)\n",
    "- [Model Evaluation](#Model-Evaluation)\n",
    "- [Model Fitting](#Model-Fitting)\n",
    "- [Conclusions and Future Works](#Conclusions-and-Future-Works)"
   ]
  },
  {
   "cell_type": "markdown",
   "metadata": {},
   "source": [
    "### Import all necessary libraries"
   ]
  },
  {
   "cell_type": "code",
   "execution_count": 1,
   "metadata": {},
   "outputs": [],
   "source": [
    "# Import all necessary libraries\n",
    "import pandas as pd\n",
    "import numpy as np\n",
    "import matplotlib.pyplot as plt\n",
    "import seaborn as sns\n",
    "from sklearn.linear_model import LinearRegression, LassoCV, RidgeCV, Ridge, Lasso\n",
    "from sklearn import metrics\n",
    "import scipy.stats as stats\n",
    "from sklearn.model_selection import train_test_split, cross_val_score, cross_val_predict\n",
    "from sklearn.preprocessing import PolynomialFeatures, StandardScaler\n",
    "from sklearn.metrics import r2_score\n",
    "\n",
    "%matplotlib inline"
   ]
  },
  {
   "cell_type": "markdown",
   "metadata": {},
   "source": [
    "### 1. Read and understand the dataset"
   ]
  },
  {
   "cell_type": "code",
   "execution_count": 2,
   "metadata": {},
   "outputs": [],
   "source": [
    "# Read from train_modified_dummified.csv and save it in \"train_dummified\" as dataframe\n",
    "train_dummified = pd.read_csv(\"../data/train_modified_dummified.csv\")"
   ]
  },
  {
   "cell_type": "code",
   "execution_count": 3,
   "metadata": {},
   "outputs": [
    {
     "data": {
      "text/html": [
       "<div>\n",
       "<style scoped>\n",
       "    .dataframe tbody tr th:only-of-type {\n",
       "        vertical-align: middle;\n",
       "    }\n",
       "\n",
       "    .dataframe tbody tr th {\n",
       "        vertical-align: top;\n",
       "    }\n",
       "\n",
       "    .dataframe thead th {\n",
       "        text-align: right;\n",
       "    }\n",
       "</style>\n",
       "<table border=\"1\" class=\"dataframe\">\n",
       "  <thead>\n",
       "    <tr style=\"text-align: right;\">\n",
       "      <th></th>\n",
       "      <th>id</th>\n",
       "      <th>lot_frontage</th>\n",
       "      <th>lot_area</th>\n",
       "      <th>lot_shape</th>\n",
       "      <th>utilities</th>\n",
       "      <th>overall_qual</th>\n",
       "      <th>overall_cond</th>\n",
       "      <th>year_built</th>\n",
       "      <th>year_remod/add</th>\n",
       "      <th>mas_vnr_area</th>\n",
       "      <th>...</th>\n",
       "      <th>misc_feature_Shed</th>\n",
       "      <th>misc_feature_TenC</th>\n",
       "      <th>sale_type_CWD</th>\n",
       "      <th>sale_type_Con</th>\n",
       "      <th>sale_type_ConLD</th>\n",
       "      <th>sale_type_ConLI</th>\n",
       "      <th>sale_type_ConLw</th>\n",
       "      <th>sale_type_New</th>\n",
       "      <th>sale_type_Oth</th>\n",
       "      <th>sale_type_WD</th>\n",
       "    </tr>\n",
       "  </thead>\n",
       "  <tbody>\n",
       "    <tr>\n",
       "      <th>0</th>\n",
       "      <td>109</td>\n",
       "      <td>0.0</td>\n",
       "      <td>13517</td>\n",
       "      <td>3</td>\n",
       "      <td>4</td>\n",
       "      <td>6</td>\n",
       "      <td>8</td>\n",
       "      <td>1976</td>\n",
       "      <td>2005</td>\n",
       "      <td>289.0</td>\n",
       "      <td>...</td>\n",
       "      <td>0</td>\n",
       "      <td>0</td>\n",
       "      <td>0</td>\n",
       "      <td>0</td>\n",
       "      <td>0</td>\n",
       "      <td>0</td>\n",
       "      <td>0</td>\n",
       "      <td>0</td>\n",
       "      <td>0</td>\n",
       "      <td>1</td>\n",
       "    </tr>\n",
       "    <tr>\n",
       "      <th>1</th>\n",
       "      <td>544</td>\n",
       "      <td>43.0</td>\n",
       "      <td>11492</td>\n",
       "      <td>3</td>\n",
       "      <td>4</td>\n",
       "      <td>7</td>\n",
       "      <td>5</td>\n",
       "      <td>1996</td>\n",
       "      <td>1997</td>\n",
       "      <td>132.0</td>\n",
       "      <td>...</td>\n",
       "      <td>0</td>\n",
       "      <td>0</td>\n",
       "      <td>0</td>\n",
       "      <td>0</td>\n",
       "      <td>0</td>\n",
       "      <td>0</td>\n",
       "      <td>0</td>\n",
       "      <td>0</td>\n",
       "      <td>0</td>\n",
       "      <td>1</td>\n",
       "    </tr>\n",
       "    <tr>\n",
       "      <th>2</th>\n",
       "      <td>153</td>\n",
       "      <td>68.0</td>\n",
       "      <td>7922</td>\n",
       "      <td>4</td>\n",
       "      <td>4</td>\n",
       "      <td>5</td>\n",
       "      <td>7</td>\n",
       "      <td>1953</td>\n",
       "      <td>2007</td>\n",
       "      <td>0.0</td>\n",
       "      <td>...</td>\n",
       "      <td>0</td>\n",
       "      <td>0</td>\n",
       "      <td>0</td>\n",
       "      <td>0</td>\n",
       "      <td>0</td>\n",
       "      <td>0</td>\n",
       "      <td>0</td>\n",
       "      <td>0</td>\n",
       "      <td>0</td>\n",
       "      <td>1</td>\n",
       "    </tr>\n",
       "    <tr>\n",
       "      <th>3</th>\n",
       "      <td>318</td>\n",
       "      <td>73.0</td>\n",
       "      <td>9802</td>\n",
       "      <td>4</td>\n",
       "      <td>4</td>\n",
       "      <td>5</td>\n",
       "      <td>5</td>\n",
       "      <td>2006</td>\n",
       "      <td>2007</td>\n",
       "      <td>0.0</td>\n",
       "      <td>...</td>\n",
       "      <td>0</td>\n",
       "      <td>0</td>\n",
       "      <td>0</td>\n",
       "      <td>0</td>\n",
       "      <td>0</td>\n",
       "      <td>0</td>\n",
       "      <td>0</td>\n",
       "      <td>0</td>\n",
       "      <td>0</td>\n",
       "      <td>1</td>\n",
       "    </tr>\n",
       "    <tr>\n",
       "      <th>4</th>\n",
       "      <td>255</td>\n",
       "      <td>82.0</td>\n",
       "      <td>14235</td>\n",
       "      <td>3</td>\n",
       "      <td>4</td>\n",
       "      <td>6</td>\n",
       "      <td>8</td>\n",
       "      <td>1900</td>\n",
       "      <td>1993</td>\n",
       "      <td>0.0</td>\n",
       "      <td>...</td>\n",
       "      <td>0</td>\n",
       "      <td>0</td>\n",
       "      <td>0</td>\n",
       "      <td>0</td>\n",
       "      <td>0</td>\n",
       "      <td>0</td>\n",
       "      <td>0</td>\n",
       "      <td>0</td>\n",
       "      <td>0</td>\n",
       "      <td>1</td>\n",
       "    </tr>\n",
       "  </tbody>\n",
       "</table>\n",
       "<p>5 rows × 217 columns</p>\n",
       "</div>"
      ],
      "text/plain": [
       "    id  lot_frontage  lot_area  lot_shape  utilities  overall_qual  \\\n",
       "0  109           0.0     13517          3          4             6   \n",
       "1  544          43.0     11492          3          4             7   \n",
       "2  153          68.0      7922          4          4             5   \n",
       "3  318          73.0      9802          4          4             5   \n",
       "4  255          82.0     14235          3          4             6   \n",
       "\n",
       "   overall_cond  year_built  year_remod/add  mas_vnr_area  ...  \\\n",
       "0             8        1976            2005         289.0  ...   \n",
       "1             5        1996            1997         132.0  ...   \n",
       "2             7        1953            2007           0.0  ...   \n",
       "3             5        2006            2007           0.0  ...   \n",
       "4             8        1900            1993           0.0  ...   \n",
       "\n",
       "   misc_feature_Shed  misc_feature_TenC  sale_type_CWD  sale_type_Con  \\\n",
       "0                  0                  0              0              0   \n",
       "1                  0                  0              0              0   \n",
       "2                  0                  0              0              0   \n",
       "3                  0                  0              0              0   \n",
       "4                  0                  0              0              0   \n",
       "\n",
       "   sale_type_ConLD  sale_type_ConLI  sale_type_ConLw  sale_type_New  \\\n",
       "0                0                0                0              0   \n",
       "1                0                0                0              0   \n",
       "2                0                0                0              0   \n",
       "3                0                0                0              0   \n",
       "4                0                0                0              0   \n",
       "\n",
       "   sale_type_Oth  sale_type_WD   \n",
       "0              0              1  \n",
       "1              0              1  \n",
       "2              0              1  \n",
       "3              0              1  \n",
       "4              0              1  \n",
       "\n",
       "[5 rows x 217 columns]"
      ]
     },
     "execution_count": 3,
     "metadata": {},
     "output_type": "execute_result"
    }
   ],
   "source": [
    "# Print 1st 5 rows of dataframe\n",
    "train_dummified.head()"
   ]
  },
  {
   "cell_type": "code",
   "execution_count": 4,
   "metadata": {},
   "outputs": [
    {
     "data": {
      "text/plain": [
       "(2051, 217)"
      ]
     },
     "execution_count": 4,
     "metadata": {},
     "output_type": "execute_result"
    }
   ],
   "source": [
    "#Check number of rows and columns in dataset\n",
    "train_dummified.shape\n",
    "\n",
    "# train_dummified dataset have 2051 rows and 217 columns"
   ]
  },
  {
   "cell_type": "code",
   "execution_count": 5,
   "metadata": {},
   "outputs": [
    {
     "name": "stdout",
     "output_type": "stream",
     "text": [
      "<class 'pandas.core.frame.DataFrame'>\n",
      "RangeIndex: 2051 entries, 0 to 2050\n",
      "Columns: 217 entries, id to sale_type_WD \n",
      "dtypes: float64(10), int64(207)\n",
      "memory usage: 3.4 MB\n"
     ]
    }
   ],
   "source": [
    "# Check through the dataset info\n",
    "train_dummified.info()"
   ]
  },
  {
   "cell_type": "markdown",
   "metadata": {},
   "source": [
    "### 2. Exploratory Data Analysis"
   ]
  },
  {
   "cell_type": "markdown",
   "metadata": {},
   "source": [
    "#### Find the columns with least correlation with 'saleprice' and drop those columns"
   ]
  },
  {
   "cell_type": "code",
   "execution_count": 6,
   "metadata": {},
   "outputs": [],
   "source": [
    "# Setting to see max columns and rows\n",
    "pd.set_option('display.max_columns', None)\n",
    "pd.set_option('display.max_rows', None)"
   ]
  },
  {
   "cell_type": "code",
   "execution_count": 91,
   "metadata": {},
   "outputs": [
    {
     "data": {
      "text/html": [
       "<div>\n",
       "<style scoped>\n",
       "    .dataframe tbody tr th:only-of-type {\n",
       "        vertical-align: middle;\n",
       "    }\n",
       "\n",
       "    .dataframe tbody tr th {\n",
       "        vertical-align: top;\n",
       "    }\n",
       "\n",
       "    .dataframe thead th {\n",
       "        text-align: right;\n",
       "    }\n",
       "</style>\n",
       "<table border=\"1\" class=\"dataframe\">\n",
       "  <thead>\n",
       "    <tr style=\"text-align: right;\">\n",
       "      <th></th>\n",
       "      <th>saleprice</th>\n",
       "    </tr>\n",
       "  </thead>\n",
       "  <tbody>\n",
       "    <tr>\n",
       "      <th>id</th>\n",
       "      <td>0.051398</td>\n",
       "    </tr>\n",
       "    <tr>\n",
       "      <th>exterior_2nd_Stucco</th>\n",
       "      <td>0.051885</td>\n",
       "    </tr>\n",
       "    <tr>\n",
       "      <th>neighborhood_ClearCr</th>\n",
       "      <td>0.052503</td>\n",
       "    </tr>\n",
       "    <tr>\n",
       "      <th>condition_1_RRAe</th>\n",
       "      <td>0.053633</td>\n",
       "    </tr>\n",
       "    <tr>\n",
       "      <th>garage_type_Basment</th>\n",
       "      <td>0.055720</td>\n",
       "    </tr>\n",
       "  </tbody>\n",
       "</table>\n",
       "</div>"
      ],
      "text/plain": [
       "                      saleprice\n",
       "id                     0.051398\n",
       "exterior_2nd_Stucco    0.051885\n",
       "neighborhood_ClearCr   0.052503\n",
       "condition_1_RRAe       0.053633\n",
       "garage_type_Basment    0.055720"
      ]
     },
     "execution_count": 91,
     "metadata": {},
     "output_type": "execute_result"
    }
   ],
   "source": [
    "# Find the correlation between 'saleprice' and all the columns, sort it according to ascending order, and store it in 'saleprice_corr'\n",
    "saleprice_corr = abs(train_dummified.corr()[['saleprice']]).sort_values('saleprice', ascending=True)\n",
    "\n",
    "# print few rows of the saleprice_corr\n",
    "saleprice_corr.head()"
   ]
  },
  {
   "cell_type": "code",
   "execution_count": 8,
   "metadata": {
    "scrolled": true
   },
   "outputs": [
    {
     "data": {
      "image/png": "[encoded data removed]",
      "text/plain": [
       "<Figure size 432x288 with 2 Axes>"
      ]
     },
     "metadata": {
      "needs_background": "light"
     },
     "output_type": "display_data"
    }
   ],
   "source": [
    "# Store all the columns that have a correlation of r <0.05 into 'sale_corr_less_than_5_per'\n",
    "sale_corr_less_than_5_per = saleprice_corr.loc[saleprice_corr['saleprice'] < 0.05]\n",
    "\n",
    "# Print the heatmap of 'sale_corr_less_than_5_per_heatmap'\n",
    "sale_corr_less_than_5_per_heatmap = sns.heatmap(sale_corr_less_than_5_per, cmap='rocket_r')"
   ]
  },
  {
   "cell_type": "code",
   "execution_count": 9,
   "metadata": {},
   "outputs": [
    {
     "data": {
      "text/plain": [
       "Index(['condition_2_RRAe', 'foundation_Wood', 'neighborhood_Greens',\n",
       "       'sale_type_CWD', 'roof_matl_Tar&Grv', 'misc_val', 'misc_feature_Othr',\n",
       "       'ms_subclass_150', 'condition_2_Norm', 'exterior_2nd_BrkFace',\n",
       "       'house_style_2.5Unf', 'condition_1_RRNn', 'land_slope_Sev',\n",
       "       'neighborhood_Landmrk', 'condition_2_RRAn', 'roof_style_Shed',\n",
       "       'bsmtfin_type_2', 'lot_config_FR3', 'alley_Pave', 'lot_config_FR2',\n",
       "       'condition_1_RRAn', 'yr_sold', 'bsmtfin_sf_2', 'neighborhood_SawyerW',\n",
       "       'roof_matl_Membran', 'misc_feature_TenC', 'misc_feature_Gar2',\n",
       "       'sale_type_ConLI', 'roof_style_Mansard', 'house_style_1Story',\n",
       "       'heating_OthW', 'exterior_1st_ImStucc', 'pool_area',\n",
       "       'exterior_2nd_AsphShn', 'foundation_Stone', 'neighborhood_Gilbert',\n",
       "       'exterior_1st_BrkComm', 'exterior_2nd_Stone', 'condition_1_RRNe',\n",
       "       'neighborhood_Blueste', 'ms_subclass_75', 'exterior_1st_BrkFace',\n",
       "       'utilities', 'exterior_1st_AsphShn', 'pool_qc', 'sale_type_Oth',\n",
       "       'exterior_1st_Stone', 'ms_subclass_80', 'electrical_Mix', 'mo_sold',\n",
       "       'land_contour_Low', 'condition_2_RRNn', 'sale_type_Con', 'ms_zoning_RH',\n",
       "       'ms_zoning_I', 'ms_subclass_40', 'exterior_1st_CBlock',\n",
       "       'neighborhood_NWAmes', 'exterior_2nd_CBlock', 'sale_type_ConLw',\n",
       "       'neighborhood_Mitchel', 'exter_cond', 'heating_GasW',\n",
       "       'neighborhood_GrnHill', 'exterior_1st_Plywood', 'ms_subclass_85',\n",
       "       'fence_MnWw', 'low_qual_fin_sf', 'roof_style_Gambrel',\n",
       "       'house_style_SLvl', 'house_style_2.5Fin', 'exterior_2nd_ImStucc',\n",
       "       'bsmt_half_bath', 'roof_matl_WdShake', 'neighborhood_NPkVill',\n",
       "       'misc_feature_Shed', 'exterior_2nd_BrkComm', 'condition_2_Feedr',\n",
       "       'misc_feature_No', '3ssn_porch', 'exterior_1st_WdShing'],\n",
       "      dtype='object')"
      ]
     },
     "execution_count": 9,
     "metadata": {},
     "output_type": "execute_result"
    }
   ],
   "source": [
    "# The following columns are columns with r < 0.05 vs 'saleprice' column\n",
    "sale_corr_less_than_5_per.index"
   ]
  },
  {
   "cell_type": "code",
   "execution_count": 10,
   "metadata": {},
   "outputs": [],
   "source": [
    "# Drop the columns that have r < 0.05 vs 'saleprice' column in our main dataset\n",
    "train_dummified.drop(columns=list(sale_corr_less_than_5_per.index), inplace = True)"
   ]
  },
  {
   "cell_type": "code",
   "execution_count": 11,
   "metadata": {},
   "outputs": [
    {
     "data": {
      "text/plain": [
       "(2051, 136)"
      ]
     },
     "execution_count": 11,
     "metadata": {},
     "output_type": "execute_result"
    }
   ],
   "source": [
    "# Print the shape of 'train_dummified' dataframe\n",
    "train_dummified.shape\n",
    "\n",
    "# Currently the dataframe has 136 columns only"
   ]
  },
  {
   "cell_type": "markdown",
   "metadata": {},
   "source": [
    "#### Find the columns that are correlating with each other and drop those columns"
   ]
  },
  {
   "cell_type": "code",
   "execution_count": 92,
   "metadata": {},
   "outputs": [
    {
     "data": {
      "text/html": [
       "<div>\n",
       "<style scoped>\n",
       "    .dataframe tbody tr th:only-of-type {\n",
       "        vertical-align: middle;\n",
       "    }\n",
       "\n",
       "    .dataframe tbody tr th {\n",
       "        vertical-align: top;\n",
       "    }\n",
       "\n",
       "    .dataframe thead th {\n",
       "        text-align: right;\n",
       "    }\n",
       "</style>\n",
       "<table border=\"1\" class=\"dataframe\">\n",
       "  <thead>\n",
       "    <tr style=\"text-align: right;\">\n",
       "      <th></th>\n",
       "      <th>id</th>\n",
       "      <th>lot_frontage</th>\n",
       "      <th>lot_area</th>\n",
       "      <th>lot_shape</th>\n",
       "      <th>overall_qual</th>\n",
       "      <th>overall_cond</th>\n",
       "      <th>year_built</th>\n",
       "      <th>year_remod/add</th>\n",
       "      <th>mas_vnr_area</th>\n",
       "      <th>exter_qual</th>\n",
       "      <th>bsmt_qual</th>\n",
       "      <th>bsmt_cond</th>\n",
       "      <th>bsmt_exposure</th>\n",
       "      <th>bsmtfin_type_1</th>\n",
       "      <th>bsmtfin_sf_1</th>\n",
       "      <th>bsmt_unf_sf</th>\n",
       "      <th>total_bsmt_sf</th>\n",
       "      <th>heating_qc</th>\n",
       "      <th>central_air</th>\n",
       "      <th>1st_flr_sf</th>\n",
       "      <th>2nd_flr_sf</th>\n",
       "      <th>bsmt_full_bath</th>\n",
       "      <th>full_bath</th>\n",
       "      <th>half_bath</th>\n",
       "      <th>bedroom_abvgr</th>\n",
       "      <th>kitchen_abvgr</th>\n",
       "      <th>kitchen_qual</th>\n",
       "      <th>totrms_abvgrd</th>\n",
       "      <th>functional</th>\n",
       "      <th>fireplaces</th>\n",
       "      <th>garage_finish</th>\n",
       "      <th>garage_area</th>\n",
       "      <th>garage_cond</th>\n",
       "      <th>paved_drive</th>\n",
       "      <th>wood_deck_sf</th>\n",
       "      <th>open_porch_sf</th>\n",
       "      <th>enclosed_porch</th>\n",
       "      <th>screen_porch</th>\n",
       "      <th>saleprice</th>\n",
       "      <th>ms_subclass_30</th>\n",
       "      <th>ms_subclass_50</th>\n",
       "      <th>ms_subclass_60</th>\n",
       "      <th>ms_subclass_70</th>\n",
       "      <th>ms_subclass_90</th>\n",
       "      <th>ms_subclass_120</th>\n",
       "      <th>ms_subclass_160</th>\n",
       "      <th>ms_subclass_180</th>\n",
       "      <th>ms_subclass_190</th>\n",
       "      <th>ms_zoning_C</th>\n",
       "      <th>ms_zoning_RL</th>\n",
       "      <th>ms_zoning_RM</th>\n",
       "      <th>street_Pave</th>\n",
       "      <th>alley_No</th>\n",
       "      <th>land_contour_HLS</th>\n",
       "      <th>land_contour_Lvl</th>\n",
       "      <th>lot_config_CulDSac</th>\n",
       "      <th>lot_config_Inside</th>\n",
       "      <th>land_slope_Mod</th>\n",
       "      <th>neighborhood_BrDale</th>\n",
       "      <th>neighborhood_BrkSide</th>\n",
       "      <th>neighborhood_ClearCr</th>\n",
       "      <th>neighborhood_CollgCr</th>\n",
       "      <th>neighborhood_Crawfor</th>\n",
       "      <th>neighborhood_Edwards</th>\n",
       "      <th>neighborhood_IDOTRR</th>\n",
       "      <th>neighborhood_MeadowV</th>\n",
       "      <th>neighborhood_NAmes</th>\n",
       "      <th>neighborhood_NoRidge</th>\n",
       "      <th>neighborhood_NridgHt</th>\n",
       "      <th>neighborhood_OldTown</th>\n",
       "      <th>neighborhood_SWISU</th>\n",
       "      <th>neighborhood_Sawyer</th>\n",
       "      <th>neighborhood_Somerst</th>\n",
       "      <th>neighborhood_StoneBr</th>\n",
       "      <th>neighborhood_Timber</th>\n",
       "      <th>neighborhood_Veenker</th>\n",
       "      <th>condition_1_Feedr</th>\n",
       "      <th>condition_1_Norm</th>\n",
       "      <th>condition_1_PosA</th>\n",
       "      <th>condition_1_PosN</th>\n",
       "      <th>condition_1_RRAe</th>\n",
       "      <th>condition_2_PosA</th>\n",
       "      <th>condition_2_PosN</th>\n",
       "      <th>bldg_type_Duplex</th>\n",
       "      <th>bldg_type_Twnhs</th>\n",
       "      <th>bldg_type_TwnhsE</th>\n",
       "      <th>house_style_1.5Unf</th>\n",
       "      <th>house_style_2Story</th>\n",
       "      <th>house_style_SFoyer</th>\n",
       "      <th>roof_style_Gable</th>\n",
       "      <th>roof_style_Hip</th>\n",
       "      <th>roof_matl_CompShg</th>\n",
       "      <th>roof_matl_WdShngl</th>\n",
       "      <th>exterior_1st_MetalSd</th>\n",
       "      <th>exterior_1st_Stucco</th>\n",
       "      <th>exterior_1st_WdSdng</th>\n",
       "      <th>exterior_2nd_CmentBd</th>\n",
       "      <th>exterior_2nd_HdBoard</th>\n",
       "      <th>exterior_2nd_Plywood</th>\n",
       "      <th>exterior_2nd_Stucco</th>\n",
       "      <th>exterior_2nd_VinylSd</th>\n",
       "      <th>exterior_2nd_WdShing</th>\n",
       "      <th>mas_vnr_type_BrkFace</th>\n",
       "      <th>mas_vnr_type_No</th>\n",
       "      <th>mas_vnr_type_Stone</th>\n",
       "      <th>foundation_CBlock</th>\n",
       "      <th>foundation_PConc</th>\n",
       "      <th>foundation_Slab</th>\n",
       "      <th>heating_Grav</th>\n",
       "      <th>heating_Wall</th>\n",
       "      <th>electrical_FuseF</th>\n",
       "      <th>electrical_FuseP</th>\n",
       "      <th>electrical_SBrkr</th>\n",
       "      <th>garage_type_Attchd</th>\n",
       "      <th>garage_type_Basment</th>\n",
       "      <th>garage_type_BuiltIn</th>\n",
       "      <th>garage_type_CarPort</th>\n",
       "      <th>garage_type_Detchd</th>\n",
       "      <th>garage_type_No</th>\n",
       "      <th>fence_GdWo</th>\n",
       "      <th>fence_MnPrv</th>\n",
       "      <th>fence_No</th>\n",
       "      <th>sale_type_ConLD</th>\n",
       "      <th>sale_type_New</th>\n",
       "      <th>sale_type_WD</th>\n",
       "    </tr>\n",
       "  </thead>\n",
       "  <tbody>\n",
       "    <tr>\n",
       "      <th>id</th>\n",
       "      <td>1.000000</td>\n",
       "      <td>-0.013538</td>\n",
       "      <td>0.032872</td>\n",
       "      <td>-0.011705</td>\n",
       "      <td>-0.061483</td>\n",
       "      <td>-0.026096</td>\n",
       "      <td>-0.064444</td>\n",
       "      <td>-0.090040</td>\n",
       "      <td>-0.035808</td>\n",
       "      <td>-0.071633</td>\n",
       "      <td>-0.045040</td>\n",
       "      <td>0.008009</td>\n",
       "      <td>0.058214</td>\n",
       "      <td>-0.067089</td>\n",
       "      <td>-0.045794</td>\n",
       "      <td>0.008649</td>\n",
       "      <td>-0.038115</td>\n",
       "      <td>-0.029102</td>\n",
       "      <td>-0.047272</td>\n",
       "      <td>-0.022650</td>\n",
       "      <td>-0.008388</td>\n",
       "      <td>-0.033323</td>\n",
       "      <td>-0.059086</td>\n",
       "      <td>-0.042054</td>\n",
       "      <td>0.010605</td>\n",
       "      <td>-0.002400</td>\n",
       "      <td>-0.065466</td>\n",
       "      <td>-0.009092</td>\n",
       "      <td>-0.020809</td>\n",
       "      <td>-0.037560</td>\n",
       "      <td>-0.066017</td>\n",
       "      <td>-0.046105</td>\n",
       "      <td>-0.045039</td>\n",
       "      <td>-0.062328</td>\n",
       "      <td>-0.009045</td>\n",
       "      <td>0.001382</td>\n",
       "      <td>0.033747</td>\n",
       "      <td>0.009758</td>\n",
       "      <td>-0.051398</td>\n",
       "      <td>0.019945</td>\n",
       "      <td>0.038880</td>\n",
       "      <td>-0.022502</td>\n",
       "      <td>0.019347</td>\n",
       "      <td>0.017916</td>\n",
       "      <td>-0.025178</td>\n",
       "      <td>-0.019302</td>\n",
       "      <td>0.045694</td>\n",
       "      <td>0.036751</td>\n",
       "      <td>0.020986</td>\n",
       "      <td>-0.016586</td>\n",
       "      <td>0.040998</td>\n",
       "      <td>0.007027</td>\n",
       "      <td>-0.030947</td>\n",
       "      <td>0.026304</td>\n",
       "      <td>-0.036028</td>\n",
       "      <td>0.019913</td>\n",
       "      <td>0.010518</td>\n",
       "      <td>0.004739</td>\n",
       "      <td>-0.029336</td>\n",
       "      <td>-0.009280</td>\n",
       "      <td>0.021445</td>\n",
       "      <td>0.094991</td>\n",
       "      <td>0.074046</td>\n",
       "      <td>0.056410</td>\n",
       "      <td>0.065287</td>\n",
       "      <td>0.064018</td>\n",
       "      <td>-0.035406</td>\n",
       "      <td>-0.012925</td>\n",
       "      <td>-0.079572</td>\n",
       "      <td>-0.001695</td>\n",
       "      <td>0.029677</td>\n",
       "      <td>0.015220</td>\n",
       "      <td>-0.052401</td>\n",
       "      <td>-0.012102</td>\n",
       "      <td>0.033786</td>\n",
       "      <td>0.015350</td>\n",
       "      <td>0.021394</td>\n",
       "      <td>-0.005239</td>\n",
       "      <td>-0.006958</td>\n",
       "      <td>-0.037054</td>\n",
       "      <td>0.011465</td>\n",
       "      <td>0.012367</td>\n",
       "      <td>-0.027822</td>\n",
       "      <td>0.017916</td>\n",
       "      <td>-0.013721</td>\n",
       "      <td>-0.014701</td>\n",
       "      <td>0.023007</td>\n",
       "      <td>-0.032236</td>\n",
       "      <td>0.056106</td>\n",
       "      <td>0.007964</td>\n",
       "      <td>-0.015568</td>\n",
       "      <td>-0.037742</td>\n",
       "      <td>0.036158</td>\n",
       "      <td>0.003634</td>\n",
       "      <td>0.034089</td>\n",
       "      <td>0.056688</td>\n",
       "      <td>0.010759</td>\n",
       "      <td>-0.045291</td>\n",
       "      <td>0.006380</td>\n",
       "      <td>0.054283</td>\n",
       "      <td>-0.030440</td>\n",
       "      <td>0.002176</td>\n",
       "      <td>0.001540</td>\n",
       "      <td>0.040694</td>\n",
       "      <td>-0.077618</td>\n",
       "      <td>0.004044</td>\n",
       "      <td>-0.040557</td>\n",
       "      <td>0.003484</td>\n",
       "      <td>-0.024398</td>\n",
       "      <td>0.002287</td>\n",
       "      <td>0.039163</td>\n",
       "      <td>0.014850</td>\n",
       "      <td>-0.048535</td>\n",
       "      <td>-0.025347</td>\n",
       "      <td>-0.004136</td>\n",
       "      <td>-0.047228</td>\n",
       "      <td>0.020583</td>\n",
       "      <td>0.020147</td>\n",
       "      <td>0.034405</td>\n",
       "      <td>-0.016969</td>\n",
       "      <td>0.001283</td>\n",
       "      <td>0.013181</td>\n",
       "      <td>-0.036906</td>\n",
       "      <td>0.103437</td>\n",
       "      <td>-0.047898</td>\n",
       "    </tr>\n",
       "    <tr>\n",
       "      <th>lot_frontage</th>\n",
       "      <td>-0.013538</td>\n",
       "      <td>1.000000</td>\n",
       "      <td>0.135586</td>\n",
       "      <td>0.174018</td>\n",
       "      <td>0.114469</td>\n",
       "      <td>-0.032452</td>\n",
       "      <td>0.020571</td>\n",
       "      <td>0.058942</td>\n",
       "      <td>0.101672</td>\n",
       "      <td>0.100055</td>\n",
       "      <td>0.042790</td>\n",
       "      <td>-0.001906</td>\n",
       "      <td>0.109634</td>\n",
       "      <td>-0.047541</td>\n",
       "      <td>0.056742</td>\n",
       "      <td>0.147324</td>\n",
       "      <td>0.204375</td>\n",
       "      <td>0.062938</td>\n",
       "      <td>-0.001910</td>\n",
       "      <td>0.230839</td>\n",
       "      <td>-0.014954</td>\n",
       "      <td>0.009850</td>\n",
       "      <td>0.055042</td>\n",
       "      <td>-0.031017</td>\n",
       "      <td>0.097450</td>\n",
       "      <td>0.015079</td>\n",
       "      <td>0.106405</td>\n",
       "      <td>0.185083</td>\n",
       "      <td>-0.004607</td>\n",
       "      <td>0.038556</td>\n",
       "      <td>0.067980</td>\n",
       "      <td>0.173790</td>\n",
       "      <td>-0.001781</td>\n",
       "      <td>-0.036746</td>\n",
       "      <td>0.011388</td>\n",
       "      <td>0.095295</td>\n",
       "      <td>0.009207</td>\n",
       "      <td>0.036598</td>\n",
       "      <td>0.181456</td>\n",
       "      <td>-0.016078</td>\n",
       "      <td>-0.000349</td>\n",
       "      <td>0.047702</td>\n",
       "      <td>0.013508</td>\n",
       "      <td>0.002052</td>\n",
       "      <td>-0.165748</td>\n",
       "      <td>-0.210040</td>\n",
       "      <td>-0.074835</td>\n",
       "      <td>0.041104</td>\n",
       "      <td>0.017829</td>\n",
       "      <td>0.122958</td>\n",
       "      <td>-0.114896</td>\n",
       "      <td>-0.034417</td>\n",
       "      <td>0.063155</td>\n",
       "      <td>0.052922</td>\n",
       "      <td>-0.023623</td>\n",
       "      <td>-0.224179</td>\n",
       "      <td>0.027224</td>\n",
       "      <td>0.021489</td>\n",
       "      <td>-0.106911</td>\n",
       "      <td>-0.035744</td>\n",
       "      <td>-0.058686</td>\n",
       "      <td>0.024238</td>\n",
       "      <td>-0.024478</td>\n",
       "      <td>0.020107</td>\n",
       "      <td>-0.003033</td>\n",
       "      <td>-0.113269</td>\n",
       "      <td>0.080664</td>\n",
       "      <td>0.038712</td>\n",
       "      <td>0.199096</td>\n",
       "      <td>0.022584</td>\n",
       "      <td>-0.005251</td>\n",
       "      <td>-0.082273</td>\n",
       "      <td>-0.002825</td>\n",
       "      <td>-0.017450</td>\n",
       "      <td>0.012331</td>\n",
       "      <td>-0.016729</td>\n",
       "      <td>0.061150</td>\n",
       "      <td>-0.060412</td>\n",
       "      <td>0.085421</td>\n",
       "      <td>-0.027826</td>\n",
       "      <td>-0.037548</td>\n",
       "      <td>0.025865</td>\n",
       "      <td>0.032797</td>\n",
       "      <td>0.002052</td>\n",
       "      <td>-0.200316</td>\n",
       "      <td>-0.192726</td>\n",
       "      <td>-0.003731</td>\n",
       "      <td>-0.044615</td>\n",
       "      <td>-0.040197</td>\n",
       "      <td>-0.090847</td>\n",
       "      <td>0.090632</td>\n",
       "      <td>-0.066228</td>\n",
       "      <td>0.049325</td>\n",
       "      <td>-0.022067</td>\n",
       "      <td>0.019949</td>\n",
       "      <td>-0.014389</td>\n",
       "      <td>-0.015591</td>\n",
       "      <td>-0.075832</td>\n",
       "      <td>-0.013394</td>\n",
       "      <td>0.026438</td>\n",
       "      <td>0.108011</td>\n",
       "      <td>-0.025289</td>\n",
       "      <td>-0.022299</td>\n",
       "      <td>-0.045845</td>\n",
       "      <td>0.119481</td>\n",
       "      <td>-0.023701</td>\n",
       "      <td>0.034024</td>\n",
       "      <td>-0.011424</td>\n",
       "      <td>0.039775</td>\n",
       "      <td>-0.010264</td>\n",
       "      <td>0.012039</td>\n",
       "      <td>-0.002930</td>\n",
       "      <td>-0.004913</td>\n",
       "      <td>0.095518</td>\n",
       "      <td>-0.040351</td>\n",
       "      <td>-0.028947</td>\n",
       "      <td>-0.027684</td>\n",
       "      <td>-0.085892</td>\n",
       "      <td>-0.000627</td>\n",
       "      <td>-0.010988</td>\n",
       "      <td>-0.010620</td>\n",
       "      <td>0.011097</td>\n",
       "      <td>0.038300</td>\n",
       "      <td>0.168683</td>\n",
       "      <td>-0.120749</td>\n",
       "    </tr>\n",
       "    <tr>\n",
       "      <th>lot_area</th>\n",
       "      <td>0.032872</td>\n",
       "      <td>0.135586</td>\n",
       "      <td>1.000000</td>\n",
       "      <td>-0.301763</td>\n",
       "      <td>0.105824</td>\n",
       "      <td>-0.019185</td>\n",
       "      <td>0.036002</td>\n",
       "      <td>0.050771</td>\n",
       "      <td>0.167520</td>\n",
       "      <td>0.089220</td>\n",
       "      <td>0.060759</td>\n",
       "      <td>-0.010900</td>\n",
       "      <td>0.207065</td>\n",
       "      <td>0.042530</td>\n",
       "      <td>0.215648</td>\n",
       "      <td>0.041544</td>\n",
       "      <td>0.277478</td>\n",
       "      <td>0.022100</td>\n",
       "      <td>0.057157</td>\n",
       "      <td>0.381593</td>\n",
       "      <td>0.029398</td>\n",
       "      <td>0.113283</td>\n",
       "      <td>0.125601</td>\n",
       "      <td>0.049995</td>\n",
       "      <td>0.139060</td>\n",
       "      <td>-0.013484</td>\n",
       "      <td>0.119339</td>\n",
       "      <td>0.238724</td>\n",
       "      <td>-0.086360</td>\n",
       "      <td>0.289467</td>\n",
       "      <td>0.124476</td>\n",
       "      <td>0.263145</td>\n",
       "      <td>0.091729</td>\n",
       "      <td>-0.001757</td>\n",
       "      <td>0.155623</td>\n",
       "      <td>0.140864</td>\n",
       "      <td>0.014139</td>\n",
       "      <td>0.067714</td>\n",
       "      <td>0.296566</td>\n",
       "      <td>-0.065608</td>\n",
       "      <td>-0.019477</td>\n",
       "      <td>0.096779</td>\n",
       "      <td>-0.030154</td>\n",
       "      <td>-0.020236</td>\n",
       "      <td>-0.180970</td>\n",
       "      <td>-0.230652</td>\n",
       "      <td>-0.083209</td>\n",
       "      <td>0.027297</td>\n",
       "      <td>-0.024402</td>\n",
       "      <td>0.259985</td>\n",
       "      <td>-0.221690</td>\n",
       "      <td>-0.016817</td>\n",
       "      <td>0.108560</td>\n",
       "      <td>0.026496</td>\n",
       "      <td>-0.199527</td>\n",
       "      <td>0.239976</td>\n",
       "      <td>-0.174975</td>\n",
       "      <td>0.102479</td>\n",
       "      <td>-0.118592</td>\n",
       "      <td>-0.088695</td>\n",
       "      <td>0.316518</td>\n",
       "      <td>0.007458</td>\n",
       "      <td>0.045018</td>\n",
       "      <td>0.016183</td>\n",
       "      <td>-0.047208</td>\n",
       "      <td>-0.125926</td>\n",
       "      <td>-0.001457</td>\n",
       "      <td>0.053759</td>\n",
       "      <td>0.047750</td>\n",
       "      <td>-0.070858</td>\n",
       "      <td>-0.051844</td>\n",
       "      <td>0.012068</td>\n",
       "      <td>-0.098582</td>\n",
       "      <td>0.037254</td>\n",
       "      <td>0.068914</td>\n",
       "      <td>0.082814</td>\n",
       "      <td>0.018833</td>\n",
       "      <td>-0.049598</td>\n",
       "      <td>0.048691</td>\n",
       "      <td>0.043702</td>\n",
       "      <td>0.012451</td>\n",
       "      <td>0.018561</td>\n",
       "      <td>0.007293</td>\n",
       "      <td>-0.020236</td>\n",
       "      <td>-0.214423</td>\n",
       "      <td>-0.218570</td>\n",
       "      <td>-0.040516</td>\n",
       "      <td>-0.038541</td>\n",
       "      <td>-0.038039</td>\n",
       "      <td>-0.115330</td>\n",
       "      <td>0.095737</td>\n",
       "      <td>-0.220461</td>\n",
       "      <td>0.180876</td>\n",
       "      <td>-0.091616</td>\n",
       "      <td>-0.002308</td>\n",
       "      <td>0.044285</td>\n",
       "      <td>-0.052980</td>\n",
       "      <td>0.031739</td>\n",
       "      <td>0.122107</td>\n",
       "      <td>0.004763</td>\n",
       "      <td>0.001027</td>\n",
       "      <td>-0.019278</td>\n",
       "      <td>0.029438</td>\n",
       "      <td>-0.087034</td>\n",
       "      <td>0.064320</td>\n",
       "      <td>0.067097</td>\n",
       "      <td>-0.016732</td>\n",
       "      <td>0.009301</td>\n",
       "      <td>-0.013872</td>\n",
       "      <td>-0.006121</td>\n",
       "      <td>-0.027261</td>\n",
       "      <td>-0.020809</td>\n",
       "      <td>0.039029</td>\n",
       "      <td>0.158195</td>\n",
       "      <td>-0.006838</td>\n",
       "      <td>0.030956</td>\n",
       "      <td>0.000952</td>\n",
       "      <td>-0.165535</td>\n",
       "      <td>-0.085982</td>\n",
       "      <td>-0.010967</td>\n",
       "      <td>-0.037841</td>\n",
       "      <td>0.037243</td>\n",
       "      <td>-0.010893</td>\n",
       "      <td>0.042502</td>\n",
       "      <td>-0.025417</td>\n",
       "    </tr>\n",
       "    <tr>\n",
       "      <th>lot_shape</th>\n",
       "      <td>-0.011705</td>\n",
       "      <td>0.174018</td>\n",
       "      <td>-0.301763</td>\n",
       "      <td>1.000000</td>\n",
       "      <td>-0.249357</td>\n",
       "      <td>0.077207</td>\n",
       "      <td>-0.277834</td>\n",
       "      <td>-0.221336</td>\n",
       "      <td>-0.127835</td>\n",
       "      <td>-0.237697</td>\n",
       "      <td>-0.231861</td>\n",
       "      <td>-0.083708</td>\n",
       "      <td>-0.177415</td>\n",
       "      <td>-0.154318</td>\n",
       "      <td>-0.182270</td>\n",
       "      <td>-0.011454</td>\n",
       "      <td>-0.210649</td>\n",
       "      <td>-0.160437</td>\n",
       "      <td>-0.136061</td>\n",
       "      <td>-0.221779</td>\n",
       "      <td>-0.070199</td>\n",
       "      <td>-0.087207</td>\n",
       "      <td>-0.198203</td>\n",
       "      <td>-0.136468</td>\n",
       "      <td>-0.023694</td>\n",
       "      <td>0.092632</td>\n",
       "      <td>-0.202014</td>\n",
       "      <td>-0.133364</td>\n",
       "      <td>-0.024128</td>\n",
       "      <td>-0.199743</td>\n",
       "      <td>-0.275456</td>\n",
       "      <td>-0.216134</td>\n",
       "      <td>-0.131344</td>\n",
       "      <td>-0.151075</td>\n",
       "      <td>-0.149512</td>\n",
       "      <td>-0.084296</td>\n",
       "      <td>0.090935</td>\n",
       "      <td>-0.069171</td>\n",
       "      <td>-0.294542</td>\n",
       "      <td>0.086824</td>\n",
       "      <td>0.142919</td>\n",
       "      <td>-0.215781</td>\n",
       "      <td>0.089844</td>\n",
       "      <td>0.061065</td>\n",
       "      <td>-0.082954</td>\n",
       "      <td>0.117115</td>\n",
       "      <td>0.052404</td>\n",
       "      <td>0.079026</td>\n",
       "      <td>0.060022</td>\n",
       "      <td>-0.218101</td>\n",
       "      <td>0.223490</td>\n",
       "      <td>-0.027002</td>\n",
       "      <td>-0.094168</td>\n",
       "      <td>-0.149629</td>\n",
       "      <td>0.133823</td>\n",
       "      <td>-0.348712</td>\n",
       "      <td>0.242216</td>\n",
       "      <td>-0.078297</td>\n",
       "      <td>0.069008</td>\n",
       "      <td>0.062520</td>\n",
       "      <td>-0.053525</td>\n",
       "      <td>-0.101147</td>\n",
       "      <td>-0.057932</td>\n",
       "      <td>0.090587</td>\n",
       "      <td>0.118832</td>\n",
       "      <td>0.077654</td>\n",
       "      <td>0.068014</td>\n",
       "      <td>-0.071740</td>\n",
       "      <td>-0.057099</td>\n",
       "      <td>0.155583</td>\n",
       "      <td>0.055113</td>\n",
       "      <td>-0.015731</td>\n",
       "      <td>0.037257</td>\n",
       "      <td>-0.125383</td>\n",
       "      <td>-0.083128</td>\n",
       "      <td>-0.086677</td>\n",
       "      <td>0.061620</td>\n",
       "      <td>-0.031880</td>\n",
       "      <td>-0.024264</td>\n",
       "      <td>-0.061078</td>\n",
       "      <td>0.004174</td>\n",
       "      <td>-0.017737</td>\n",
       "      <td>0.027314</td>\n",
       "      <td>0.061065</td>\n",
       "      <td>0.104508</td>\n",
       "      <td>-0.038169</td>\n",
       "      <td>0.054748</td>\n",
       "      <td>-0.076320</td>\n",
       "      <td>0.012334</td>\n",
       "      <td>0.013488</td>\n",
       "      <td>-0.012061</td>\n",
       "      <td>0.103810</td>\n",
       "      <td>-0.052004</td>\n",
       "      <td>0.121184</td>\n",
       "      <td>0.022003</td>\n",
       "      <td>0.089695</td>\n",
       "      <td>-0.019428</td>\n",
       "      <td>-0.040036</td>\n",
       "      <td>-0.078806</td>\n",
       "      <td>0.008073</td>\n",
       "      <td>-0.107418</td>\n",
       "      <td>0.032250</td>\n",
       "      <td>-0.079044</td>\n",
       "      <td>0.116554</td>\n",
       "      <td>-0.069362</td>\n",
       "      <td>0.102564</td>\n",
       "      <td>-0.208825</td>\n",
       "      <td>0.038718</td>\n",
       "      <td>0.017822</td>\n",
       "      <td>0.038656</td>\n",
       "      <td>0.087384</td>\n",
       "      <td>-0.002519</td>\n",
       "      <td>-0.123714</td>\n",
       "      <td>-0.186880</td>\n",
       "      <td>0.006897</td>\n",
       "      <td>-0.121543</td>\n",
       "      <td>-0.006528</td>\n",
       "      <td>0.214835</td>\n",
       "      <td>0.111957</td>\n",
       "      <td>0.050402</td>\n",
       "      <td>0.054197</td>\n",
       "      <td>-0.060133</td>\n",
       "      <td>0.036758</td>\n",
       "      <td>-0.052415</td>\n",
       "      <td>0.017487</td>\n",
       "    </tr>\n",
       "    <tr>\n",
       "      <th>overall_qual</th>\n",
       "      <td>-0.061483</td>\n",
       "      <td>0.114469</td>\n",
       "      <td>0.105824</td>\n",
       "      <td>-0.249357</td>\n",
       "      <td>1.000000</td>\n",
       "      <td>-0.082770</td>\n",
       "      <td>0.602964</td>\n",
       "      <td>0.584654</td>\n",
       "      <td>0.430041</td>\n",
       "      <td>0.740257</td>\n",
       "      <td>0.654071</td>\n",
       "      <td>0.299712</td>\n",
       "      <td>0.334445</td>\n",
       "      <td>0.291901</td>\n",
       "      <td>0.279223</td>\n",
       "      <td>0.276437</td>\n",
       "      <td>0.549407</td>\n",
       "      <td>0.475555</td>\n",
       "      <td>0.295698</td>\n",
       "      <td>0.477136</td>\n",
       "      <td>0.228152</td>\n",
       "      <td>0.175896</td>\n",
       "      <td>0.515080</td>\n",
       "      <td>0.274859</td>\n",
       "      <td>0.053373</td>\n",
       "      <td>-0.170964</td>\n",
       "      <td>0.690639</td>\n",
       "      <td>0.382025</td>\n",
       "      <td>0.181719</td>\n",
       "      <td>0.388920</td>\n",
       "      <td>0.554583</td>\n",
       "      <td>0.563904</td>\n",
       "      <td>0.285909</td>\n",
       "      <td>0.323754</td>\n",
       "      <td>0.257081</td>\n",
       "      <td>0.308855</td>\n",
       "      <td>-0.154554</td>\n",
       "      <td>0.048752</td>\n",
       "      <td>0.800207</td>\n",
       "      <td>-0.259677</td>\n",
       "      <td>-0.191273</td>\n",
       "      <td>0.318378</td>\n",
       "      <td>-0.023525</td>\n",
       "      <td>-0.144663</td>\n",
       "      <td>0.221828</td>\n",
       "      <td>0.003597</td>\n",
       "      <td>-0.075999</td>\n",
       "      <td>-0.134301</td>\n",
       "      <td>-0.153940</td>\n",
       "      <td>0.125947</td>\n",
       "      <td>-0.194575</td>\n",
       "      <td>0.063232</td>\n",
       "      <td>0.076876</td>\n",
       "      <td>0.174073</td>\n",
       "      <td>-0.042674</td>\n",
       "      <td>0.102513</td>\n",
       "      <td>-0.052196</td>\n",
       "      <td>-0.021713</td>\n",
       "      <td>-0.018312</td>\n",
       "      <td>-0.124036</td>\n",
       "      <td>-0.006083</td>\n",
       "      <td>0.124247</td>\n",
       "      <td>0.018775</td>\n",
       "      <td>-0.193383</td>\n",
       "      <td>-0.200520</td>\n",
       "      <td>-0.126202</td>\n",
       "      <td>-0.230789</td>\n",
       "      <td>0.191382</td>\n",
       "      <td>0.382108</td>\n",
       "      <td>-0.179866</td>\n",
       "      <td>-0.045769</td>\n",
       "      <td>-0.174472</td>\n",
       "      <td>0.240566</td>\n",
       "      <td>0.225011</td>\n",
       "      <td>0.119007</td>\n",
       "      <td>0.079553</td>\n",
       "      <td>-0.126856</td>\n",
       "      <td>0.111717</td>\n",
       "      <td>0.043284</td>\n",
       "      <td>0.068916</td>\n",
       "      <td>-0.048758</td>\n",
       "      <td>0.104354</td>\n",
       "      <td>0.086460</td>\n",
       "      <td>-0.144663</td>\n",
       "      <td>-0.007088</td>\n",
       "      <td>0.189360</td>\n",
       "      <td>-0.041900</td>\n",
       "      <td>0.239955</td>\n",
       "      <td>-0.081163</td>\n",
       "      <td>-0.179081</td>\n",
       "      <td>0.190814</td>\n",
       "      <td>-0.067498</td>\n",
       "      <td>0.079317</td>\n",
       "      <td>-0.167411</td>\n",
       "      <td>-0.015083</td>\n",
       "      <td>-0.166276</td>\n",
       "      <td>0.126715</td>\n",
       "      <td>-0.092160</td>\n",
       "      <td>-0.096379</td>\n",
       "      <td>-0.009582</td>\n",
       "      <td>0.363915</td>\n",
       "      <td>-0.033816</td>\n",
       "      <td>0.265611</td>\n",
       "      <td>-0.407048</td>\n",
       "      <td>0.289476</td>\n",
       "      <td>-0.407102</td>\n",
       "      <td>0.571092</td>\n",
       "      <td>-0.173569</td>\n",
       "      <td>-0.059357</td>\n",
       "      <td>-0.118220</td>\n",
       "      <td>-0.142369</td>\n",
       "      <td>-0.086683</td>\n",
       "      <td>0.278903</td>\n",
       "      <td>0.364469</td>\n",
       "      <td>-0.054083</td>\n",
       "      <td>0.191173</td>\n",
       "      <td>-0.094725</td>\n",
       "      <td>-0.341732</td>\n",
       "      <td>-0.246778</td>\n",
       "      <td>-0.116512</td>\n",
       "      <td>-0.170518</td>\n",
       "      <td>0.204402</td>\n",
       "      <td>-0.078847</td>\n",
       "      <td>0.335389</td>\n",
       "      <td>-0.194904</td>\n",
       "    </tr>\n",
       "  </tbody>\n",
       "</table>\n",
       "</div>"
      ],
      "text/plain": [
       "                    id  lot_frontage  lot_area  lot_shape  overall_qual  \\\n",
       "id            1.000000     -0.013538  0.032872  -0.011705     -0.061483   \n",
       "lot_frontage -0.013538      1.000000  0.135586   0.174018      0.114469   \n",
       "lot_area      0.032872      0.135586  1.000000  -0.301763      0.105824   \n",
       "lot_shape    -0.011705      0.174018 -0.301763   1.000000     -0.249357   \n",
       "overall_qual -0.061483      0.114469  0.105824  -0.249357      1.000000   \n",
       "\n",
       "              overall_cond  year_built  year_remod/add  mas_vnr_area  \\\n",
       "id               -0.026096   -0.064444       -0.090040     -0.035808   \n",
       "lot_frontage     -0.032452    0.020571        0.058942      0.101672   \n",
       "lot_area         -0.019185    0.036002        0.050771      0.167520   \n",
       "lot_shape         0.077207   -0.277834       -0.221336     -0.127835   \n",
       "overall_qual     -0.082770    0.602964        0.584654      0.430041   \n",
       "\n",
       "              exter_qual  bsmt_qual  bsmt_cond  bsmt_exposure  bsmtfin_type_1  \\\n",
       "id             -0.071633  -0.045040   0.008009       0.058214       -0.067089   \n",
       "lot_frontage    0.100055   0.042790  -0.001906       0.109634       -0.047541   \n",
       "lot_area        0.089220   0.060759  -0.010900       0.207065        0.042530   \n",
       "lot_shape      -0.237697  -0.231861  -0.083708      -0.177415       -0.154318   \n",
       "overall_qual    0.740257   0.654071   0.299712       0.334445        0.291901   \n",
       "\n",
       "              bsmtfin_sf_1  bsmt_unf_sf  total_bsmt_sf  heating_qc  \\\n",
       "id               -0.045794     0.008649      -0.038115   -0.029102   \n",
       "lot_frontage      0.056742     0.147324       0.204375    0.062938   \n",
       "lot_area          0.215648     0.041544       0.277478    0.022100   \n",
       "lot_shape        -0.182270    -0.011454      -0.210649   -0.160437   \n",
       "overall_qual      0.279223     0.276437       0.549407    0.475555   \n",
       "\n",
       "              central_air  1st_flr_sf  2nd_flr_sf  bsmt_full_bath  full_bath  \\\n",
       "id              -0.047272   -0.022650   -0.008388       -0.033323  -0.059086   \n",
       "lot_frontage    -0.001910    0.230839   -0.014954        0.009850   0.055042   \n",
       "lot_area         0.057157    0.381593    0.029398        0.113283   0.125601   \n",
       "lot_shape       -0.136061   -0.221779   -0.070199       -0.087207  -0.198203   \n",
       "overall_qual     0.295698    0.477136    0.228152        0.175896   0.515080   \n",
       "\n",
       "              half_bath  bedroom_abvgr  kitchen_abvgr  kitchen_qual  \\\n",
       "id            -0.042054       0.010605      -0.002400     -0.065466   \n",
       "lot_frontage  -0.031017       0.097450       0.015079      0.106405   \n",
       "lot_area       0.049995       0.139060      -0.013484      0.119339   \n",
       "lot_shape     -0.136468      -0.023694       0.092632     -0.202014   \n",
       "overall_qual   0.274859       0.053373      -0.170964      0.690639   \n",
       "\n",
       "              totrms_abvgrd  functional  fireplaces  garage_finish  \\\n",
       "id                -0.009092   -0.020809   -0.037560      -0.066017   \n",
       "lot_frontage       0.185083   -0.004607    0.038556       0.067980   \n",
       "lot_area           0.238724   -0.086360    0.289467       0.124476   \n",
       "lot_shape         -0.133364   -0.024128   -0.199743      -0.275456   \n",
       "overall_qual       0.382025    0.181719    0.388920       0.554583   \n",
       "\n",
       "              garage_area  garage_cond  paved_drive  wood_deck_sf  \\\n",
       "id              -0.046105    -0.045039    -0.062328     -0.009045   \n",
       "lot_frontage     0.173790    -0.001781    -0.036746      0.011388   \n",
       "lot_area         0.263145     0.091729    -0.001757      0.155623   \n",
       "lot_shape       -0.216134    -0.131344    -0.151075     -0.149512   \n",
       "overall_qual     0.563904     0.285909     0.323754      0.257081   \n",
       "\n",
       "              open_porch_sf  enclosed_porch  screen_porch  saleprice  \\\n",
       "id                 0.001382        0.033747      0.009758  -0.051398   \n",
       "lot_frontage       0.095295        0.009207      0.036598   0.181456   \n",
       "lot_area           0.140864        0.014139      0.067714   0.296566   \n",
       "lot_shape         -0.084296        0.090935     -0.069171  -0.294542   \n",
       "overall_qual       0.308855       -0.154554      0.048752   0.800207   \n",
       "\n",
       "              ms_subclass_30  ms_subclass_50  ms_subclass_60  ms_subclass_70  \\\n",
       "id                  0.019945        0.038880       -0.022502        0.019347   \n",
       "lot_frontage       -0.016078       -0.000349        0.047702        0.013508   \n",
       "lot_area           -0.065608       -0.019477        0.096779       -0.030154   \n",
       "lot_shape           0.086824        0.142919       -0.215781        0.089844   \n",
       "overall_qual       -0.259677       -0.191273        0.318378       -0.023525   \n",
       "\n",
       "              ms_subclass_90  ms_subclass_120  ms_subclass_160  \\\n",
       "id                  0.017916        -0.025178        -0.019302   \n",
       "lot_frontage        0.002052        -0.165748        -0.210040   \n",
       "lot_area           -0.020236        -0.180970        -0.230652   \n",
       "lot_shape           0.061065        -0.082954         0.117115   \n",
       "overall_qual       -0.144663         0.221828         0.003597   \n",
       "\n",
       "              ms_subclass_180  ms_subclass_190  ms_zoning_C  ms_zoning_RL  \\\n",
       "id                   0.045694         0.036751     0.020986     -0.016586   \n",
       "lot_frontage        -0.074835         0.041104     0.017829      0.122958   \n",
       "lot_area            -0.083209         0.027297    -0.024402      0.259985   \n",
       "lot_shape            0.052404         0.079026     0.060022     -0.218101   \n",
       "overall_qual        -0.075999        -0.134301    -0.153940      0.125947   \n",
       "\n",
       "              ms_zoning_RM  street_Pave  alley_No  land_contour_HLS  \\\n",
       "id                0.040998     0.007027 -0.030947          0.026304   \n",
       "lot_frontage     -0.114896    -0.034417  0.063155          0.052922   \n",
       "lot_area         -0.221690    -0.016817  0.108560          0.026496   \n",
       "lot_shape         0.223490    -0.027002 -0.094168         -0.149629   \n",
       "overall_qual     -0.194575     0.063232  0.076876          0.174073   \n",
       "\n",
       "              land_contour_Lvl  lot_config_CulDSac  lot_config_Inside  \\\n",
       "id                   -0.036028            0.019913           0.010518   \n",
       "lot_frontage         -0.023623           -0.224179           0.027224   \n",
       "lot_area             -0.199527            0.239976          -0.174975   \n",
       "lot_shape             0.133823           -0.348712           0.242216   \n",
       "overall_qual         -0.042674            0.102513          -0.052196   \n",
       "\n",
       "              land_slope_Mod  neighborhood_BrDale  neighborhood_BrkSide  \\\n",
       "id                  0.004739            -0.029336             -0.009280   \n",
       "lot_frontage        0.021489            -0.106911             -0.035744   \n",
       "lot_area            0.102479            -0.118592             -0.088695   \n",
       "lot_shape          -0.078297             0.069008              0.062520   \n",
       "overall_qual       -0.021713            -0.018312             -0.124036   \n",
       "\n",
       "              neighborhood_ClearCr  neighborhood_CollgCr  \\\n",
       "id                        0.021445              0.094991   \n",
       "lot_frontage             -0.058686              0.024238   \n",
       "lot_area                  0.316518              0.007458   \n",
       "lot_shape                -0.053525             -0.101147   \n",
       "overall_qual             -0.006083              0.124247   \n",
       "\n",
       "              neighborhood_Crawfor  neighborhood_Edwards  neighborhood_IDOTRR  \\\n",
       "id                        0.074046              0.056410             0.065287   \n",
       "lot_frontage             -0.024478              0.020107            -0.003033   \n",
       "lot_area                  0.045018              0.016183            -0.047208   \n",
       "lot_shape                -0.057932              0.090587             0.118832   \n",
       "overall_qual              0.018775             -0.193383            -0.200520   \n",
       "\n",
       "              neighborhood_MeadowV  neighborhood_NAmes  neighborhood_NoRidge  \\\n",
       "id                        0.064018           -0.035406             -0.012925   \n",
       "lot_frontage             -0.113269            0.080664              0.038712   \n",
       "lot_area                 -0.125926           -0.001457              0.053759   \n",
       "lot_shape                 0.077654            0.068014             -0.071740   \n",
       "overall_qual             -0.126202           -0.230789              0.191382   \n",
       "\n",
       "              neighborhood_NridgHt  neighborhood_OldTown  neighborhood_SWISU  \\\n",
       "id                       -0.079572             -0.001695            0.029677   \n",
       "lot_frontage              0.199096              0.022584           -0.005251   \n",
       "lot_area                  0.047750             -0.070858           -0.051844   \n",
       "lot_shape                -0.057099              0.155583            0.055113   \n",
       "overall_qual              0.382108             -0.179866           -0.045769   \n",
       "\n",
       "              neighborhood_Sawyer  neighborhood_Somerst  neighborhood_StoneBr  \\\n",
       "id                       0.015220             -0.052401             -0.012102   \n",
       "lot_frontage            -0.082273             -0.002825             -0.017450   \n",
       "lot_area                 0.012068             -0.098582              0.037254   \n",
       "lot_shape               -0.015731              0.037257             -0.125383   \n",
       "overall_qual            -0.174472              0.240566              0.225011   \n",
       "\n",
       "              neighborhood_Timber  neighborhood_Veenker  condition_1_Feedr  \\\n",
       "id                       0.033786              0.015350           0.021394   \n",
       "lot_frontage             0.012331             -0.016729           0.061150   \n",
       "lot_area                 0.068914              0.082814           0.018833   \n",
       "lot_shape               -0.083128             -0.086677           0.061620   \n",
       "overall_qual             0.119007              0.079553          -0.126856   \n",
       "\n",
       "              condition_1_Norm  condition_1_PosA  condition_1_PosN  \\\n",
       "id                   -0.005239         -0.006958         -0.037054   \n",
       "lot_frontage         -0.060412          0.085421         -0.027826   \n",
       "lot_area             -0.049598          0.048691          0.043702   \n",
       "lot_shape            -0.031880         -0.024264         -0.061078   \n",
       "overall_qual          0.111717          0.043284          0.068916   \n",
       "\n",
       "              condition_1_RRAe  condition_2_PosA  condition_2_PosN  \\\n",
       "id                    0.011465          0.012367         -0.027822   \n",
       "lot_frontage         -0.037548          0.025865          0.032797   \n",
       "lot_area              0.012451          0.018561          0.007293   \n",
       "lot_shape             0.004174         -0.017737          0.027314   \n",
       "overall_qual         -0.048758          0.104354          0.086460   \n",
       "\n",
       "              bldg_type_Duplex  bldg_type_Twnhs  bldg_type_TwnhsE  \\\n",
       "id                    0.017916        -0.013721         -0.014701   \n",
       "lot_frontage          0.002052        -0.200316         -0.192726   \n",
       "lot_area             -0.020236        -0.214423         -0.218570   \n",
       "lot_shape             0.061065         0.104508         -0.038169   \n",
       "overall_qual         -0.144663        -0.007088          0.189360   \n",
       "\n",
       "              house_style_1.5Unf  house_style_2Story  house_style_SFoyer  \\\n",
       "id                      0.023007           -0.032236            0.056106   \n",
       "lot_frontage           -0.003731           -0.044615           -0.040197   \n",
       "lot_area               -0.040516           -0.038541           -0.038039   \n",
       "lot_shape               0.054748           -0.076320            0.012334   \n",
       "overall_qual           -0.041900            0.239955           -0.081163   \n",
       "\n",
       "              roof_style_Gable  roof_style_Hip  roof_matl_CompShg  \\\n",
       "id                    0.007964       -0.015568          -0.037742   \n",
       "lot_frontage         -0.090847        0.090632          -0.066228   \n",
       "lot_area             -0.115330        0.095737          -0.220461   \n",
       "lot_shape             0.013488       -0.012061           0.103810   \n",
       "overall_qual         -0.179081        0.190814          -0.067498   \n",
       "\n",
       "              roof_matl_WdShngl  exterior_1st_MetalSd  exterior_1st_Stucco  \\\n",
       "id                     0.036158              0.003634             0.034089   \n",
       "lot_frontage           0.049325             -0.022067             0.019949   \n",
       "lot_area               0.180876             -0.091616            -0.002308   \n",
       "lot_shape             -0.052004              0.121184             0.022003   \n",
       "overall_qual           0.079317             -0.167411            -0.015083   \n",
       "\n",
       "              exterior_1st_WdSdng  exterior_2nd_CmentBd  exterior_2nd_HdBoard  \\\n",
       "id                       0.056688              0.010759             -0.045291   \n",
       "lot_frontage            -0.014389             -0.015591             -0.075832   \n",
       "lot_area                 0.044285             -0.052980              0.031739   \n",
       "lot_shape                0.089695             -0.019428             -0.040036   \n",
       "overall_qual            -0.166276              0.126715             -0.092160   \n",
       "\n",
       "              exterior_2nd_Plywood  exterior_2nd_Stucco  exterior_2nd_VinylSd  \\\n",
       "id                        0.006380             0.054283             -0.030440   \n",
       "lot_frontage             -0.013394             0.026438              0.108011   \n",
       "lot_area                  0.122107             0.004763              0.001027   \n",
       "lot_shape                -0.078806             0.008073             -0.107418   \n",
       "overall_qual             -0.096379            -0.009582              0.363915   \n",
       "\n",
       "              exterior_2nd_WdShing  mas_vnr_type_BrkFace  mas_vnr_type_No  \\\n",
       "id                        0.002176              0.001540         0.040694   \n",
       "lot_frontage             -0.025289             -0.022299        -0.045845   \n",
       "lot_area                 -0.019278              0.029438        -0.087034   \n",
       "lot_shape                 0.032250             -0.079044         0.116554   \n",
       "overall_qual             -0.033816              0.265611        -0.407048   \n",
       "\n",
       "              mas_vnr_type_Stone  foundation_CBlock  foundation_PConc  \\\n",
       "id                     -0.077618           0.004044         -0.040557   \n",
       "lot_frontage            0.119481          -0.023701          0.034024   \n",
       "lot_area                0.064320           0.067097         -0.016732   \n",
       "lot_shape              -0.069362           0.102564         -0.208825   \n",
       "overall_qual            0.289476          -0.407102          0.571092   \n",
       "\n",
       "              foundation_Slab  heating_Grav  heating_Wall  electrical_FuseF  \\\n",
       "id                   0.003484     -0.024398      0.002287          0.039163   \n",
       "lot_frontage        -0.011424      0.039775     -0.010264          0.012039   \n",
       "lot_area             0.009301     -0.013872     -0.006121         -0.027261   \n",
       "lot_shape            0.038718      0.017822      0.038656          0.087384   \n",
       "overall_qual        -0.173569     -0.059357     -0.118220         -0.142369   \n",
       "\n",
       "              electrical_FuseP  electrical_SBrkr  garage_type_Attchd  \\\n",
       "id                    0.014850         -0.048535           -0.025347   \n",
       "lot_frontage         -0.002930         -0.004913            0.095518   \n",
       "lot_area             -0.020809          0.039029            0.158195   \n",
       "lot_shape            -0.002519         -0.123714           -0.186880   \n",
       "overall_qual         -0.086683          0.278903            0.364469   \n",
       "\n",
       "              garage_type_Basment  garage_type_BuiltIn  garage_type_CarPort  \\\n",
       "id                      -0.004136            -0.047228             0.020583   \n",
       "lot_frontage            -0.040351            -0.028947            -0.027684   \n",
       "lot_area                -0.006838             0.030956             0.000952   \n",
       "lot_shape                0.006897            -0.121543            -0.006528   \n",
       "overall_qual            -0.054083             0.191173            -0.094725   \n",
       "\n",
       "              garage_type_Detchd  garage_type_No  fence_GdWo  fence_MnPrv  \\\n",
       "id                      0.020147        0.034405   -0.016969     0.001283   \n",
       "lot_frontage           -0.085892       -0.000627   -0.010988    -0.010620   \n",
       "lot_area               -0.165535       -0.085982   -0.010967    -0.037841   \n",
       "lot_shape               0.214835        0.111957    0.050402     0.054197   \n",
       "overall_qual           -0.341732       -0.246778   -0.116512    -0.170518   \n",
       "\n",
       "              fence_No  sale_type_ConLD  sale_type_New  sale_type_WD   \n",
       "id            0.013181        -0.036906       0.103437      -0.047898  \n",
       "lot_frontage  0.011097         0.038300       0.168683      -0.120749  \n",
       "lot_area      0.037243        -0.010893       0.042502      -0.025417  \n",
       "lot_shape    -0.060133         0.036758      -0.052415       0.017487  \n",
       "overall_qual  0.204402        -0.078847       0.335389      -0.194904  "
      ]
     },
     "execution_count": 92,
     "metadata": {},
     "output_type": "execute_result"
    }
   ],
   "source": [
    "# Find the correlation values between columns and assign to a separate variable ‘corr’\n",
    "corr = train_dummified.corr()\n",
    "\n",
    "# print few rows of corr\n",
    "corr.head()"
   ]
  },
  {
   "cell_type": "code",
   "execution_count": 93,
   "metadata": {},
   "outputs": [
    {
     "data": {
      "text/html": [
       "<div>\n",
       "<style scoped>\n",
       "    .dataframe tbody tr th:only-of-type {\n",
       "        vertical-align: middle;\n",
       "    }\n",
       "\n",
       "    .dataframe tbody tr th {\n",
       "        vertical-align: top;\n",
       "    }\n",
       "\n",
       "    .dataframe thead th {\n",
       "        text-align: right;\n",
       "    }\n",
       "</style>\n",
       "<table border=\"1\" class=\"dataframe\">\n",
       "  <thead>\n",
       "    <tr style=\"text-align: right;\">\n",
       "      <th></th>\n",
       "      <th>level_0</th>\n",
       "      <th>level_1</th>\n",
       "      <th>0</th>\n",
       "    </tr>\n",
       "  </thead>\n",
       "  <tbody>\n",
       "    <tr>\n",
       "      <th>0</th>\n",
       "      <td>id</td>\n",
       "      <td>id</td>\n",
       "      <td>1.000000</td>\n",
       "    </tr>\n",
       "    <tr>\n",
       "      <th>1</th>\n",
       "      <td>id</td>\n",
       "      <td>lot_frontage</td>\n",
       "      <td>-0.013538</td>\n",
       "    </tr>\n",
       "    <tr>\n",
       "      <th>2</th>\n",
       "      <td>id</td>\n",
       "      <td>lot_area</td>\n",
       "      <td>0.032872</td>\n",
       "    </tr>\n",
       "    <tr>\n",
       "      <th>3</th>\n",
       "      <td>id</td>\n",
       "      <td>lot_shape</td>\n",
       "      <td>-0.011705</td>\n",
       "    </tr>\n",
       "    <tr>\n",
       "      <th>4</th>\n",
       "      <td>id</td>\n",
       "      <td>overall_qual</td>\n",
       "      <td>-0.061483</td>\n",
       "    </tr>\n",
       "  </tbody>\n",
       "</table>\n",
       "</div>"
      ],
      "text/plain": [
       "  level_0       level_1         0\n",
       "0      id            id  1.000000\n",
       "1      id  lot_frontage -0.013538\n",
       "2      id      lot_area  0.032872\n",
       "3      id     lot_shape -0.011705\n",
       "4      id  overall_qual -0.061483"
      ]
     },
     "execution_count": 93,
     "metadata": {},
     "output_type": "execute_result"
    }
   ],
   "source": [
    "# Clean up the dataframe using .stack() and .reset_index()\n",
    "# The columns and the corresponding correlation is displayed side by side in 3 columns\n",
    "corr_cleaned = corr.stack().reset_index()\n",
    "\n",
    "# print few rows of corr_cleaned\n",
    "corr_cleaned.head()"
   ]
  },
  {
   "cell_type": "code",
   "execution_count": 94,
   "metadata": {},
   "outputs": [
    {
     "name": "stdout",
     "output_type": "stream",
     "text": [
      "  variable_1    variable_2  correlation\n",
      "0         id            id     1.000000\n",
      "1         id  lot_frontage    -0.013538\n",
      "2         id      lot_area     0.032872\n",
      "3         id     lot_shape    -0.011705\n",
      "4         id  overall_qual    -0.061483\n"
     ]
    }
   ],
   "source": [
    "# Rename the columns accordingly\n",
    "corr_cleaned.columns = ['variable_1', 'variable_2', 'correlation']\n",
    "# print few rows of corr_cleaned\n",
    "print(corr_cleaned.head())"
   ]
  },
  {
   "cell_type": "code",
   "execution_count": 15,
   "metadata": {},
   "outputs": [
    {
     "data": {
      "text/html": [
       "<div>\n",
       "<style scoped>\n",
       "    .dataframe tbody tr th:only-of-type {\n",
       "        vertical-align: middle;\n",
       "    }\n",
       "\n",
       "    .dataframe tbody tr th {\n",
       "        vertical-align: top;\n",
       "    }\n",
       "\n",
       "    .dataframe thead th {\n",
       "        text-align: right;\n",
       "    }\n",
       "</style>\n",
       "<table border=\"1\" class=\"dataframe\">\n",
       "  <thead>\n",
       "    <tr style=\"text-align: right;\">\n",
       "      <th></th>\n",
       "      <th>variable_1</th>\n",
       "      <th>variable_2</th>\n",
       "      <th>correlation</th>\n",
       "    </tr>\n",
       "  </thead>\n",
       "  <tbody>\n",
       "    <tr>\n",
       "      <th>13569</th>\n",
       "      <td>exterior_1st_CemntBd</td>\n",
       "      <td>exterior_2nd_CmentBd</td>\n",
       "      <td>0.988379</td>\n",
       "    </tr>\n",
       "    <tr>\n",
       "      <th>14379</th>\n",
       "      <td>exterior_2nd_CmentBd</td>\n",
       "      <td>exterior_1st_CemntBd</td>\n",
       "      <td>0.988379</td>\n",
       "    </tr>\n",
       "    <tr>\n",
       "      <th>12019</th>\n",
       "      <td>bldg_type_2fmCon</td>\n",
       "      <td>ms_subclass_190</td>\n",
       "      <td>0.977762</td>\n",
       "    </tr>\n",
       "    <tr>\n",
       "      <th>7024</th>\n",
       "      <td>ms_subclass_190</td>\n",
       "      <td>bldg_type_2fmCon</td>\n",
       "      <td>0.977762</td>\n",
       "    </tr>\n",
       "    <tr>\n",
       "      <th>14118</th>\n",
       "      <td>exterior_1st_VinylSd</td>\n",
       "      <td>exterior_2nd_VinylSd</td>\n",
       "      <td>0.977569</td>\n",
       "    </tr>\n",
       "    <tr>\n",
       "      <th>15063</th>\n",
       "      <td>exterior_2nd_VinylSd</td>\n",
       "      <td>exterior_1st_VinylSd</td>\n",
       "      <td>0.977569</td>\n",
       "    </tr>\n",
       "    <tr>\n",
       "      <th>13843</th>\n",
       "      <td>exterior_1st_MetalSd</td>\n",
       "      <td>exterior_2nd_MetalSd</td>\n",
       "      <td>0.976461</td>\n",
       "    </tr>\n",
       "    <tr>\n",
       "      <th>14653</th>\n",
       "      <td>exterior_2nd_MetalSd</td>\n",
       "      <td>exterior_1st_MetalSd</td>\n",
       "      <td>0.976461</td>\n",
       "    </tr>\n",
       "    <tr>\n",
       "      <th>4794</th>\n",
       "      <td>garage_cond</td>\n",
       "      <td>garage_qual</td>\n",
       "      <td>0.950493</td>\n",
       "    </tr>\n",
       "    <tr>\n",
       "      <th>4659</th>\n",
       "      <td>garage_qual</td>\n",
       "      <td>garage_cond</td>\n",
       "      <td>0.950493</td>\n",
       "    </tr>\n",
       "    <tr>\n",
       "      <th>4385</th>\n",
       "      <td>garage_cars</td>\n",
       "      <td>garage_area</td>\n",
       "      <td>0.893442</td>\n",
       "    </tr>\n",
       "    <tr>\n",
       "      <th>4520</th>\n",
       "      <td>garage_area</td>\n",
       "      <td>garage_cars</td>\n",
       "      <td>0.893442</td>\n",
       "    </tr>\n",
       "    <tr>\n",
       "      <th>14516</th>\n",
       "      <td>exterior_2nd_HdBoard</td>\n",
       "      <td>exterior_1st_HdBoard</td>\n",
       "      <td>0.885877</td>\n",
       "    </tr>\n",
       "    <tr>\n",
       "      <th>13706</th>\n",
       "      <td>exterior_1st_HdBoard</td>\n",
       "      <td>exterior_2nd_HdBoard</td>\n",
       "      <td>0.885877</td>\n",
       "    </tr>\n",
       "    <tr>\n",
       "      <th>10525</th>\n",
       "      <td>neighborhood_Somerst</td>\n",
       "      <td>ms_zoning_FV</td>\n",
       "      <td>0.874854</td>\n",
       "    </tr>\n",
       "    <tr>\n",
       "      <th>7285</th>\n",
       "      <td>ms_zoning_FV</td>\n",
       "      <td>neighborhood_Somerst</td>\n",
       "      <td>0.874854</td>\n",
       "    </tr>\n",
       "    <tr>\n",
       "      <th>5940</th>\n",
       "      <td>ms_subclass_45</td>\n",
       "      <td>house_style_1.5Unf</td>\n",
       "      <td>0.869663</td>\n",
       "    </tr>\n",
       "    <tr>\n",
       "      <th>12555</th>\n",
       "      <td>house_style_1.5Unf</td>\n",
       "      <td>ms_subclass_45</td>\n",
       "      <td>0.869663</td>\n",
       "    </tr>\n",
       "    <tr>\n",
       "      <th>3974</th>\n",
       "      <td>fireplaces</td>\n",
       "      <td>fireplace_qu</td>\n",
       "      <td>0.859734</td>\n",
       "    </tr>\n",
       "    <tr>\n",
       "      <th>4109</th>\n",
       "      <td>fireplace_qu</td>\n",
       "      <td>fireplaces</td>\n",
       "      <td>0.859734</td>\n",
       "    </tr>\n",
       "    <tr>\n",
       "      <th>14255</th>\n",
       "      <td>exterior_1st_WdSdng</td>\n",
       "      <td>exterior_2nd_WdSdng</td>\n",
       "      <td>0.859205</td>\n",
       "    </tr>\n",
       "    <tr>\n",
       "      <th>15200</th>\n",
       "      <td>exterior_2nd_WdSdng</td>\n",
       "      <td>exterior_1st_WdSdng</td>\n",
       "      <td>0.859205</td>\n",
       "    </tr>\n",
       "    <tr>\n",
       "      <th>2600</th>\n",
       "      <td>1st_flr_sf</td>\n",
       "      <td>total_bsmt_sf</td>\n",
       "      <td>0.808351</td>\n",
       "    </tr>\n",
       "    <tr>\n",
       "      <th>2195</th>\n",
       "      <td>total_bsmt_sf</td>\n",
       "      <td>1st_flr_sf</td>\n",
       "      <td>0.808351</td>\n",
       "    </tr>\n",
       "    <tr>\n",
       "      <th>2813</th>\n",
       "      <td>2nd_flr_sf</td>\n",
       "      <td>house_style_2Story</td>\n",
       "      <td>0.807187</td>\n",
       "    </tr>\n",
       "    <tr>\n",
       "      <th>12668</th>\n",
       "      <td>house_style_2Story</td>\n",
       "      <td>2nd_flr_sf</td>\n",
       "      <td>0.807187</td>\n",
       "    </tr>\n",
       "    <tr>\n",
       "      <th>5580</th>\n",
       "      <td>saleprice</td>\n",
       "      <td>overall_qual</td>\n",
       "      <td>0.800207</td>\n",
       "    </tr>\n",
       "    <tr>\n",
       "      <th>585</th>\n",
       "      <td>overall_qual</td>\n",
       "      <td>saleprice</td>\n",
       "      <td>0.800207</td>\n",
       "    </tr>\n",
       "    <tr>\n",
       "      <th>6619</th>\n",
       "      <td>ms_subclass_120</td>\n",
       "      <td>bldg_type_TwnhsE</td>\n",
       "      <td>0.795177</td>\n",
       "    </tr>\n",
       "    <tr>\n",
       "      <th>12424</th>\n",
       "      <td>bldg_type_TwnhsE</td>\n",
       "      <td>ms_subclass_120</td>\n",
       "      <td>0.795177</td>\n",
       "    </tr>\n",
       "  </tbody>\n",
       "</table>\n",
       "</div>"
      ],
      "text/plain": [
       "                 variable_1            variable_2  correlation\n",
       "13569  exterior_1st_CemntBd  exterior_2nd_CmentBd     0.988379\n",
       "14379  exterior_2nd_CmentBd  exterior_1st_CemntBd     0.988379\n",
       "12019      bldg_type_2fmCon       ms_subclass_190     0.977762\n",
       "7024        ms_subclass_190      bldg_type_2fmCon     0.977762\n",
       "14118  exterior_1st_VinylSd  exterior_2nd_VinylSd     0.977569\n",
       "15063  exterior_2nd_VinylSd  exterior_1st_VinylSd     0.977569\n",
       "13843  exterior_1st_MetalSd  exterior_2nd_MetalSd     0.976461\n",
       "14653  exterior_2nd_MetalSd  exterior_1st_MetalSd     0.976461\n",
       "4794            garage_cond           garage_qual     0.950493\n",
       "4659            garage_qual           garage_cond     0.950493\n",
       "4385            garage_cars           garage_area     0.893442\n",
       "4520            garage_area           garage_cars     0.893442\n",
       "14516  exterior_2nd_HdBoard  exterior_1st_HdBoard     0.885877\n",
       "13706  exterior_1st_HdBoard  exterior_2nd_HdBoard     0.885877\n",
       "10525  neighborhood_Somerst          ms_zoning_FV     0.874854\n",
       "7285           ms_zoning_FV  neighborhood_Somerst     0.874854\n",
       "5940         ms_subclass_45    house_style_1.5Unf     0.869663\n",
       "12555    house_style_1.5Unf        ms_subclass_45     0.869663\n",
       "3974             fireplaces          fireplace_qu     0.859734\n",
       "4109           fireplace_qu            fireplaces     0.859734\n",
       "14255   exterior_1st_WdSdng   exterior_2nd_WdSdng     0.859205\n",
       "15200   exterior_2nd_WdSdng   exterior_1st_WdSdng     0.859205\n",
       "2600             1st_flr_sf         total_bsmt_sf     0.808351\n",
       "2195          total_bsmt_sf            1st_flr_sf     0.808351\n",
       "2813             2nd_flr_sf    house_style_2Story     0.807187\n",
       "12668    house_style_2Story            2nd_flr_sf     0.807187\n",
       "5580              saleprice          overall_qual     0.800207\n",
       "585            overall_qual             saleprice     0.800207\n",
       "6619        ms_subclass_120      bldg_type_TwnhsE     0.795177\n",
       "12424      bldg_type_TwnhsE       ms_subclass_120     0.795177"
      ]
     },
     "execution_count": 15,
     "metadata": {},
     "output_type": "execute_result"
    }
   ],
   "source": [
    "# Further clean the dataframe and remove rows where the correlation = 1.0\n",
    "# Correlation of 1.0 indicates the column’s correlation with itself, so we can remove them\n",
    "corr_cleaned.drop(corr_cleaned[corr_cleaned['correlation'] == 1.0].index, inplace=True)\n",
    "corr_cleaned.sort_values(by='correlation', ascending=False, inplace=True)   # Sort the values by 'correlation' in descending order\n",
    "corr_cleaned.head(30)   # Print first 30 rows"
   ]
  },
  {
   "cell_type": "code",
   "execution_count": 16,
   "metadata": {},
   "outputs": [
    {
     "data": {
      "text/plain": [
       "(22, 3)"
      ]
     },
     "execution_count": 16,
     "metadata": {},
     "output_type": "execute_result"
    }
   ],
   "source": [
    "# Save those with correlation of more than 0.85 into a separate dataframe to show in heatmap\n",
    "corr_above_85_percent = corr_cleaned.loc[corr_cleaned['correlation'] > 0.85]\n",
    "\n",
    "# Print the shape of the dataframe\n",
    "corr_above_85_percent.shape"
   ]
  },
  {
   "cell_type": "code",
   "execution_count": 95,
   "metadata": {
    "scrolled": true
   },
   "outputs": [
    {
     "data": {
      "text/html": [
       "<div>\n",
       "<style scoped>\n",
       "    .dataframe tbody tr th:only-of-type {\n",
       "        vertical-align: middle;\n",
       "    }\n",
       "\n",
       "    .dataframe tbody tr th {\n",
       "        vertical-align: top;\n",
       "    }\n",
       "\n",
       "    .dataframe thead th {\n",
       "        text-align: right;\n",
       "    }\n",
       "</style>\n",
       "<table border=\"1\" class=\"dataframe\">\n",
       "  <thead>\n",
       "    <tr style=\"text-align: right;\">\n",
       "      <th>variable_2</th>\n",
       "      <th>bldg_type_2fmCon</th>\n",
       "      <th>exterior_1st_CemntBd</th>\n",
       "      <th>exterior_1st_HdBoard</th>\n",
       "      <th>exterior_1st_MetalSd</th>\n",
       "      <th>exterior_1st_VinylSd</th>\n",
       "      <th>exterior_1st_WdSdng</th>\n",
       "      <th>exterior_2nd_CmentBd</th>\n",
       "      <th>exterior_2nd_HdBoard</th>\n",
       "      <th>exterior_2nd_MetalSd</th>\n",
       "      <th>exterior_2nd_VinylSd</th>\n",
       "      <th>exterior_2nd_WdSdng</th>\n",
       "      <th>fireplace_qu</th>\n",
       "      <th>fireplaces</th>\n",
       "      <th>garage_area</th>\n",
       "      <th>garage_cars</th>\n",
       "      <th>garage_cond</th>\n",
       "      <th>garage_qual</th>\n",
       "      <th>house_style_1.5Unf</th>\n",
       "      <th>ms_subclass_190</th>\n",
       "      <th>ms_subclass_45</th>\n",
       "      <th>ms_zoning_FV</th>\n",
       "      <th>neighborhood_Somerst</th>\n",
       "    </tr>\n",
       "    <tr>\n",
       "      <th>variable_1</th>\n",
       "      <th></th>\n",
       "      <th></th>\n",
       "      <th></th>\n",
       "      <th></th>\n",
       "      <th></th>\n",
       "      <th></th>\n",
       "      <th></th>\n",
       "      <th></th>\n",
       "      <th></th>\n",
       "      <th></th>\n",
       "      <th></th>\n",
       "      <th></th>\n",
       "      <th></th>\n",
       "      <th></th>\n",
       "      <th></th>\n",
       "      <th></th>\n",
       "      <th></th>\n",
       "      <th></th>\n",
       "      <th></th>\n",
       "      <th></th>\n",
       "      <th></th>\n",
       "      <th></th>\n",
       "    </tr>\n",
       "  </thead>\n",
       "  <tbody>\n",
       "    <tr>\n",
       "      <th>bldg_type_2fmCon</th>\n",
       "      <td>NaN</td>\n",
       "      <td>NaN</td>\n",
       "      <td>NaN</td>\n",
       "      <td>NaN</td>\n",
       "      <td>NaN</td>\n",
       "      <td>NaN</td>\n",
       "      <td>NaN</td>\n",
       "      <td>NaN</td>\n",
       "      <td>NaN</td>\n",
       "      <td>NaN</td>\n",
       "      <td>NaN</td>\n",
       "      <td>NaN</td>\n",
       "      <td>NaN</td>\n",
       "      <td>NaN</td>\n",
       "      <td>NaN</td>\n",
       "      <td>NaN</td>\n",
       "      <td>NaN</td>\n",
       "      <td>NaN</td>\n",
       "      <td>0.977762</td>\n",
       "      <td>NaN</td>\n",
       "      <td>NaN</td>\n",
       "      <td>NaN</td>\n",
       "    </tr>\n",
       "    <tr>\n",
       "      <th>exterior_1st_CemntBd</th>\n",
       "      <td>NaN</td>\n",
       "      <td>NaN</td>\n",
       "      <td>NaN</td>\n",
       "      <td>NaN</td>\n",
       "      <td>NaN</td>\n",
       "      <td>NaN</td>\n",
       "      <td>0.988379</td>\n",
       "      <td>NaN</td>\n",
       "      <td>NaN</td>\n",
       "      <td>NaN</td>\n",
       "      <td>NaN</td>\n",
       "      <td>NaN</td>\n",
       "      <td>NaN</td>\n",
       "      <td>NaN</td>\n",
       "      <td>NaN</td>\n",
       "      <td>NaN</td>\n",
       "      <td>NaN</td>\n",
       "      <td>NaN</td>\n",
       "      <td>NaN</td>\n",
       "      <td>NaN</td>\n",
       "      <td>NaN</td>\n",
       "      <td>NaN</td>\n",
       "    </tr>\n",
       "    <tr>\n",
       "      <th>exterior_1st_HdBoard</th>\n",
       "      <td>NaN</td>\n",
       "      <td>NaN</td>\n",
       "      <td>NaN</td>\n",
       "      <td>NaN</td>\n",
       "      <td>NaN</td>\n",
       "      <td>NaN</td>\n",
       "      <td>NaN</td>\n",
       "      <td>0.885877</td>\n",
       "      <td>NaN</td>\n",
       "      <td>NaN</td>\n",
       "      <td>NaN</td>\n",
       "      <td>NaN</td>\n",
       "      <td>NaN</td>\n",
       "      <td>NaN</td>\n",
       "      <td>NaN</td>\n",
       "      <td>NaN</td>\n",
       "      <td>NaN</td>\n",
       "      <td>NaN</td>\n",
       "      <td>NaN</td>\n",
       "      <td>NaN</td>\n",
       "      <td>NaN</td>\n",
       "      <td>NaN</td>\n",
       "    </tr>\n",
       "    <tr>\n",
       "      <th>exterior_1st_MetalSd</th>\n",
       "      <td>NaN</td>\n",
       "      <td>NaN</td>\n",
       "      <td>NaN</td>\n",
       "      <td>NaN</td>\n",
       "      <td>NaN</td>\n",
       "      <td>NaN</td>\n",
       "      <td>NaN</td>\n",
       "      <td>NaN</td>\n",
       "      <td>0.976461</td>\n",
       "      <td>NaN</td>\n",
       "      <td>NaN</td>\n",
       "      <td>NaN</td>\n",
       "      <td>NaN</td>\n",
       "      <td>NaN</td>\n",
       "      <td>NaN</td>\n",
       "      <td>NaN</td>\n",
       "      <td>NaN</td>\n",
       "      <td>NaN</td>\n",
       "      <td>NaN</td>\n",
       "      <td>NaN</td>\n",
       "      <td>NaN</td>\n",
       "      <td>NaN</td>\n",
       "    </tr>\n",
       "    <tr>\n",
       "      <th>exterior_1st_VinylSd</th>\n",
       "      <td>NaN</td>\n",
       "      <td>NaN</td>\n",
       "      <td>NaN</td>\n",
       "      <td>NaN</td>\n",
       "      <td>NaN</td>\n",
       "      <td>NaN</td>\n",
       "      <td>NaN</td>\n",
       "      <td>NaN</td>\n",
       "      <td>NaN</td>\n",
       "      <td>0.977569</td>\n",
       "      <td>NaN</td>\n",
       "      <td>NaN</td>\n",
       "      <td>NaN</td>\n",
       "      <td>NaN</td>\n",
       "      <td>NaN</td>\n",
       "      <td>NaN</td>\n",
       "      <td>NaN</td>\n",
       "      <td>NaN</td>\n",
       "      <td>NaN</td>\n",
       "      <td>NaN</td>\n",
       "      <td>NaN</td>\n",
       "      <td>NaN</td>\n",
       "    </tr>\n",
       "  </tbody>\n",
       "</table>\n",
       "</div>"
      ],
      "text/plain": [
       "variable_2            bldg_type_2fmCon  exterior_1st_CemntBd  \\\n",
       "variable_1                                                     \n",
       "bldg_type_2fmCon                   NaN                   NaN   \n",
       "exterior_1st_CemntBd               NaN                   NaN   \n",
       "exterior_1st_HdBoard               NaN                   NaN   \n",
       "exterior_1st_MetalSd               NaN                   NaN   \n",
       "exterior_1st_VinylSd               NaN                   NaN   \n",
       "\n",
       "variable_2            exterior_1st_HdBoard  exterior_1st_MetalSd  \\\n",
       "variable_1                                                         \n",
       "bldg_type_2fmCon                       NaN                   NaN   \n",
       "exterior_1st_CemntBd                   NaN                   NaN   \n",
       "exterior_1st_HdBoard                   NaN                   NaN   \n",
       "exterior_1st_MetalSd                   NaN                   NaN   \n",
       "exterior_1st_VinylSd                   NaN                   NaN   \n",
       "\n",
       "variable_2            exterior_1st_VinylSd  exterior_1st_WdSdng  \\\n",
       "variable_1                                                        \n",
       "bldg_type_2fmCon                       NaN                  NaN   \n",
       "exterior_1st_CemntBd                   NaN                  NaN   \n",
       "exterior_1st_HdBoard                   NaN                  NaN   \n",
       "exterior_1st_MetalSd                   NaN                  NaN   \n",
       "exterior_1st_VinylSd                   NaN                  NaN   \n",
       "\n",
       "variable_2            exterior_2nd_CmentBd  exterior_2nd_HdBoard  \\\n",
       "variable_1                                                         \n",
       "bldg_type_2fmCon                       NaN                   NaN   \n",
       "exterior_1st_CemntBd              0.988379                   NaN   \n",
       "exterior_1st_HdBoard                   NaN              0.885877   \n",
       "exterior_1st_MetalSd                   NaN                   NaN   \n",
       "exterior_1st_VinylSd                   NaN                   NaN   \n",
       "\n",
       "variable_2            exterior_2nd_MetalSd  exterior_2nd_VinylSd  \\\n",
       "variable_1                                                         \n",
       "bldg_type_2fmCon                       NaN                   NaN   \n",
       "exterior_1st_CemntBd                   NaN                   NaN   \n",
       "exterior_1st_HdBoard                   NaN                   NaN   \n",
       "exterior_1st_MetalSd              0.976461                   NaN   \n",
       "exterior_1st_VinylSd                   NaN              0.977569   \n",
       "\n",
       "variable_2            exterior_2nd_WdSdng  fireplace_qu  fireplaces  \\\n",
       "variable_1                                                            \n",
       "bldg_type_2fmCon                      NaN           NaN         NaN   \n",
       "exterior_1st_CemntBd                  NaN           NaN         NaN   \n",
       "exterior_1st_HdBoard                  NaN           NaN         NaN   \n",
       "exterior_1st_MetalSd                  NaN           NaN         NaN   \n",
       "exterior_1st_VinylSd                  NaN           NaN         NaN   \n",
       "\n",
       "variable_2            garage_area  garage_cars  garage_cond  garage_qual  \\\n",
       "variable_1                                                                 \n",
       "bldg_type_2fmCon              NaN          NaN          NaN          NaN   \n",
       "exterior_1st_CemntBd          NaN          NaN          NaN          NaN   \n",
       "exterior_1st_HdBoard          NaN          NaN          NaN          NaN   \n",
       "exterior_1st_MetalSd          NaN          NaN          NaN          NaN   \n",
       "exterior_1st_VinylSd          NaN          NaN          NaN          NaN   \n",
       "\n",
       "variable_2            house_style_1.5Unf  ms_subclass_190  ms_subclass_45  \\\n",
       "variable_1                                                                  \n",
       "bldg_type_2fmCon                     NaN         0.977762             NaN   \n",
       "exterior_1st_CemntBd                 NaN              NaN             NaN   \n",
       "exterior_1st_HdBoard                 NaN              NaN             NaN   \n",
       "exterior_1st_MetalSd                 NaN              NaN             NaN   \n",
       "exterior_1st_VinylSd                 NaN              NaN             NaN   \n",
       "\n",
       "variable_2            ms_zoning_FV  neighborhood_Somerst  \n",
       "variable_1                                                \n",
       "bldg_type_2fmCon               NaN                   NaN  \n",
       "exterior_1st_CemntBd           NaN                   NaN  \n",
       "exterior_1st_HdBoard           NaN                   NaN  \n",
       "exterior_1st_MetalSd           NaN                   NaN  \n",
       "exterior_1st_VinylSd           NaN                   NaN  "
      ]
     },
     "execution_count": 95,
     "metadata": {},
     "output_type": "execute_result"
    }
   ],
   "source": [
    "# Turn 'corr_above_85_percent' back into correlation matrix for plotting into heatmap\n",
    "corr_matrix = corr_above_85_percent.pivot(index='variable_1', columns='variable_2')['correlation']\n",
    "\n",
    "# Print few rows of the correlation matrix\n",
    "corr_matrix.head()"
   ]
  },
  {
   "cell_type": "code",
   "execution_count": 18,
   "metadata": {},
   "outputs": [
    {
     "data": {
      "image/png": "[encoded data removed]",
      "text/plain": [
       "<Figure size 1080x720 with 2 Axes>"
      ]
     },
     "metadata": {
      "needs_background": "light"
     },
     "output_type": "display_data"
    }
   ],
   "source": [
    "# Plot the heatmap of corr_matrix above\n",
    "plt.figure(figsize=(15,10))\n",
    "corr_above_85_percent_heatmap = sns.heatmap(corr_matrix, linewidths=0.5, linecolor='black', annot=True)\n",
    "plt.show()"
   ]
  },
  {
   "cell_type": "code",
   "execution_count": 19,
   "metadata": {},
   "outputs": [],
   "source": [
    "# Drop 1 of the columns out of the 2 that have correlation > 0.85 with each other\n",
    "train_dummified.drop(columns=['exterior_1st_CemntBd','bldg_type_2fmCon','exterior_1st_VinylSd', 'exterior_2nd_MetalSd',\n",
    "                              'garage_qual','garage_cars','exterior_1st_HdBoard','ms_zoning_FV','ms_subclass_45','fireplace_qu',\n",
    "                              'exterior_2nd_WdSdng'], inplace = True)"
   ]
  },
  {
   "cell_type": "code",
   "execution_count": 20,
   "metadata": {},
   "outputs": [
    {
     "data": {
      "text/plain": [
       "(2051, 125)"
      ]
     },
     "execution_count": 20,
     "metadata": {},
     "output_type": "execute_result"
    }
   ],
   "source": [
    "# Print the shape of 'train_dummified' dataframe\n",
    "train_dummified.shape\n",
    "\n",
    "# Currently the dataframe has 125 columns only"
   ]
  },
  {
   "cell_type": "markdown",
   "metadata": {},
   "source": [
    "### Data Visualization for EDA\n"
   ]
  },
  {
   "cell_type": "markdown",
   "metadata": {},
   "source": [
    "#### Mean SalePrice vs Neighborhood"
   ]
  },
  {
   "cell_type": "code",
   "execution_count": 21,
   "metadata": {},
   "outputs": [
    {
     "data": {
      "text/html": [
       "<div>\n",
       "<style scoped>\n",
       "    .dataframe tbody tr th:only-of-type {\n",
       "        vertical-align: middle;\n",
       "    }\n",
       "\n",
       "    .dataframe tbody tr th {\n",
       "        vertical-align: top;\n",
       "    }\n",
       "\n",
       "    .dataframe thead th {\n",
       "        text-align: right;\n",
       "    }\n",
       "</style>\n",
       "<table border=\"1\" class=\"dataframe\">\n",
       "  <thead>\n",
       "    <tr style=\"text-align: right;\">\n",
       "      <th></th>\n",
       "      <th>neighborhood</th>\n",
       "      <th>price</th>\n",
       "    </tr>\n",
       "  </thead>\n",
       "  <tbody>\n",
       "    <tr>\n",
       "      <th>0</th>\n",
       "      <td>Northridge_Heights</td>\n",
       "      <td>322831.352459</td>\n",
       "    </tr>\n",
       "    <tr>\n",
       "      <th>1</th>\n",
       "      <td>Northridge</td>\n",
       "      <td>316294.125000</td>\n",
       "    </tr>\n",
       "    <tr>\n",
       "      <th>3</th>\n",
       "      <td>North_Ames</td>\n",
       "      <td>145905.816129</td>\n",
       "    </tr>\n",
       "    <tr>\n",
       "      <th>2</th>\n",
       "      <td>Edwards</td>\n",
       "      <td>130493.468531</td>\n",
       "    </tr>\n",
       "    <tr>\n",
       "      <th>4</th>\n",
       "      <td>Old_Town</td>\n",
       "      <td>125276.300613</td>\n",
       "    </tr>\n",
       "  </tbody>\n",
       "</table>\n",
       "</div>"
      ],
      "text/plain": [
       "         neighborhood          price\n",
       "0  Northridge_Heights  322831.352459\n",
       "1          Northridge  316294.125000\n",
       "3          North_Ames  145905.816129\n",
       "2             Edwards  130493.468531\n",
       "4            Old_Town  125276.300613"
      ]
     },
     "execution_count": 21,
     "metadata": {},
     "output_type": "execute_result"
    }
   ],
   "source": [
    "# plot average sale prices of neighbourhoods with highest coefficients\n",
    "# positive influence: Northridge Heights, Northridge\n",
    "# negative influence: Edwards, Northwest Ames, Old Town\n",
    "nr_heights = train_dummified.filter(['neighborhood_NridgHt', 'saleprice'], axis=1)\n",
    "nr_heights = nr_heights.loc[nr_heights['neighborhood_NridgHt'] == 1]\n",
    "northridge = train_dummified.filter(['neighborhood_NoRidge', 'saleprice'], axis=1)\n",
    "northridge = northridge.loc[northridge['neighborhood_NoRidge'] == 1]\n",
    "edwards = train_dummified.filter(['neighborhood_Edwards', 'saleprice'], axis=1)\n",
    "edwards = edwards.loc[edwards['neighborhood_Edwards'] == 1]\n",
    "n_ames = train_dummified.filter(['neighborhood_NAmes', 'saleprice'], axis=1)\n",
    "n_ames = n_ames.loc[n_ames['neighborhood_NAmes'] == 1]\n",
    "oldtown = train_dummified.filter(['neighborhood_OldTown', 'saleprice'], axis=1)\n",
    "oldtown = oldtown.loc[oldtown['neighborhood_OldTown'] == 1]\n",
    "# mean price of houses in the area\n",
    "nr_heights_price = np.mean(nr_heights['saleprice'])\n",
    "northridge_price = np.mean(northridge['saleprice'])\n",
    "edwards_price = np.mean(edwards['saleprice'])\n",
    "n_ames_price = np.mean(n_ames['saleprice'])\n",
    "oldtown_price = np.mean(oldtown['saleprice'])\n",
    "area_prices = pd.DataFrame({'neighborhood': ['Northridge_Heights', 'Northridge', 'Edwards', 'North_Ames', 'Old_Town'],\n",
    "                            'price': [nr_heights_price, northridge_price, edwards_price, n_ames_price, oldtown_price]}).sort_values(by=['price'], ascending=False)\n",
    "area_prices"
   ]
  },
  {
   "cell_type": "code",
   "execution_count": 22,
   "metadata": {
    "scrolled": true
   },
   "outputs": [
    {
     "data": {
      "image/png": "[encoded data removed]",
      "text/plain": [
       "<Figure size 1080x288 with 1 Axes>"
      ]
     },
     "metadata": {
      "needs_background": "light"
     },
     "output_type": "display_data"
    }
   ],
   "source": [
    "# plot the pricing of the houses sold in neighborhoods\n",
    "area_prices_ax = pd.Series(list(area_prices['price']), index=area_prices['neighborhood']).plot(kind='bar', figsize=(15, 4), width=0.5);\n",
    "area_prices_ax.set_xticklabels(labels=area_prices['neighborhood'], rotation=360, ha='center', fontsize=10);\n",
    "area_prices_ax.set_xlabel('Neighborhood', fontsize=14, labelpad=10);\n",
    "area_prices_ax.set_ylabel('Sale Price in Dollars', fontsize=14);\n",
    "area_prices_ax.set_title('Average Sale Price of Houses in each Neighborhood', pad=10.0, fontsize=18);\n",
    "plt.show();"
   ]
  },
  {
   "cell_type": "markdown",
   "metadata": {},
   "source": [
    "#### Mean SalePrice vs Overall Quality"
   ]
  },
  {
   "cell_type": "code",
   "execution_count": 23,
   "metadata": {},
   "outputs": [],
   "source": [
    "# Groupby 'overall qual' and get the mean 'saleprice' and save it into a new dataframe 'overall_quality'\n",
    "overall_quality = train_dummified.groupby('overall_qual')['saleprice'].agg(['mean'])"
   ]
  },
  {
   "cell_type": "code",
   "execution_count": 24,
   "metadata": {},
   "outputs": [],
   "source": [
    "# Rename 'mean' to 'Mean_Saleprice'\n",
    "overall_quality.rename(columns={'mean': 'Mean_Saleprice'}, inplace = True)"
   ]
  },
  {
   "cell_type": "code",
   "execution_count": 25,
   "metadata": {},
   "outputs": [
    {
     "data": {
      "image/png": "[encoded data removed]",
      "text/plain": [
       "<Figure size 432x288 with 1 Axes>"
      ]
     },
     "metadata": {
      "needs_background": "light"
     },
     "output_type": "display_data"
    }
   ],
   "source": [
    "# Plot a line graph of Mean Saleprice vs Overall Quality\n",
    "overall_quality['Mean_Saleprice'].plot();\n",
    "plt.xlabel('Overall Quality (1 = Very Poor, 10 = Very Excellent)'); # Plot x-label 'Overall Quality'\n",
    "plt.ylabel('Mean SalePrice');                                       # Plot y-label 'Mean SalePrice'\n",
    "plt.title('Mean SalePrice vs Overall Quality');                     # Plot title 'Mean SalePrice vs Overall Quality'"
   ]
  },
  {
   "cell_type": "markdown",
   "metadata": {},
   "source": [
    "The higher the overall quality of the house, the higher saleprice it is."
   ]
  },
  {
   "cell_type": "markdown",
   "metadata": {},
   "source": [
    "#### No of Houses Sold vs Overall Quality"
   ]
  },
  {
   "cell_type": "code",
   "execution_count": 26,
   "metadata": {},
   "outputs": [
    {
     "data": {
      "image/png": "[encoded data removed]",
      "text/plain": [
       "<Figure size 720x432 with 1 Axes>"
      ]
     },
     "metadata": {
      "needs_background": "light"
     },
     "output_type": "display_data"
    }
   ],
   "source": [
    "# Plot histogram of No. of Houses Sold vs Overall Quality\n",
    "fig, histo_overall_qual = plt.subplots(figsize=(10,6))\n",
    "color = 'navy'                                                                                # Set color to 'navy'\n",
    "histo_overall_qual.set_title('No. of Houses Sold vs Overall Quality', fontsize=16)             # Set title to 'No. of Houses Sold vs Overall Quality'\n",
    "histo_overall_qual.set_xlabel('Overall Quality', fontsize=16)                                  # Set xlabel to 'Overall Quality'\n",
    "histo_overall_qual.set_ylabel('No. of Houses Sold', fontsize=16)                                # Set ylabel to 'No. of Houses Sold'\n",
    "histo_overall_qual = sns.histplot(x='overall_qual', data = train_dummified, color=color)          # Plot histogram\n",
    "plt.xlim(0,10)                                                                                 # Set x-limit to 2-5\n",
    "plt.show()"
   ]
  },
  {
   "cell_type": "markdown",
   "metadata": {},
   "source": [
    "#### Mean SalePrice vs Exterior Quality"
   ]
  },
  {
   "cell_type": "code",
   "execution_count": 27,
   "metadata": {},
   "outputs": [],
   "source": [
    "# Groupby 'exter qual' and get the mean 'saleprice' and save it into a new dataframe 'exterior_quality'\n",
    "exterior_quality = train_dummified.groupby('exter_qual')['saleprice'].agg(['mean'])"
   ]
  },
  {
   "cell_type": "code",
   "execution_count": 28,
   "metadata": {},
   "outputs": [],
   "source": [
    "# Rename 'mean' to 'Mean_Saleprice'\n",
    "exterior_quality.rename(columns={'mean': 'Mean_Saleprice'}, inplace = True)"
   ]
  },
  {
   "cell_type": "code",
   "execution_count": 29,
   "metadata": {},
   "outputs": [
    {
     "data": {
      "image/png": "[encoded data removed]",
      "text/plain": [
       "<Figure size 432x288 with 1 Axes>"
      ]
     },
     "metadata": {
      "needs_background": "light"
     },
     "output_type": "display_data"
    }
   ],
   "source": [
    "# Plot a line graph of Mean Saleprice vs External Quality\n",
    "exterior_quality['Mean_Saleprice'].plot();\n",
    "plt.xlabel('Exterior Quality (2 = Fair, 5 = Excellent)');   # Plot x-label 'Exterior Quality'\n",
    "plt.ylabel('Mean SalePrice');                               # Plot y-label 'Mean SalePrice'\n",
    "plt.title('Mean SalePrice vs Exterior Quality');            # Plot title 'Mean SalePrice vs Exterior Quality'"
   ]
  },
  {
   "cell_type": "markdown",
   "metadata": {},
   "source": [
    "The higher the quality of exterior of the house, the higher saleprice it is."
   ]
  },
  {
   "cell_type": "markdown",
   "metadata": {},
   "source": [
    "#### No. of House Sold vs Exterior Quality"
   ]
  },
  {
   "cell_type": "code",
   "execution_count": 30,
   "metadata": {
    "scrolled": false
   },
   "outputs": [
    {
     "data": {
      "image/png": "[encoded data removed]",
      "text/plain": [
       "<Figure size 720x432 with 1 Axes>"
      ]
     },
     "metadata": {
      "needs_background": "light"
     },
     "output_type": "display_data"
    }
   ],
   "source": [
    "# Plot histogram of No. of Houses Sold vs Exterior Quality\n",
    "fig, histo_exter_qual = plt.subplots(figsize=(10,6))\n",
    "color = 'navy'                                                                                # Set color to 'navy'\n",
    "histo_exter_qual.set_title('No. of Houses Sold vs Exterior Quality', fontsize=16)             # Set title to 'No. of Houses Sold vs Exterior Quality'\n",
    "histo_exter_qual.set_xlabel('Exterior Quality', fontsize=16)                                  # Set xlabel to 'Exterior Quality'\n",
    "histo_exter_qual.set_ylabel('No. of Houses Sold', fontsize=16)                                # Set ylabel to 'No. of Houses Sold'\n",
    "histo_exter_qual = sns.histplot(x='exter_qual', data = train_dummified, color=color)          # Plot histogram\n",
    "plt.xlim(2,5)                                                                                 # Set x-limit to 2-5\n",
    "plt.show()"
   ]
  },
  {
   "cell_type": "markdown",
   "metadata": {},
   "source": [
    "#### Mean SalePrice vs Kitchen Quality "
   ]
  },
  {
   "cell_type": "code",
   "execution_count": 31,
   "metadata": {},
   "outputs": [],
   "source": [
    "# Groupby 'kitchen qual' and get the mean 'saleprice' and save it into a new dataframe 'kitchen_quality'\n",
    "kitchen_quality = train_dummified.groupby('kitchen_qual')['saleprice'].agg(['mean'])"
   ]
  },
  {
   "cell_type": "code",
   "execution_count": 32,
   "metadata": {},
   "outputs": [],
   "source": [
    "# Rename 'mean' to 'Mean_Saleprice'\n",
    "kitchen_quality.rename(columns={'mean': 'Mean_Saleprice'}, inplace = True)"
   ]
  },
  {
   "cell_type": "code",
   "execution_count": 33,
   "metadata": {
    "scrolled": true
   },
   "outputs": [
    {
     "data": {
      "image/png": "[encoded data removed]",
      "text/plain": [
       "<Figure size 432x288 with 1 Axes>"
      ]
     },
     "metadata": {
      "needs_background": "light"
     },
     "output_type": "display_data"
    }
   ],
   "source": [
    "# Plot a line graph of Mean Saleprice vs Kitchen Quality\n",
    "kitchen_quality['Mean_Saleprice'].plot();\n",
    "plt.xlabel('Kitchen Quality (2 = Fair, 5 = Excellent)'); # Plot x-label 'Kitchen Quality'\n",
    "plt.ylabel('Mean SalePrice');                            # Plot y-label 'Mean SalePrice'\n",
    "plt.title('Mean SalePrice vs Kitchen Quality');          # Plot title 'Mean SalePrice vs Kitchen Quality'"
   ]
  },
  {
   "cell_type": "markdown",
   "metadata": {},
   "source": [
    "The higher the quality of kitchen of the house, the higher saleprice it is."
   ]
  },
  {
   "cell_type": "markdown",
   "metadata": {},
   "source": [
    "#### No. of House Sold vs Kitchen Quality "
   ]
  },
  {
   "cell_type": "code",
   "execution_count": 34,
   "metadata": {},
   "outputs": [
    {
     "data": {
      "image/png": "[encoded data removed]",
      "text/plain": [
       "<Figure size 720x432 with 1 Axes>"
      ]
     },
     "metadata": {
      "needs_background": "light"
     },
     "output_type": "display_data"
    }
   ],
   "source": [
    "# Plot histogram of No. of Houses Sold vs Kitchen Quality\n",
    "fig, histo_kitchen_qual = plt.subplots(figsize=(10,6))                       \n",
    "color = 'navy'                                                                                # Set color to 'navy'\n",
    "histo_kitchen_qual.set_title('No. of Houses Sold vs Kitchen Quality', fontsize=16)              # Set title to 'No. of Houses Sold vs Kitchen Quality'\n",
    "histo_kitchen_qual.set_xlabel('Kitchen Quality', fontsize=16)                                   # Set xlabel to 'Kitchen Quality'\n",
    "histo_kitchen_qual.set_ylabel('No. of Houses Sold', fontsize=16)                                # Set ylabel to 'No. of Houses Sold'\n",
    "histo_kitchen_qual = sns.histplot(x='kitchen_qual', data = train_dummified, color=color)          # Plot histogram\n",
    "plt.xlim(2,5)                                                                            # Set x-limit to 500-3000\n",
    "plt.show()"
   ]
  },
  {
   "cell_type": "markdown",
   "metadata": {},
   "source": [
    "#### Mean SalePrice vs Number of Fireplaces"
   ]
  },
  {
   "cell_type": "code",
   "execution_count": 35,
   "metadata": {},
   "outputs": [
    {
     "data": {
      "image/png": "[encoded data removed]",
      "text/plain": [
       "<Figure size 432x288 with 1 Axes>"
      ]
     },
     "metadata": {
      "needs_background": "light"
     },
     "output_type": "display_data"
    }
   ],
   "source": [
    "# Plot a line graph of Mean Saleprice vs fireplaces number\n",
    "fireplacenumber = train_dummified.groupby('fireplaces')['saleprice'].agg(['mean']);   # Groupby 'fieplaces' and get the mean 'saleprice' and save it into a new dataframe 'fireplacenumber' \n",
    "fireplacenumber.rename(columns={'mean': 'Mean_Saleprice'}, inplace = True);           # Rename 'mean' to 'Mean_Saleprice'\n",
    "fireplacenumber['Mean_Saleprice'].plot();                                             # Plot the line graph\n",
    "plt.xlabel('Number of Fireplaces');                                                   # Plot x-label 'Number of Fireplaces'\n",
    "plt.ylabel('Mean SalePrice');                                                         # Plot y-label 'Mean SalePrice'\n",
    "plt.title('Mean SalePrice vs Number of Fireplaces');                                  # Plot title 'Mean SalePrice vs Kitchen Quality'"
   ]
  },
  {
   "cell_type": "markdown",
   "metadata": {},
   "source": [
    "While the number of fireplaces positively affect the saleprice of the house, the impact is most felt when there is a fireplace compared to none."
   ]
  },
  {
   "cell_type": "markdown",
   "metadata": {},
   "source": [
    "#### 1st Floor Square Footage vs No of Houses Sold"
   ]
  },
  {
   "cell_type": "code",
   "execution_count": 36,
   "metadata": {},
   "outputs": [
    {
     "data": {
      "image/png": "[encoded data removed]",
      "text/plain": [
       "<Figure size 1080x432 with 1 Axes>"
      ]
     },
     "metadata": {
      "needs_background": "light"
     },
     "output_type": "display_data"
    }
   ],
   "source": [
    "# Plot histogram of No. of Houses Sold vs 1st Floor Square Footage\n",
    "fig, histo_1st_flr_sf = plt.subplots(figsize=(15,6))                       \n",
    "color = 'navy'                                                                                # Set color to 'navy'\n",
    "histo_1st_flr_sf.set_title('No. of Houses Sold vs 1st Floor Square Footage', fontsize=16)     # Set title to 'No. of Houses Sold vs 1st Floor Square Footage'\n",
    "histo_1st_flr_sf.set_xlabel('1st Floor Square Footage', fontsize=16)                          # Set xlabel to '1st Floor Square Footage'\n",
    "histo_1st_flr_sf.set_ylabel('No. of Houses Sold', fontsize=16)                                # Set ylabel to 'No. of Houses Sold'\n",
    "histo_1st_flr_sf = sns.histplot(x='1st_flr_sf', data = train_dummified, color=color)          # Plot histogram\n",
    "plt.xlim(500,3000)                                                                            # Set x-limit to 500-3000\n",
    "plt.show()"
   ]
  },
  {
   "cell_type": "markdown",
   "metadata": {},
   "source": [
    "Houses with a 1st Floor approx 800 - 1200 sqft have been the most commonly sold, with houses 800 - 900 sqft being the standout performer."
   ]
  },
  {
   "cell_type": "markdown",
   "metadata": {},
   "source": [
    "#### 2nd Floor Square Footage vs No of Houses Sold"
   ]
  },
  {
   "cell_type": "code",
   "execution_count": 37,
   "metadata": {},
   "outputs": [
    {
     "data": {
      "image/png": "[encoded data removed]",
      "text/plain": [
       "<Figure size 1080x432 with 1 Axes>"
      ]
     },
     "metadata": {
      "needs_background": "light"
     },
     "output_type": "display_data"
    }
   ],
   "source": [
    "# Plot histogram of No. of Houses Sold vs 2nd Floor Square Footage\n",
    "fig, histo_2nd_flr_sf = plt.subplots(figsize=(15,6))\n",
    "color = 'navy'                                                                             # Set color to 'navy'\n",
    "histo_2nd_flr_sf.set_title('No. of Houses Sold vs 2nd Floor Square Footage', fontsize=16)  # Set title to 'No. of Houses Sold vs 2nd Floor Square Footage'\n",
    "histo_2nd_flr_sf.set_xlabel('2nd Floor Square Footage', fontsize=16)                       # Set xlabel to '2nd Floor Square Footage'\n",
    "histo_2nd_flr_sf.set_ylabel('No. of Houses Sold', fontsize=16)                             # Set ylabel to 'No. of Houses Sold'\n",
    "histo_2nd_flr_sf = sns.histplot(x='2nd_flr_sf', data = train_dummified, color=color)       # Plot histogram\n",
    "plt.xlim(200,1600)                                                                         # Set x-limit to 200-1600\n",
    "plt.ylim(0,200)                                                                            # Set y-limit to 0-200\n",
    "plt.show()"
   ]
  },
  {
   "cell_type": "markdown",
   "metadata": {},
   "source": [
    "Houses with a 2nd Floor that measures 700 - 900 sqft have been the most commonly sold"
   ]
  },
  {
   "cell_type": "markdown",
   "metadata": {},
   "source": [
    "#### No of Houses Sold vs Garage Area"
   ]
  },
  {
   "cell_type": "code",
   "execution_count": 38,
   "metadata": {
    "scrolled": false
   },
   "outputs": [
    {
     "data": {
      "image/png": "[encoded data removed]",
      "text/plain": [
       "<Figure size 1080x432 with 1 Axes>"
      ]
     },
     "metadata": {
      "needs_background": "light"
     },
     "output_type": "display_data"
    }
   ],
   "source": [
    "# Plot histogram of No of Houses Sold vs Garage Area\n",
    "fig, histo_garage_area = plt.subplots(figsize=(15,6))\n",
    "color = 'navy'                                                                           # Set color to 'navy'\n",
    "histo_garage_area.set_title('No. of Houses Sold vs Garage Area', fontsize=16)            # Set title to 'No. of Houses Sold vs Garage Area'\n",
    "histo_garage_area.set_xlabel('Garage Area (Square Foot)', fontsize=16)                   # Set xlabel to 'Garage Area (Square Foot)'\n",
    "histo_garage_area.set_ylabel('No. of Houses Sold', fontsize=16)                          # Set ylabel to 'No. of Houses Sold'\n",
    "histo_garage_area = sns.histplot(x='garage_area', data = train_dummified, color=color)   # Plot histogram\n",
    "plt.xlim(200,1200)                                                                       # Set x-limit to 200-1200\n",
    "plt.show()"
   ]
  },
  {
   "cell_type": "markdown",
   "metadata": {},
   "source": [
    "Houses with garage area around 500 sqft have been the most commonly sold"
   ]
  },
  {
   "cell_type": "markdown",
   "metadata": {},
   "source": [
    "### 3. Modelling"
   ]
  },
  {
   "cell_type": "markdown",
   "metadata": {},
   "source": [
    "#### 1. Model Prep - Create features matrix (X) & target vector (y)"
   ]
  },
  {
   "cell_type": "code",
   "execution_count": 39,
   "metadata": {},
   "outputs": [],
   "source": [
    "# Save a list of \"features\" which include all column names \n",
    "features = [col for col in train_dummified._get_numeric_data().columns if col != 'saleprice'] # Save all column names into features list excluding 'saleprice'\n",
    "features.remove('id')                                                                         # Remove the column 'id' in features\n",
    "\n",
    "\n",
    "X = train_dummified[features]             # Create features matrix (X)\n",
    "y = train_dummified['saleprice']          # Create target vector (y)"
   ]
  },
  {
   "cell_type": "code",
   "execution_count": 40,
   "metadata": {},
   "outputs": [],
   "source": [
    "# Do a train-test split of 65-35 for train-test\n",
    "X_train,X_test,y_train,y_test = train_test_split(X,y,train_size = 0.65)"
   ]
  },
  {
   "cell_type": "code",
   "execution_count": 41,
   "metadata": {},
   "outputs": [
    {
     "name": "stdout",
     "output_type": "stream",
     "text": [
      "(1333, 123)\n",
      "(718, 123)\n",
      "(1333,)\n",
      "(718,)\n"
     ]
    }
   ],
   "source": [
    "# Print the shape of train and test to ensure the split is 65-35\n",
    "print(X_train.shape)\n",
    "print(X_test.shape)\n",
    "print(y_train.shape)\n",
    "print(y_test.shape)"
   ]
  },
  {
   "cell_type": "markdown",
   "metadata": {},
   "source": [
    "#### 2. Model Prep - Scaling"
   ]
  },
  {
   "cell_type": "code",
   "execution_count": 42,
   "metadata": {},
   "outputs": [],
   "source": [
    "# Standardization of all variables to ensure that the beta values for each predictor variable to be on the same scale.\n",
    "ss = StandardScaler()\n",
    "ss.fit(X_train)\n",
    "Z_train = ss.transform(X_train)\n",
    "Z_test = ss.transform(X_test)"
   ]
  },
  {
   "cell_type": "markdown",
   "metadata": {},
   "source": [
    "#### 3. Linear Regression Model"
   ]
  },
  {
   "cell_type": "code",
   "execution_count": 43,
   "metadata": {
    "scrolled": true
   },
   "outputs": [
    {
     "data": {
      "text/plain": [
       "LinearRegression()"
      ]
     },
     "execution_count": 43,
     "metadata": {},
     "output_type": "execute_result"
    }
   ],
   "source": [
    "# Instantiate linear regression model\n",
    "lr = LinearRegression()\n",
    "\n",
    "# Fit data into the model\n",
    "lr.fit(Z_train, y_train)"
   ]
  },
  {
   "cell_type": "code",
   "execution_count": 44,
   "metadata": {
    "scrolled": true
   },
   "outputs": [
    {
     "name": "stdout",
     "output_type": "stream",
     "text": [
      "------------------------------------\n",
      "\n",
      "K: 3\n",
      "Cross-validated scores: [0.89735588 0.89189103 0.78626049]\n",
      "Mean CV R2: 0.8585024682022123\n",
      "RMSE : 29379.834277038615\n",
      "------------------------------------\n",
      "\n",
      "K: 4\n",
      "Cross-validated scores: [0.91338609 0.89389033 0.7708439  0.87214784]\n",
      "Mean CV R2: 0.8625670436804758\n",
      "RMSE : 29011.766694188595\n",
      "------------------------------------\n",
      "\n",
      "K: 5\n",
      "Cross-validated scores: [0.91426673 0.90029519 0.91853623 0.7170463  0.87530193]\n",
      "Mean CV R2: 0.865089275169551\n",
      "RMSE : 28711.146015537954\n",
      "------------------------------------\n",
      "\n",
      "K: 6\n",
      "Cross-validated scores: [0.91811857 0.89842717 0.90349012 0.90636142 0.70500456 0.86359208]\n",
      "Mean CV R2: 0.8658323172163215\n",
      "RMSE : 29144.82329700276\n",
      "------------------------------------\n",
      "\n",
      "K: 7\n",
      "Cross-validated scores: [0.91953257 0.89473881 0.91230671 0.92182258 0.56693707 0.87891766\n",
      " 0.86764874]\n",
      "Mean CV R2: 0.8517005933190082\n",
      "RMSE : 28970.188565078763\n",
      "------------------------------------\n",
      "\n",
      "K: 8\n",
      "Cross-validated scores: [0.92544089 0.90766786 0.89622365 0.90756258 0.92107592 0.60167436\n",
      " 0.88982301 0.86694999]\n",
      "Mean CV R2: 0.8645522836437144\n",
      "RMSE : 28681.69753507289\n",
      "------------------------------------\n",
      "\n",
      "K: 9\n",
      "Cross-validated scores: [0.92402557 0.91183297 0.86890652 0.91623128 0.91696466 0.89351257\n",
      " 0.55970597 0.89075851 0.86817801]\n",
      "Mean CV R2: 0.8611240087114447\n",
      "RMSE : 29213.78132270695\n",
      "------------------------------------\n",
      "\n",
      "K: 10\n",
      "Cross-validated scores: [0.93126565 0.89939917 0.88881841 0.91954598 0.90728736 0.93089446\n",
      " 0.86696608 0.63934187 0.90761898 0.85983676]\n",
      "Mean CV R2: 0.8750974717089107\n",
      "RMSE : 28201.056094950556\n",
      "------------------------------------\n",
      "\n",
      "K: 11\n",
      "Cross-validated scores: [0.93844224 0.89769861 0.90207607 0.89345695 0.92493663 0.91359681\n",
      " 0.9216619  0.50844306 0.87195006 0.88929457 0.86116177]\n",
      "Mean CV R2: 0.8657016986779847\n",
      "RMSE : 28915.328322850004\n",
      "------------------------------------\n",
      "\n",
      "K: 12\n",
      "Cross-validated scores: [0.9394538  0.89503029 0.91645824 0.88586847 0.91716937 0.90176509\n",
      " 0.93448188 0.86285509 0.49758484 0.89031767 0.88655001 0.85454912]\n",
      "Mean CV R2: 0.8651736569828118\n",
      "RMSE : 28925.691426314104\n",
      "------------------------------------\n",
      "\n",
      "K: 13\n",
      "Cross-validated scores: [0.94243597 0.89755999 0.9127844  0.86476882 0.9240196  0.91280462\n",
      " 0.89892984 0.9217967  0.87094071 0.48595334 0.89665864 0.84259323\n",
      " 0.88460007]\n",
      "Mean CV R2: 0.8658343027761414\n",
      "RMSE : 28497.60178795035\n",
      "------------------------------------\n",
      "\n",
      "K: 14\n",
      "Cross-validated scores: [0.92793656 0.91447945 0.90830772 0.88470413 0.91142083 0.91517396\n",
      " 0.90489535 0.9304428  0.89346836 0.25058011 0.86920533 0.90518945\n",
      " 0.85846854 0.87872262]\n",
      "Mean CV R2: 0.8537853723936547\n",
      "RMSE : 28996.617179728935\n",
      "------------------------------------\n",
      "\n",
      "K: 15\n",
      "Cross-validated scores: [0.92890807 0.91315033 0.9090566  0.91260817 0.88500621 0.91858615\n",
      " 0.91734872 0.89384707 0.93959626 0.84686552 0.43873589 0.88729219\n",
      " 0.91158334 0.85290131 0.87566013]\n",
      "Mean CV R2: 0.8687430638823709\n",
      "RMSE : 28683.811549206268\n",
      "------------------------------------\n",
      "\n",
      "K: 16\n",
      "Cross-validated scores: [0.92899257 0.92447269 0.90245696 0.92174275 0.86615331 0.91639324\n",
      " 0.91847323 0.90287274 0.9259934  0.91434365 0.83815815 0.47785005\n",
      " 0.89123671 0.89921825 0.8680788  0.86541902]\n",
      "Mean CV R2: 0.8726159700490079\n",
      "RMSE : 28442.69598632058\n",
      "------------------------------------\n",
      "\n",
      "K: 17\n",
      "Cross-validated scores: [0.92357566 0.9295657  0.90962665 0.90976734 0.87300927 0.9196876\n",
      " 0.91422012 0.90336454 0.90033514 0.94814871 0.86297557 0.87654681\n",
      " 0.41320967 0.89548861 0.88548938 0.87481796 0.86407281]\n",
      "Mean CV R2: 0.8708177376383506\n",
      "RMSE : 28359.026859238365\n",
      "------------------------------------\n",
      "\n",
      "K: 18\n",
      "Cross-validated scores: [0.92326478 0.92676157 0.90813569 0.91851823 0.88404129 0.89839854\n",
      " 0.92147018 0.91507265 0.89862944 0.92942603 0.92361699 0.86165201\n",
      " 0.35960493 0.88382961 0.89637195 0.88373466 0.87133378 0.86275008]\n",
      "Mean CV R2: 0.870367355868281\n",
      "RMSE : 28754.539815278484\n",
      "------------------------------------\n",
      "\n",
      "K: 19\n",
      "Cross-validated scores: [0.92161626 0.93148808 0.91469154 0.90865455 0.89613908 0.8701999\n",
      " 0.9185065  0.92353761 0.8917337  0.9112148  0.94169191 0.87667514\n",
      " 0.84696615 0.43019839 0.8934414  0.90587042 0.87593911 0.87397128\n",
      " 0.85192526]\n",
      "Mean CV R2: 0.8728663721562647\n",
      "RMSE : 28420.12809566317\n",
      "------------------------------------\n",
      "\n",
      "K: 20\n",
      "Cross-validated scores: [0.91816714 0.94120311 0.90366026 0.89848224 0.92752515 0.85892872\n",
      " 0.91401659 0.92273476 0.90545469 0.9134088  0.93067196 0.93510883\n",
      " 0.86427444 0.86403154 0.38394087 0.87584183 0.91488001 0.8880038\n",
      " 0.87024597 0.85309593]\n",
      "Mean CV R2: 0.874183832091757\n",
      "RMSE : 28278.871847241404\n"
     ]
    }
   ],
   "source": [
    "# iterate through folds 3-20 to check which number of folds gave the highest score\n",
    "for folds in range(3,21):\n",
    "    print ('------------------------------------\\n')\n",
    "    print ('K:', folds)\n",
    "    \n",
    "    # Perform cross-validation\n",
    "    scores = cross_val_score(lr, Z_train, y_train, cv=folds)\n",
    "    print (\"Cross-validated scores:\", scores)\n",
    "    print (\"Mean CV R2:\", np.mean(scores))\n",
    "    \n",
    "    # Make cross-validated predictions\n",
    "    predictions = cross_val_predict(lr, Z_train, y_train, cv=folds)\n",
    "    # print the RMSE for cross-validated predictions\n",
    "    print(\"RMSE :\",np.sqrt(metrics.mean_squared_error(y_train,predictions)))"
   ]
  },
  {
   "cell_type": "code",
   "execution_count": 45,
   "metadata": {},
   "outputs": [
    {
     "name": "stdout",
     "output_type": "stream",
     "text": [
      "[0.94243597 0.89755999 0.9127844  0.86476882 0.9240196  0.91280462\n",
      " 0.89892984 0.9217967  0.87094071 0.48595334 0.89665864 0.84259323\n",
      " 0.88460007]\n",
      "Mean CV R2: 0.8658343027761414\n",
      "RMSE : 28497.60178795035\n"
     ]
    }
   ],
   "source": [
    "# Get the cross validation score of the model on train\n",
    "# Use k-fold cross validation of 13 times, as the cross-predicted score is one of the highest above, and the RMSE is one of the lowest above\n",
    "lr_scores = cross_val_score(lr,Z_train, y_train, cv=13)\n",
    "\n",
    "# Print the cross validation score of each fold on train\n",
    "print(lr_scores)\n",
    "\n",
    "# Print the mean of cross validation score on train\n",
    "print(\"Mean CV R2:\", lr_scores.mean())\n",
    "\n",
    "# Make cross-validated predictions\n",
    "predictions = cross_val_predict(lr, Z_train, y_train, cv=13)\n",
    "\n",
    "# print the RMSE for cross-validated predictions\n",
    "print(\"RMSE :\", np.sqrt(metrics.mean_squared_error(y_train,predictions)))"
   ]
  },
  {
   "cell_type": "code",
   "execution_count": 46,
   "metadata": {
    "scrolled": true
   },
   "outputs": [
    {
     "name": "stdout",
     "output_type": "stream",
     "text": [
      "[ 7.09013058e-01  8.58905017e-01  8.16370548e-01  9.08400942e-01\n",
      "  9.03692628e-01  7.11526019e-01  7.67674962e-01 -5.71521145e+20\n",
      "  9.39074680e-01  8.50118362e-01  8.58300651e-01  8.83686990e-01\n",
      "  8.47961280e-01]\n",
      "Mean CV R2: -4.3963165003386946e+19\n",
      "RMSE : 608814460288821.9\n"
     ]
    }
   ],
   "source": [
    "# Get the cross validation score of the model on test set.\n",
    "lr_scores = cross_val_score(lr,Z_test, y_test, cv=13)\n",
    "\n",
    "# Print the cross validation score of each fold on test set.\n",
    "print(lr_scores)\n",
    "\n",
    "# Print the mean of cross validation score on test set.\n",
    "print(\"Mean CV R2:\", lr_scores.mean())\n",
    "\n",
    "# Make cross-validated predictions\n",
    "predictions = cross_val_predict(lr, Z_test, y_test, cv=13)\n",
    "\n",
    "# print the RMSE for cross-validated predictions\n",
    "print(\"RMSE :\", np.sqrt(metrics.mean_squared_error(y_test,predictions)))"
   ]
  },
  {
   "cell_type": "code",
   "execution_count": 47,
   "metadata": {
    "scrolled": true
   },
   "outputs": [
    {
     "data": {
      "text/plain": [
       "array([ 1.11939297e+03,  3.47316594e+03, -8.16709611e+01,  1.22427557e+04,\n",
       "        4.74387371e+03,  6.34280321e+03,  4.94803186e+02,  4.41663315e+03,\n",
       "        5.23158412e+03,  2.28237487e+03, -1.63103298e+03,  4.65834935e+03,\n",
       "        1.72173279e+03,  4.43060357e+03, -5.32498510e+02,  5.85315275e+03,\n",
       "        1.27580663e+03,  1.96814118e+02,  1.40156570e+04,  2.08295929e+04,\n",
       "        3.78085862e+03,  2.20572472e+03,  1.12643641e+03,  5.94096035e+02,\n",
       "        1.26349844e+03,  5.54690712e+03, -8.02975174e+02,  2.04383988e+03,\n",
       "        4.44610696e+03,  2.65580702e+03,  6.14091898e+03,  7.74791956e+02,\n",
       "        5.10167932e+01, -5.14933924e+02, -1.18128208e+03,  1.19846266e+02,\n",
       "        3.12184398e+03,  9.50800026e+02, -4.22023995e+02,  2.48424897e+03,\n",
       "        2.31573753e+03, -7.44325709e+16, -8.45749817e+02,  5.88944466e+02,\n",
       "        4.92034211e+02, -1.61788622e+03, -1.43113706e+03, -6.48543256e+02,\n",
       "       -7.78256714e+02,  2.71674350e+01,  1.17392726e+03,  3.85640455e+03,\n",
       "        3.07622267e+03,  2.91251022e+03,  4.27780126e+02,  1.23436298e+03,\n",
       "        1.96026710e+03,  2.12882340e+02,  3.47617865e+01, -6.01772985e+02,\n",
       "        3.44786798e+03, -2.09742626e+03,  2.98980095e+02,  1.62426288e+02,\n",
       "       -1.33858385e+03,  3.85331472e+03,  1.03866656e+04, -6.70680245e+02,\n",
       "        3.00297738e+02,  5.29852204e+02,  3.68335322e+03,  6.24150033e+03,\n",
       "        8.19063798e+02,  9.74131791e+02,  4.89496540e+02,  2.73311964e+03,\n",
       "        1.83968281e+03,  2.44480570e+03, -4.40664454e+02,  1.32728962e+03,\n",
       "       -1.13698398e+03,  7.44325709e+16, -4.95554693e+03, -5.11325525e+03,\n",
       "        2.34083585e+02, -7.23990281e+03, -5.24420386e+02,  3.26354843e+03,\n",
       "        5.67807749e+03, -6.37282260e+02,  4.36321524e+03, -1.29114345e+03,\n",
       "       -7.84688508e+02, -2.51009830e+03, -7.16038416e+02, -4.62533071e+03,\n",
       "       -2.82995227e+03, -1.26682626e+03, -3.19486479e+03, -1.79054633e+03,\n",
       "        6.32678058e+03,  8.30151531e+03,  3.70539868e+03,  8.79411288e+02,\n",
       "        1.76213010e+03,  1.42975611e+03, -1.17953905e+03,  5.13974729e+02,\n",
       "        2.67676779e+02,  2.04488860e+02, -7.03527420e+02,  2.12520970e+03,\n",
       "       -4.39176681e+02,  6.06557572e+02,  1.74234334e+02,  2.25107191e+03,\n",
       "        5.50452070e+03,  1.30292046e+03,  1.01250683e+03,  1.17582709e+03,\n",
       "        1.84071364e+02,  3.99038671e+03, -8.76197597e+02])"
      ]
     },
     "execution_count": 47,
     "metadata": {},
     "output_type": "execute_result"
    }
   ],
   "source": [
    "# Print the coefficient for linear regression\n",
    "lr.coef_"
   ]
  },
  {
   "cell_type": "markdown",
   "metadata": {},
   "source": [
    "#### 4. Ridge Model"
   ]
  },
  {
   "cell_type": "code",
   "execution_count": 48,
   "metadata": {},
   "outputs": [
    {
     "name": "stdout",
     "output_type": "stream",
     "text": [
      "193.38917504552322\n"
     ]
    }
   ],
   "source": [
    "# Find an optimal value for ridge regression alpha \n",
    "ridge_alphas = np.logspace(0, 5, 200)                   # np.logspace generates 200 values equally between 0 and 5, \n",
    "                                                        # then converts them to alphas between 10^0 and 10^5.\n",
    "\n",
    "# Cross-validate over our list of ridge alphas.\n",
    "optimal_ridge = RidgeCV(alphas=ridge_alphas, cv=5)\n",
    "\n",
    "# Fit Z-train and y_train into ridge model\n",
    "optimal_ridge.fit(Z_train, y_train)\n",
    "\n",
    "# Print the optimal ridge alpha\n",
    "print (optimal_ridge.alpha_)"
   ]
  },
  {
   "cell_type": "code",
   "execution_count": 49,
   "metadata": {},
   "outputs": [
    {
     "name": "stdout",
     "output_type": "stream",
     "text": [
      "------------------------------------\n",
      "\n",
      "K: 3\n",
      "Cross-validated scores: [0.90259753 0.90079548 0.80929991]\n",
      "Mean CV R2: 0.8708976368963731\n",
      "RMSE : 28057.168938723065\n",
      "------------------------------------\n",
      "\n",
      "K: 4\n",
      "Cross-validated scores: [0.9136705  0.89802144 0.80955966 0.86780961]\n",
      "Mean CV R2: 0.8722653033309298\n",
      "RMSE : 27928.396518076177\n",
      "------------------------------------\n",
      "\n",
      "K: 5\n",
      "Cross-validated scores: [0.91249388 0.90069061 0.91832268 0.76216547 0.86587236]\n",
      "Mean CV R2: 0.8719090005912946\n",
      "RMSE : 27905.942465371125\n",
      "------------------------------------\n",
      "\n",
      "K: 6\n",
      "Cross-validated scores: [0.91740615 0.90102185 0.90315834 0.91450472 0.75837103 0.854757  ]\n",
      "Mean CV R2: 0.8748698480230906\n",
      "RMSE : 27953.745670702778\n",
      "------------------------------------\n",
      "\n",
      "K: 7\n",
      "Cross-validated scores: [0.91783782 0.89594433 0.90956967 0.92452915 0.64278199 0.87531204\n",
      " 0.85863631]\n",
      "Mean CV R2: 0.8606587593481267\n",
      "RMSE : 28242.160025989237\n",
      "------------------------------------\n",
      "\n",
      "K: 8\n",
      "Cross-validated scores: [0.9230009  0.9080844  0.89355344 0.90813127 0.92362779 0.67430159\n",
      " 0.88917627 0.8544847 ]\n",
      "Mean CV R2: 0.8717950457338752\n",
      "RMSE : 27860.553419261872\n",
      "------------------------------------\n",
      "\n",
      "K: 9\n",
      "Cross-validated scores: [0.9275164  0.90485328 0.89212959 0.9084083  0.91924275 0.90231373\n",
      " 0.64831839 0.89087904 0.85557248]\n",
      "Mean CV R2: 0.8721371070295902\n",
      "RMSE : 27989.90065799437\n",
      "------------------------------------\n",
      "\n",
      "K: 10\n",
      "Cross-validated scores: [0.93317326 0.89213326 0.88990457 0.91847134 0.90462269 0.93361286\n",
      " 0.880707   0.69027928 0.90135736 0.8452588 ]\n",
      "Mean CV R2: 0.8789520406052912\n",
      "RMSE : 27602.360271717545\n",
      "------------------------------------\n",
      "\n",
      "K: 11\n",
      "Cross-validated scores: [0.93739435 0.88991956 0.90793667 0.89096234 0.92472556 0.91279949\n",
      " 0.92321389 0.60171978 0.89123503 0.88874826 0.84511735]\n",
      "Mean CV R2: 0.8739792974611824\n",
      "RMSE : 27909.92695307824\n",
      "------------------------------------\n",
      "\n",
      "K: 12\n",
      "Cross-validated scores: [0.93706546 0.89509247 0.9137786  0.88948726 0.91082857 0.90306585\n",
      " 0.93898706 0.87020295 0.59862609 0.89057737 0.88536374 0.84006079]\n",
      "Mean CV R2: 0.8727613517728181\n",
      "RMSE : 27961.164289220145\n",
      "------------------------------------\n",
      "\n",
      "K: 13\n",
      "Cross-validated scores: [0.94043059 0.89532992 0.91074606 0.86445158 0.92515211 0.91204363\n",
      " 0.89789559 0.92425555 0.88989013 0.56608857 0.89295805 0.84730471\n",
      " 0.86635855]\n",
      "Mean CV R2: 0.87176192598366\n",
      "RMSE : 27801.569798948654\n",
      "------------------------------------\n",
      "\n",
      "K: 14\n",
      "Cross-validated scores: [0.92752638 0.90946914 0.90727308 0.88456476 0.91044379 0.90935836\n",
      " 0.90930449 0.93529172 0.8941122  0.40802207 0.86928133 0.89733985\n",
      " 0.86637553 0.86003804]\n",
      "Mean CV R2: 0.8634571963481789\n",
      "RMSE : 28137.224184386607\n",
      "------------------------------------\n",
      "\n",
      "K: 15\n",
      "Cross-validated scores: [0.92780758 0.90882538 0.90744433 0.91429656 0.88961199 0.91431107\n",
      " 0.91503316 0.89188522 0.94201543 0.85246713 0.55179506 0.89139248\n",
      " 0.90006677 0.85899936 0.85381677]\n",
      "Mean CV R2: 0.8746512188430963\n",
      "RMSE : 27840.66562026226\n",
      "------------------------------------\n",
      "\n",
      "K: 16\n",
      "Cross-validated scores: [0.92753444 0.9194528  0.89854168 0.92552198 0.86815522 0.91467223\n",
      " 0.91259527 0.90869971 0.93030772 0.91623007 0.86369897 0.56219673\n",
      " 0.89137541 0.89365001 0.87050361 0.84113384]\n",
      "Mean CV R2: 0.8777668548447536\n",
      "RMSE : 27738.96351862878\n",
      "------------------------------------\n",
      "\n",
      "K: 17\n",
      "Cross-validated scores: [0.92362343 0.93444784 0.89994701 0.90957105 0.87078851 0.91799551\n",
      " 0.91011407 0.90592214 0.89961925 0.95245603 0.8639537  0.89536108\n",
      " 0.50369285 0.89173223 0.8848747  0.87954652 0.83705209]\n",
      "Mean CV R2: 0.8753351778784845\n",
      "RMSE : 27742.793442479724\n",
      "------------------------------------\n",
      "\n",
      "K: 18\n",
      "Cross-validated scores: [0.92339685 0.93330575 0.90108545 0.91203821 0.88459582 0.90324754\n",
      " 0.91591831 0.90291648 0.90635117 0.93181454 0.92689078 0.8715663\n",
      " 0.48876753 0.8916665  0.89433023 0.87737348 0.87627488 0.83406075]\n",
      "Mean CV R2: 0.8764222521007043\n",
      "RMSE : 27844.148935220986\n",
      "------------------------------------\n",
      "\n",
      "K: 19\n",
      "Cross-validated scores: [0.92125895 0.93723668 0.90627236 0.90596709 0.9016343  0.87055064\n",
      " 0.91509482 0.9128342  0.90826332 0.90790056 0.94750432 0.87663478\n",
      " 0.86920771 0.52323198 0.89360261 0.89717929 0.87792575 0.87727948\n",
      " 0.82337949]\n",
      "Mean CV R2: 0.8775241222247725\n",
      "RMSE : 27731.746748462367\n",
      "------------------------------------\n",
      "\n",
      "K: 20\n",
      "Cross-validated scores: [0.91768715 0.94654803 0.89558665 0.89463466 0.92853334 0.8582099\n",
      " 0.91781965 0.91829966 0.89901302 0.90985344 0.93512441 0.93523716\n",
      " 0.87164319 0.88624835 0.48099929 0.87785457 0.90196218 0.88780707\n",
      " 0.87555512 0.82253803]\n",
      "Mean CV R2: 0.8780577430050724\n",
      "RMSE : 27675.759455648473\n"
     ]
    }
   ],
   "source": [
    "# Instantiate the ridge model with optimal alpha\n",
    "ridge = Ridge(alpha=optimal_ridge.alpha_)\n",
    "\n",
    "# iterate through folds 3-20 to check which number of folds gave the highest score\n",
    "for folds in range(3,21):\n",
    "    print ('------------------------------------\\n')\n",
    "    print ('K:', folds)\n",
    "    \n",
    "    # Perform cross-validation\n",
    "    scores = cross_val_score(ridge, Z_train, y_train, cv=folds)\n",
    "    print (\"Cross-validated scores:\", scores)\n",
    "    print (\"Mean CV R2:\", np.mean(scores))\n",
    "    \n",
    "    # Make cross-validated predictions\n",
    "    predictions = cross_val_predict(ridge, Z_train, y_train, cv=folds)\n",
    "    # print the RMSE for cross-validated predictions\n",
    "    print(\"RMSE :\", np.sqrt(metrics.mean_squared_error(y_train,predictions)))"
   ]
  },
  {
   "cell_type": "code",
   "execution_count": 50,
   "metadata": {},
   "outputs": [
    {
     "name": "stdout",
     "output_type": "stream",
     "text": [
      "[0.94043059 0.89532992 0.91074606 0.86445158 0.92515211 0.91204363\n",
      " 0.89789559 0.92425555 0.88989013 0.56608857 0.89295805 0.84730471\n",
      " 0.86635855]\n",
      "Mean Score R2: 0.87176192598366\n",
      "RMSE : 27801.569798948654\n"
     ]
    }
   ],
   "source": [
    "# Get the cross validation score of each fold on train set\n",
    "# Use 13 fold as the mean cross validation score for cross-prediction is one of the highest above, and the RMSE is one of the lowest above\n",
    "ridge_scores = cross_val_score(ridge, Z_train, y_train, cv=13)\n",
    "\n",
    "# Print the cross validation score of each fold on train set\n",
    "print (ridge_scores)\n",
    "\n",
    "# Print the mean cross validation score on train set\n",
    "print (\"Mean Score R2:\", np.mean(ridge_scores))\n",
    "\n",
    "# Print the cross prediction score on train set\n",
    "predictions = cross_val_predict(ridge, Z_train, y_train, cv=13)\n",
    "\n",
    "# print the RMSE for cross-validated predictions\n",
    "print(\"RMSE :\", np.sqrt(metrics.mean_squared_error(y_train,predictions)))"
   ]
  },
  {
   "cell_type": "code",
   "execution_count": 51,
   "metadata": {
    "scrolled": true
   },
   "outputs": [
    {
     "name": "stdout",
     "output_type": "stream",
     "text": [
      "[0.77496835 0.90817973 0.86177382 0.92720596 0.91006383 0.78576042\n",
      " 0.76298824 0.31042296 0.93107261 0.83201325 0.87829713 0.89268598\n",
      " 0.8886601 ]\n",
      "Mean Score R2: 0.820314799025435\n",
      "RMSE : 35343.20262976977\n"
     ]
    }
   ],
   "source": [
    "# Get the cross validation score of each fold on test set\n",
    "ridge_scores = cross_val_score(ridge, Z_test, y_test, cv=13)\n",
    "\n",
    "# Print the cross validation score of each fold on test set\n",
    "print (ridge_scores)\n",
    "\n",
    "# Print the mean cross validation score on test set\n",
    "print (\"Mean Score R2:\", np.mean(ridge_scores))\n",
    "\n",
    "# Print the cross prediction score on test set\n",
    "predictions = cross_val_predict(ridge, Z_test, y_test, cv=13)\n",
    "\n",
    "# print the RMSE for cross-validated predictions\n",
    "print(\"RMSE :\", np.sqrt(metrics.mean_squared_error(y_test,predictions)))"
   ]
  },
  {
   "cell_type": "code",
   "execution_count": 52,
   "metadata": {
    "scrolled": true
   },
   "outputs": [
    {
     "data": {
      "text/plain": [
       "array([ 1.62494726e+03,  3.16942136e+03, -5.08614814e+02,  1.03997945e+04,\n",
       "        3.68251212e+03,  2.28701407e+03,  1.27213508e+03,  4.87900974e+03,\n",
       "        5.70825619e+03,  2.79449844e+03, -1.54767265e+03,  4.48506779e+03,\n",
       "        2.22457723e+03,  4.80704442e+03,  3.37538671e+02,  5.72458796e+03,\n",
       "        1.26285264e+03,  3.95965885e+02,  8.68799202e+03,  9.04750425e+03,\n",
       "        3.52313659e+03,  3.77788614e+03,  2.36911649e+03,  1.36947233e+03,\n",
       "       -2.19848422e+02,  5.98894038e+03,  2.77708602e+03,  1.97393244e+03,\n",
       "        5.21207420e+03,  2.18682094e+03,  6.30820086e+03, -4.68307397e+02,\n",
       "        3.59568502e+02,  1.83977856e+02,  1.60142464e+01,  1.99606629e+02,\n",
       "        3.22554911e+03, -2.54920291e+02,  4.21807977e+02,  1.17065364e+03,\n",
       "        3.37996025e+02, -9.52084575e+02, -2.29622781e+03, -1.54560928e+03,\n",
       "       -3.06152244e+00, -1.15034927e+03, -1.01580724e+03, -5.60904947e+02,\n",
       "       -6.68549414e+02,  1.29644332e+02,  1.02113114e+03,  2.94336387e+03,\n",
       "        1.52950510e+03,  2.68076838e+03,  2.48439288e+02,  9.35130709e+02,\n",
       "        8.59526831e+02,  2.43512734e+02, -2.78342790e-01, -9.40894969e+02,\n",
       "        3.33531944e+03, -2.05769165e+03, -2.64978724e+02, -6.02019066e+02,\n",
       "       -1.57888219e+03,  4.06558929e+03,  8.33943867e+03, -8.63268008e+02,\n",
       "        1.15776046e+02, -2.05896757e+01,  2.58800609e+03,  5.50510069e+03,\n",
       "        4.62328610e+02,  1.28919343e+03,  9.42577078e+01,  1.85571628e+03,\n",
       "        1.61941747e+03,  1.85107741e+03, -6.66888375e+02,  1.27875530e+03,\n",
       "       -6.35379703e+02, -9.52084575e+02, -2.52638886e+03, -2.11815486e+03,\n",
       "        1.20403924e+02, -9.22899715e+02, -6.21226091e+02, -2.49579734e+02,\n",
       "        2.21155420e+03, -2.78782115e+02,  4.22050712e+03, -1.10150101e+02,\n",
       "       -5.00960525e+02, -1.04267713e+03,  7.27765518e+02, -2.86249300e+03,\n",
       "       -1.77742809e+03, -6.56037071e+02, -5.41030818e+02, -1.31533376e+03,\n",
       "        1.08311568e+02,  1.08233991e+03,  2.67773303e+02, -3.82249261e+02,\n",
       "        1.38792677e+03,  1.56329621e+03, -9.49218524e+02,  2.95418951e+02,\n",
       "        9.12190345e+01,  1.54561175e+02, -5.77894788e+02,  3.75245512e+01,\n",
       "       -9.42786896e+02,  9.34156683e+02, -5.79371449e+02, -2.54187316e+02,\n",
       "        1.79216070e+03,  7.65925354e+02,  9.39398692e+01,  5.32387073e+02,\n",
       "        4.68093429e+00,  3.68481309e+03, -1.30570821e+03])"
      ]
     },
     "execution_count": 52,
     "metadata": {},
     "output_type": "execute_result"
    }
   ],
   "source": [
    "# Print the ridge coefficient\n",
    "optimal_ridge.coef_"
   ]
  },
  {
   "cell_type": "markdown",
   "metadata": {},
   "source": [
    "#### 5. Lasso Model"
   ]
  },
  {
   "cell_type": "code",
   "execution_count": 53,
   "metadata": {},
   "outputs": [
    {
     "name": "stderr",
     "output_type": "stream",
     "text": [
      "[Parallel(n_jobs=1)]: Using backend SequentialBackend with 1 concurrent workers.\n",
      "......................................................................................................................................................................................................................................................................................................................................................................................................................................................................................................................................................................................................................................................................................................................................................................................................................................................................................................................................................................................................................................................................................................................................................................................................................................................................................................................................................................................................................................................................................................................................................................................................................................................................................................................................................................................................................................................................................................................................................................................................................................................................................................................................................................................................................................................................................................................................................................................................................................................................................................................................"
     ]
    },
    {
     "name": "stdout",
     "output_type": "stream",
     "text": [
      "477.5362267254754\n"
     ]
    },
    {
     "name": "stderr",
     "output_type": "stream",
     "text": [
      "..............................................................[Parallel(n_jobs=1)]: Done   5 out of   5 | elapsed:    0.9s finished\n"
     ]
    }
   ],
   "source": [
    "# Find an optimal value for lasso regression alpha \n",
    "optimal_lasso = LassoCV(n_alphas=500, cv=5, verbose=1)\n",
    "\n",
    "# Fit Z-train and y_train into lasso model\n",
    "optimal_lasso.fit(Z_train, y_train)                        \n",
    "\n",
    "# Print the optimal lasso alpha\n",
    "print (optimal_lasso.alpha_)"
   ]
  },
  {
   "cell_type": "code",
   "execution_count": 54,
   "metadata": {
    "scrolled": true
   },
   "outputs": [
    {
     "name": "stdout",
     "output_type": "stream",
     "text": [
      "------------------------------------\n",
      "\n",
      "K: 3\n",
      "Cross-validated scores: [0.90473199 0.90404219 0.8022016 ]\n",
      "Mean CV R2: 0.8703252602008965\n",
      "Cross-Predicted R2: 0.869509136802288\n",
      "RMSE : 28128.936124812397\n",
      "------------------------------------\n",
      "\n",
      "K: 4\n",
      "Cross-validated scores: [0.91893722 0.90385241 0.78674791 0.87372588]\n",
      "Mean CV R2: 0.8708158551094659\n",
      "Cross-Predicted R2: 0.8695744586849943\n",
      "RMSE : 28121.894769474384\n",
      "------------------------------------\n",
      "\n",
      "K: 5\n",
      "Cross-validated scores: [0.91846771 0.90499732 0.92526573 0.73536859 0.873807  ]\n",
      "Mean CV R2: 0.8715812708612827\n",
      "Cross-Predicted R2: 0.8708467099761803\n",
      "RMSE : 27984.399478321484\n",
      "------------------------------------\n",
      "\n",
      "K: 6\n",
      "Cross-validated scores: [0.92116553 0.90296336 0.91337444 0.9144117  0.72669398 0.8661617 ]\n",
      "Mean CV R2: 0.8741284506889967\n",
      "Cross-Predicted R2: 0.8688542827484809\n",
      "RMSE : 28199.428782626135\n",
      "------------------------------------\n",
      "\n",
      "K: 7\n",
      "Cross-validated scores: [0.9211863  0.90128182 0.91513217 0.93032972 0.59635476 0.87522209\n",
      " 0.87006021]\n",
      "Mean CV R2: 0.8585095814862976\n",
      "Cross-Predicted R2: 0.8673752338079473\n",
      "RMSE : 28357.998192875883\n",
      "------------------------------------\n",
      "\n",
      "K: 8\n",
      "Cross-validated scores: [0.92880015 0.91125183 0.89865526 0.91688609 0.92405668 0.6389408\n",
      " 0.88809142 0.86597108]\n",
      "Mean CV R2: 0.8715816647182459\n",
      "Cross-Predicted R2: 0.87139496319606\n",
      "RMSE : 27924.93969235049\n",
      "------------------------------------\n",
      "\n",
      "K: 9\n",
      "Cross-validated scores: [0.93068611 0.91133291 0.89235648 0.91780106 0.92402808 0.90291247\n",
      " 0.60271259 0.88800331 0.86811096]\n",
      "Mean CV R2: 0.8708826636349118\n",
      "Cross-Predicted R2: 0.8691050738844924\n",
      "RMSE : 28172.45286909164\n",
      "------------------------------------\n",
      "\n",
      "K: 10\n",
      "Cross-validated scores: [0.93653979 0.8989101  0.89594462 0.91961093 0.91333486 0.9354863\n",
      " 0.87908825 0.65323605 0.90572427 0.85758372]\n",
      "Mean CV R2: 0.8795458888580514\n",
      "Cross-Predicted R2: 0.8734603014700929\n",
      "RMSE : 27699.801226792802\n",
      "------------------------------------\n",
      "\n",
      "K: 11\n",
      "Cross-validated scores: [0.93935254 0.90041318 0.91101295 0.89671497 0.93047721 0.91846009\n",
      " 0.92446185 0.55555666 0.88265699 0.89428571 0.85821762]\n",
      "Mean CV R2: 0.8737827067925115\n",
      "Cross-Predicted R2: 0.8705579132494035\n",
      "RMSE : 28015.669646231854\n",
      "------------------------------------\n",
      "\n",
      "K: 12\n",
      "Cross-validated scores: [0.93947591 0.90174873 0.91847886 0.89051692 0.91694227 0.91277017\n",
      " 0.94132719 0.86843895 0.54902903 0.88493307 0.89820629 0.85124565]\n",
      "Mean CV R2: 0.872759419840493\n",
      "Cross-Predicted R2: 0.8697792854078594\n",
      "RMSE : 28099.80408555455\n",
      "------------------------------------\n",
      "\n",
      "K: 13\n",
      "Cross-validated scores: [0.94288619 0.902758   0.91815569 0.86921513 0.92715233 0.92096736\n",
      " 0.9030355  0.92614482 0.89174404 0.51300737 0.88771848 0.86114841\n",
      " 0.87756327]\n",
      "Mean CV R2: 0.8724228152090066\n",
      "Cross-Predicted R2: 0.8719192697179012\n",
      "RMSE : 27867.958327259075\n",
      "------------------------------------\n",
      "\n",
      "K: 14\n",
      "Cross-validated scores: [0.93047195 0.91663131 0.9149246  0.88951139 0.91457114 0.91804431\n",
      " 0.91453538 0.93759839 0.89312033 0.32908256 0.86360228 0.899383\n",
      " 0.87677306 0.86988126]\n",
      "Mean CV R2: 0.8620093540313141\n",
      "Cross-Predicted R2: 0.8683520966621981\n",
      "RMSE : 28253.36813427671\n",
      "------------------------------------\n",
      "\n",
      "K: 15\n",
      "Cross-validated scores: [0.93176893 0.91562997 0.91434318 0.91823207 0.88971771 0.91975112\n",
      " 0.9226405  0.89794738 0.9456698  0.85097439 0.49326946 0.88183458\n",
      " 0.90570096 0.86896587 0.86502128]\n",
      "Mean CV R2: 0.8747644794518402\n",
      "Cross-Predicted R2: 0.8709150960321839\n",
      "RMSE : 27976.989693769683\n",
      "------------------------------------\n",
      "\n",
      "K: 16\n",
      "Cross-validated scores: [0.93101021 0.93041284 0.9028624  0.92762424 0.8722054  0.91903368\n",
      " 0.91954548 0.91673799 0.93334659 0.91461398 0.86559429 0.506694\n",
      " 0.88343685 0.90063853 0.87853081 0.85367636]\n",
      "Mean CV R2: 0.8784977282498754\n",
      "Cross-Predicted R2: 0.8723410480775015\n",
      "RMSE : 27822.0349692006\n",
      "------------------------------------\n",
      "\n",
      "K: 17\n",
      "Cross-validated scores: [0.92746263 0.94018269 0.90543907 0.91875304 0.8746243  0.92124383\n",
      " 0.91350725 0.91413712 0.90575231 0.95639272 0.86045324 0.89757332\n",
      " 0.44045629 0.88426334 0.89063632 0.88857913 0.8521134 ]\n",
      "Mean CV R2: 0.8759747053664864\n",
      "Cross-Predicted R2: 0.8723913108148731\n",
      "RMSE : 27816.557291016496\n",
      "------------------------------------\n",
      "\n",
      "K: 18\n",
      "Cross-validated scores: [0.92705298 0.94010862 0.90760285 0.91881222 0.88973433 0.90208991\n",
      " 0.92192678 0.91316085 0.91366738 0.93169168 0.93156784 0.86588315\n",
      " 0.42448384 0.88760168 0.88650287 0.88924316 0.88518764 0.84985188]\n",
      "Mean CV R2: 0.8770094250726653\n",
      "Cross-Predicted R2: 0.8709842429791677\n",
      "RMSE : 27969.495469039524\n",
      "------------------------------------\n",
      "\n",
      "K: 19\n",
      "Cross-validated scores: [0.92491218 0.94419997 0.91049732 0.91299827 0.90833321 0.87446442\n",
      " 0.91884551 0.92157811 0.91090259 0.91439271 0.95187351 0.87085239\n",
      " 0.87021893 0.46331908 0.88295116 0.89880293 0.88586657 0.88546934\n",
      " 0.8399717 ]\n",
      "Mean CV R2: 0.878444731553032\n",
      "Cross-Predicted R2: 0.8723995873717711\n",
      "RMSE : 27815.65520098737\n",
      "------------------------------------\n",
      "\n",
      "K: 20\n",
      "Cross-validated scores: [0.92222025 0.95299851 0.90089976 0.90333536 0.93167149 0.86710687\n",
      " 0.91631834 0.92386101 0.90979462 0.91949704 0.93200527 0.94116701\n",
      " 0.86524378 0.88810511 0.41588074 0.8677876  0.90448694 0.89814772\n",
      " 0.88220945 0.83967041]\n",
      "Mean CV R2: 0.8791203634421402\n",
      "Cross-Predicted R2: 0.873193043634805\n",
      "RMSE : 27729.037443791764\n"
     ]
    }
   ],
   "source": [
    "# Instantiate the lasso model with optimal alpha\n",
    "lasso = Lasso(alpha=optimal_lasso.alpha_)\n",
    "\n",
    "# iterate through folds 3-10 to check which number of folds gave the highest score\n",
    "for folds in range(3,21):\n",
    "    print ('------------------------------------\\n')\n",
    "    print ('K:', folds)\n",
    "    \n",
    "    # Perform cross-validation\n",
    "    scores = cross_val_score(lasso, Z_train, y_train, cv=folds)\n",
    "    print (\"Cross-validated scores:\", scores)\n",
    "    print (\"Mean CV R2:\", np.mean(scores))\n",
    "\n",
    "    # Make cross-validated predictions\n",
    "    predictions = cross_val_predict(lasso, Z_train, y_train, cv=folds)\n",
    "    \n",
    "    r2 = r2_score(y_train, predictions)\n",
    "    print (\"Cross-Predicted R2:\", r2)\n",
    "    \n",
    "    # print the RMSE for cross-validated predictions\n",
    "    print(\"RMSE :\",np.sqrt(metrics.mean_squared_error(y_train,predictions)))"
   ]
  },
  {
   "cell_type": "code",
   "execution_count": 55,
   "metadata": {},
   "outputs": [
    {
     "name": "stdout",
     "output_type": "stream",
     "text": [
      "[0.94288619 0.902758   0.91815569 0.86921513 0.92715233 0.92096736\n",
      " 0.9030355  0.92614482 0.89174404 0.51300737 0.88771848 0.86114841\n",
      " 0.87756327]\n",
      "Mean Score R2: 0.8724228152090066\n",
      "RMSE : 27867.958327259075\n"
     ]
    }
   ],
   "source": [
    "# Get the cross validation score of each fold on train set\n",
    "# Use 13 fold as the score for cross-prediction is one of the highest above, and the RMSE is one of the lowest above\n",
    "lasso_scores = cross_val_score(lasso, Z_train, y_train, cv=13)\n",
    "\n",
    "# Print the cross validation score of each fold on train set\n",
    "print (lasso_scores)\n",
    "\n",
    "# Print the mean cross validation score on train set\n",
    "print (\"Mean Score R2:\", np.mean(lasso_scores))\n",
    "\n",
    "# Print the cross prediction score on train set\n",
    "predictions = cross_val_predict(lasso, Z_train, y_train, cv=13)\n",
    "\n",
    "# print the RMSE for cross-validated predictions\n",
    "print(\"RMSE :\", np.sqrt(metrics.mean_squared_error(y_train,predictions)))"
   ]
  },
  {
   "cell_type": "code",
   "execution_count": 56,
   "metadata": {},
   "outputs": [
    {
     "name": "stdout",
     "output_type": "stream",
     "text": [
      "[0.76441901 0.91157675 0.86637254 0.92887522 0.92036784 0.7565283\n",
      " 0.76803282 0.21820065 0.93334926 0.83801642 0.87645853 0.88521284\n",
      " 0.87526119]\n",
      "Mean Score R2: 0.8109747220662415\n",
      "RMSE : 36357.42456317297\n"
     ]
    }
   ],
   "source": [
    "# Get the cross validation score of each fold on test set\n",
    "lasso_scores = cross_val_score(lasso, Z_test, y_test, cv=13)\n",
    "\n",
    "# Print the cross validation score of each fold on test set\n",
    "print (lasso_scores)\n",
    "\n",
    "# Print the mean cross validation score on test set\n",
    "print (\"Mean Score R2:\", np.mean(lasso_scores))\n",
    "\n",
    "# Print the cross prediction score on test set\n",
    "predictions = cross_val_predict(lasso, Z_test, y_test, cv=13)\n",
    "\n",
    "# print the RMSE for cross-validated predictions\n",
    "print(\"RMSE :\", np.sqrt(metrics.mean_squared_error(y_test,predictions)))"
   ]
  },
  {
   "cell_type": "code",
   "execution_count": 57,
   "metadata": {
    "scrolled": true
   },
   "outputs": [
    {
     "data": {
      "text/plain": [
       "array([  866.04215116,  2935.96257161,    -0.        , 12922.94832893,\n",
       "        3457.70017705,  4605.40551543,   387.30598973,  3804.45582276,\n",
       "        5979.19259351,  1019.99665969,  -469.70872185,  4170.55654837,\n",
       "        1117.77590468,  5227.25214347,    -0.        ,  4296.83578451,\n",
       "        1239.8438804 ,     0.        , 14722.04500801, 16800.53421285,\n",
       "        3223.16096826,  2032.94476873,   801.82997192,     0.        ,\n",
       "          -0.        ,  5750.11716718,     0.        ,  2014.5842278 ,\n",
       "        4590.32604834,  2104.05246358,  5708.22938502,    -0.        ,\n",
       "           0.        ,     0.        ,   -21.15843762,     0.        ,\n",
       "        3198.41505221,     0.        ,     0.        ,     0.        ,\n",
       "          -0.        , -1373.63487648, -1043.2455923 ,  -421.98684911,\n",
       "           0.        ,  -827.49314799,  -385.77042142,     0.        ,\n",
       "          -0.        ,     0.        ,   820.00354253,  3015.84410545,\n",
       "         990.8219748 ,  2495.29671923,     0.        ,   210.87831061,\n",
       "         310.22158632,     0.        ,     0.        ,    -0.        ,\n",
       "        3206.10277425, -1574.80186576,    -0.        ,    -0.        ,\n",
       "        -552.80842039,  3851.66276932,  9684.66254648,  -812.10655284,\n",
       "          -0.        ,     0.        ,  2864.95134864,  5636.2823637 ,\n",
       "         376.62816059,   754.76448065,    -0.        ,  1606.41182495,\n",
       "        1324.18278748,  1368.24847429,    -0.        ,  1091.1259118 ,\n",
       "        -224.13938337,  -161.10574401, -3718.3240766 , -3982.85697958,\n",
       "           0.        ,  -852.94117738,    -0.        ,    -0.        ,\n",
       "        2018.96819907,    -0.        ,  4082.02573217,     0.        ,\n",
       "        -399.0880582 ,  -463.82724734,   173.1857031 , -2086.56676486,\n",
       "       -1041.28302864,  -192.3537534 ,     0.        ,  -987.03527681,\n",
       "          -0.        ,   463.42437181,    -0.        ,    -0.        ,\n",
       "         700.81078903,   545.05349588,  -600.61907525,   279.23726327,\n",
       "           0.        ,     0.        ,    -0.        ,     0.        ,\n",
       "        -780.90002569,     0.        ,  -277.36809823,    -0.        ,\n",
       "        1874.5963979 ,    91.16420438,    -0.        ,     0.        ,\n",
       "           0.        ,  4695.51752398,  -119.00480111])"
      ]
     },
     "execution_count": 57,
     "metadata": {},
     "output_type": "execute_result"
    }
   ],
   "source": [
    "# print lasso coefficient\n",
    "optimal_lasso.coef_"
   ]
  },
  {
   "cell_type": "markdown",
   "metadata": {},
   "source": [
    "#### 6. Calculate baseline RMSE"
   ]
  },
  {
   "cell_type": "code",
   "execution_count": 58,
   "metadata": {},
   "outputs": [
    {
     "data": {
      "text/plain": [
       "181469.70160897123"
      ]
     },
     "execution_count": 58,
     "metadata": {},
     "output_type": "execute_result"
    }
   ],
   "source": [
    "# Obtain the mean of 'saleprice' column\n",
    "y_sum = 0                                       # Initiate a y_sum to be integer 0.\n",
    "for i in range (0,len(y)):                      # for i in range of number of rows,\n",
    "    y_sum += y[i]                               # Add all rows of data into y_sum\n",
    "\n",
    "y_mean = y_sum/len(y)                           # Obtain y_mean by dividing y_sum with number of rows\n",
    "\n",
    "y_mean                                          # Print y_mean"
   ]
  },
  {
   "cell_type": "code",
   "execution_count": 59,
   "metadata": {},
   "outputs": [],
   "source": [
    "# Initial an array of y_mean\n",
    "y_mean_array = []          \n",
    "\n",
    "for i in range (0,len(y)):               # for i in range from 0 to number of rows\n",
    "    y_mean_array.append(y_mean)         "
   ]
  },
  {
   "cell_type": "code",
   "execution_count": 60,
   "metadata": {},
   "outputs": [
    {
     "name": "stdout",
     "output_type": "stream",
     "text": [
      "RMSE : 79239.33504161824\n"
     ]
    }
   ],
   "source": [
    "# print the RMSE of baseline\n",
    "print(\"RMSE :\", np.sqrt(metrics.mean_squared_error(y,y_mean_array)))"
   ]
  },
  {
   "cell_type": "markdown",
   "metadata": {},
   "source": [
    "## Model Evaluation"
   ]
  },
  {
   "cell_type": "markdown",
   "metadata": {},
   "source": [
    "The performance of the 4 models above have being recorded down in table below."
   ]
  },
  {
   "cell_type": "markdown",
   "metadata": {},
   "source": [
    "|Different Model |Mean Cross Validation R2 of train set |Mean Cross Validation R2 of test set |RMSE for test set |\n",
    "|:---:|:---:|:---:|:---:|\n",
    "|**baseline**|0 |0|79,239 (for both train/test sets combined) |\n",
    "|||\n",
    "|**linear regression**|0.866|-4.396e+19|6.088e+14|\n",
    "|||\n",
    "|**ridge**|0.872|0.820|35,343|\n",
    "|||\n",
    "|**lasso**|0.872|0.810|36,357|"
   ]
  },
  {
   "cell_type": "markdown",
   "metadata": {},
   "source": [
    "Based on the different models above, we need to choose the best model.\n",
    "\n",
    "There are 2 regression metrics we can use to compare among the models.\n",
    "\n",
    "1st is Mean Cross Validation score R2. The formula for R2 is below:\n",
    "$$R^2 = \\frac{\\text{Explained Variance}}{\\text{Total Variance}} = 1 - \\frac{\\text{Model Error}}{\\text{Total Variance}} = 1 - \\frac{\\sum_{i=1}^n(y_i - \\hat{y}_i)^2}{\\sum_{i=1}^n(y_i - \\bar{y})^2}$$\n",
    "\n",
    "Our aim is to have higher score of R2, to be as close to 1 as possible.\n",
    "> - score = 0: Model explains none of the variability of the response data around its mean.\n",
    "> - score = 1: Model explains all the variability of the response data around its mean.\n",
    "\n",
    "2nd is Root Mean Squared Error (RMSE). The formula of RMSE is as follows:\n",
    "$$RMSE = \\sqrt{\\frac{1}{n}\\sum_{i=1}^n(y_i-\\hat{y}_i)^2}$$\n",
    "\n",
    "Our aim is to have RMSE as close to 0 as possible.\n",
    "This is because RMSE represents (approximately) average distance from the predicted value. The lower the RMSE, the lower the average distance from the predicted value, the lower the error we will cause when we use the model to predict values.\n",
    "\n",
    "Then, in our modelling process, we did a train-test split. It can help in diagnose and avoid overfitting via model tuning, as well as improving the quality of our predictions.\n",
    "\n",
    "In the table above, R2 is recorded for both train set and test set. This is because a difference in R2 between the train and test set could indicate if a model is underfitting or overfitting.\n",
    "> - R2 for train set > R2 for test set: Model is overfitting. The higher the magnitude, the more severe is overfitting.\n",
    "> - R2 for train set < R2 for test set: Model is underfitting. The higher the magnitude, the more severe is underfitting.\n",
    "\n",
    "Our aim is to reduce the difference between R2 for train set and test set."
   ]
  },
  {
   "cell_type": "markdown",
   "metadata": {},
   "source": [
    "#### Comparison between Linear Regression to Baseline\n",
    "For linear regression, the R2 for train set is better than baseline (0.866 vs 0). \n",
    "\n",
    "However, the R2 for test set is much worse than baseline (-4.396e+19 vs 0).\n",
    "\n",
    "Furthermore, the RMSE for test set is also much worse than baseline (6.088e+14 vs 79,239).\n",
    "\n",
    "A comparison between the R2 for train set and test set (0.866 vs -4.396e+19) shows that R2 for train set is better than test set, indicating a severe overfitting.\n",
    "\n",
    "In conclusion, Linear Regression do not improve compared to baseline. Hence, linear regression is not a good model to be chosen."
   ]
  },
  {
   "cell_type": "markdown",
   "metadata": {},
   "source": [
    "#### Comparison between Ridge Model to Baseline\n",
    "For ridge model, the R2 for train set is better than baseline (0.872 vs 0). \n",
    "\n",
    "The R2 for test set is better than baseline (0.820 vs 0).\n",
    "\n",
    "Furthermore, the RMSE for test set is also better than baseline (35,343 vs 79,239).\n",
    "\n",
    "A comparison between the R2 for train set and test set (0.872 vs 0.820) shows that R2 for train set is better than test set, indicating an overfitting. The difference between the R2 is ~0.05, not counted as too huge of a difference.\n",
    "\n",
    "In conclusion, Ridge Model do improve compared to baseline. Hence, Ridge Model is a good model to be chosen."
   ]
  },
  {
   "cell_type": "markdown",
   "metadata": {},
   "source": [
    "#### Comparison between Lasso Model to Baseline\n",
    "For lasso model, the R2 for train set is better than baseline (0.872 vs 0). \n",
    "\n",
    "The R2 for test set is better than baseline (0.810 vs 0).\n",
    "\n",
    "Furthermore, the RMSE for test set is also better than baseline (36,357 vs 79,239).\n",
    "\n",
    "A comparison between the R2 for train set and test set (0.872 vs 0.810) shows that R2 for train set is better than test set, indicating an overfitting. The difference between the R2 is ~0.06, not counted as too huge of a difference.\n",
    "\n",
    "In conclusion, Lasso Model do improve compared to baseline. Hence, Lasso is a good model to be chosen."
   ]
  },
  {
   "cell_type": "markdown",
   "metadata": {},
   "source": [
    "#### Comparison between Ridge Model vs Lasso Model\n",
    "For ridge model, the R2 for train set is same as Lasso model (0.872 vs 0.872). \n",
    "\n",
    "However, the R2 for test set for Ridge Model is better than Lasso Model (0.820 vs 0.810).\n",
    "\n",
    "Furthermore, the RMSE for test set for Ridge Model is also slightly better than Lasso Model (35,343 vs 36,357).\n",
    "\n",
    "The difference between the R2 of Ridge Model is smaller than Lasso Model (0.05,0.06), indicating Ridge Model is less severe in overfitting.\n",
    "\n",
    "In conclusion, Ridge Model is better than Lasso Model in predicting values as it has a higher R2 for test set, and a lower RMSE compared to Lasso Model."
   ]
  },
  {
   "cell_type": "markdown",
   "metadata": {},
   "source": [
    "#### Best Model Chosen based on regression metrics above: Ridge Model"
   ]
  },
  {
   "cell_type": "markdown",
   "metadata": {},
   "source": [
    "### Ridge Model Visualization - Residual"
   ]
  },
  {
   "cell_type": "code",
   "execution_count": 61,
   "metadata": {},
   "outputs": [],
   "source": [
    "# Initiate ridge model\n",
    "ridge = RidgeCV(alphas=np.logspace(0, 5, 200))"
   ]
  },
  {
   "cell_type": "code",
   "execution_count": 62,
   "metadata": {},
   "outputs": [
    {
     "data": {
      "text/plain": [
       "RidgeCV(alphas=array([1.00000000e+00, 1.05956018e+00, 1.12266777e+00, 1.18953407e+00,\n",
       "       1.26038293e+00, 1.33545156e+00, 1.41499130e+00, 1.49926843e+00,\n",
       "       1.58856513e+00, 1.68318035e+00, 1.78343088e+00, 1.88965234e+00,\n",
       "       2.00220037e+00, 2.12145178e+00, 2.24780583e+00, 2.38168555e+00,\n",
       "       2.52353917e+00, 2.67384162e+00, 2.83309610e+00, 3.00183581e+00,\n",
       "       3.18062569e+00, 3.37006433e+0...\n",
       "       2.64308149e+04, 2.80050389e+04, 2.96730241e+04, 3.14403547e+04,\n",
       "       3.33129479e+04, 3.52970730e+04, 3.73993730e+04, 3.96268864e+04,\n",
       "       4.19870708e+04, 4.44878283e+04, 4.71375313e+04, 4.99450512e+04,\n",
       "       5.29197874e+04, 5.60716994e+04, 5.94113398e+04, 6.29498899e+04,\n",
       "       6.66991966e+04, 7.06718127e+04, 7.48810386e+04, 7.93409667e+04,\n",
       "       8.40665289e+04, 8.90735464e+04, 9.43787828e+04, 1.00000000e+05]))"
      ]
     },
     "execution_count": 62,
     "metadata": {},
     "output_type": "execute_result"
    }
   ],
   "source": [
    "# Fit Z_train and y_train into ridge model\n",
    "ridge.fit(Z_train, y_train)"
   ]
  },
  {
   "cell_type": "code",
   "execution_count": 63,
   "metadata": {},
   "outputs": [],
   "source": [
    "#calculating predicted y values using testing data\n",
    "predict = ridge.predict(Z_test)"
   ]
  },
  {
   "cell_type": "code",
   "execution_count": 64,
   "metadata": {},
   "outputs": [],
   "source": [
    "#calculating y residuals\n",
    "residuals = y_test - predict"
   ]
  },
  {
   "cell_type": "code",
   "execution_count": 65,
   "metadata": {
    "scrolled": false
   },
   "outputs": [
    {
     "data": {
      "image/png": "[encoded data removed]",
      "text/plain": [
       "<Figure size 432x288 with 1 Axes>"
      ]
     },
     "metadata": {
      "needs_background": "light"
     },
     "output_type": "display_data"
    }
   ],
   "source": [
    "# Plotting actual residuals against predicted y values\n",
    "pred_residual_ax = sns.scatterplot(x=predict, y=residuals);\n",
    "pred_residual_ax.set_xlabel('Predicted y values', fontsize=13);\n",
    "pred_residual_ax.set_ylabel('Residual Values\\n(actual y - predicted y)', fontsize=13);\n",
    "pred_residual_ax.set_title('Visualisation of Variance in y values', pad=10.0, fontsize=16);\n",
    "pred_residual_ax.axhline(1.25, color='red');\n",
    "plt.show();"
   ]
  },
  {
   "cell_type": "markdown",
   "metadata": {},
   "source": [
    "Based on this scatter plot, most of the residual values are close to zero and hence having low variance."
   ]
  },
  {
   "cell_type": "markdown",
   "metadata": {},
   "source": [
    "### Ridge Model Visualization - Top 10 Positive and top 10 negative coefficients"
   ]
  },
  {
   "cell_type": "code",
   "execution_count": 66,
   "metadata": {},
   "outputs": [],
   "source": [
    "#sorting coefficient of ridge coefficients to show the features that affects the model most severely\n",
    "ridge_col_coef = list(zip(X.columns, abs(optimal_ridge.coef_), optimal_ridge.coef_))\n",
    "ridge_coef_df = pd.DataFrame(ridge_col_coef)\n",
    "ridge_coef_df = ridge_coef_df.rename(columns={0: 'feature',\n",
    "                                              1: 'coefficient_absolute',\n",
    "                                              2: 'coefficient'})\n",
    "ridge_coef_df = ridge_coef_df.sort_values(by=['coefficient_absolute'], ascending=False)"
   ]
  },
  {
   "cell_type": "code",
   "execution_count": 67,
   "metadata": {},
   "outputs": [
    {
     "name": "stdout",
     "output_type": "stream",
     "text": [
      "                 feature  coefficient_absolute   coefficient\n",
      "3           overall_qual          10399.794541  10399.794541\n",
      "19            2nd_flr_sf           9047.504249   9047.504249\n",
      "18            1st_flr_sf           8687.992017   8687.992017\n",
      "66  neighborhood_NridgHt           8339.438666   8339.438666\n",
      "30           garage_area           6308.200861   6308.200861\n",
      "25          kitchen_qual           5988.940384   5988.940384\n",
      "15         total_bsmt_sf           5724.587958   5724.587958\n",
      "8             exter_qual           5708.256188   5708.256188\n",
      "71  neighborhood_StoneBr           5505.100692   5505.100692\n",
      "28            fireplaces           5212.074195   5212.074195\n",
      "95  exterior_2nd_HdBoard           2862.492996  -2862.492996\n",
      "82       bldg_type_Twnhs           2526.388865  -2526.388865\n",
      "42       ms_subclass_120           2296.227808  -2296.227808\n",
      "83      bldg_type_TwnhsE           2118.154860  -2118.154860\n",
      "61  neighborhood_Edwards           2057.691649  -2057.691649\n",
      "96  exterior_2nd_Plywood           1777.428086  -1777.428086\n",
      "64    neighborhood_NAmes           1578.882194  -1578.882194\n",
      "10             bsmt_cond           1547.672651  -1547.672651\n",
      "43       ms_subclass_160           1545.609278  -1545.609278\n",
      "99  exterior_2nd_WdShing           1315.333758  -1315.333758\n"
     ]
    }
   ],
   "source": [
    "#filtering top 10 positive and top 10 negative ridge coefficients\n",
    "pos10_coef = ridge_coef_df.sort_values(by=['coefficient'], ascending=False).head(10)\n",
    "neg10_coef = ridge_coef_df.sort_values(by=['coefficient'], ascending=True).head(10)\n",
    "pos_neg_coef = pd.concat([pos10_coef, neg10_coef])\n",
    "print(pos_neg_coef)"
   ]
  },
  {
   "cell_type": "code",
   "execution_count": 68,
   "metadata": {
    "scrolled": true
   },
   "outputs": [
    {
     "data": {
      "image/png": "[encoded data removed]",
      "text/plain": [
       "<Figure size 1800x720 with 1 Axes>"
      ]
     },
     "metadata": {
      "needs_background": "light"
     },
     "output_type": "display_data"
    }
   ],
   "source": [
    "#plot top 10 positive and top 10 negative coefficients\n",
    "pos_neg_coef_ax = pd.Series(list(pos_neg_coef['coefficient']), index=pos_neg_coef['feature']).plot(kind='bar', figsize=(25, 10));\n",
    "pos_neg_coef_ax.set_xticklabels(labels=pos_neg_coef['feature'], rotation=45, ha='right', fontsize=14);\n",
    "pos_neg_coef_ax.set_xlabel('Features', fontsize=20);\n",
    "pos_neg_coef_ax.set_ylabel('Coefficient Value', fontsize=20);\n",
    "pos_neg_coef_ax.set_title('Top 10 Positive and Top 10 Negative Coefficients', pad=10.0, fontsize=24);\n",
    "pos_neg_coef_ax.axhline(1.25, color='black');\n",
    "plt.show();"
   ]
  },
  {
   "cell_type": "markdown",
   "metadata": {},
   "source": [
    "### Ridge Model Visualization - coefficients lower than absolute value of 100 (doesn't influence the model much)"
   ]
  },
  {
   "cell_type": "code",
   "execution_count": 69,
   "metadata": {},
   "outputs": [
    {
     "data": {
      "text/html": [
       "<div>\n",
       "<style scoped>\n",
       "    .dataframe tbody tr th:only-of-type {\n",
       "        vertical-align: middle;\n",
       "    }\n",
       "\n",
       "    .dataframe tbody tr th {\n",
       "        vertical-align: top;\n",
       "    }\n",
       "\n",
       "    .dataframe thead th {\n",
       "        text-align: right;\n",
       "    }\n",
       "</style>\n",
       "<table border=\"1\" class=\"dataframe\">\n",
       "  <thead>\n",
       "    <tr style=\"text-align: right;\">\n",
       "      <th></th>\n",
       "      <th>feature</th>\n",
       "      <th>coefficient_absolute</th>\n",
       "      <th>coefficient</th>\n",
       "    </tr>\n",
       "  </thead>\n",
       "  <tbody>\n",
       "    <tr>\n",
       "      <th>74</th>\n",
       "      <td>condition_1_Feedr</td>\n",
       "      <td>94.257708</td>\n",
       "      <td>94.257708</td>\n",
       "    </tr>\n",
       "    <tr>\n",
       "      <th>118</th>\n",
       "      <td>fence_MnPrv</td>\n",
       "      <td>93.939869</td>\n",
       "      <td>93.939869</td>\n",
       "    </tr>\n",
       "    <tr>\n",
       "      <th>108</th>\n",
       "      <td>electrical_FuseF</td>\n",
       "      <td>91.219035</td>\n",
       "      <td>91.219035</td>\n",
       "    </tr>\n",
       "    <tr>\n",
       "      <th>111</th>\n",
       "      <td>garage_type_Attchd</td>\n",
       "      <td>37.524551</td>\n",
       "      <td>37.524551</td>\n",
       "    </tr>\n",
       "    <tr>\n",
       "      <th>69</th>\n",
       "      <td>neighborhood_Sawyer</td>\n",
       "      <td>20.589676</td>\n",
       "      <td>-20.589676</td>\n",
       "    </tr>\n",
       "    <tr>\n",
       "      <th>34</th>\n",
       "      <td>open_porch_sf</td>\n",
       "      <td>16.014246</td>\n",
       "      <td>16.014246</td>\n",
       "    </tr>\n",
       "    <tr>\n",
       "      <th>120</th>\n",
       "      <td>sale_type_ConLD</td>\n",
       "      <td>4.680934</td>\n",
       "      <td>4.680934</td>\n",
       "    </tr>\n",
       "    <tr>\n",
       "      <th>44</th>\n",
       "      <td>ms_subclass_180</td>\n",
       "      <td>3.061522</td>\n",
       "      <td>-3.061522</td>\n",
       "    </tr>\n",
       "    <tr>\n",
       "      <th>58</th>\n",
       "      <td>neighborhood_ClearCr</td>\n",
       "      <td>0.278343</td>\n",
       "      <td>-0.278343</td>\n",
       "    </tr>\n",
       "  </tbody>\n",
       "</table>\n",
       "</div>"
      ],
      "text/plain": [
       "                  feature  coefficient_absolute  coefficient\n",
       "74      condition_1_Feedr             94.257708    94.257708\n",
       "118           fence_MnPrv             93.939869    93.939869\n",
       "108      electrical_FuseF             91.219035    91.219035\n",
       "111    garage_type_Attchd             37.524551    37.524551\n",
       "69    neighborhood_Sawyer             20.589676   -20.589676\n",
       "34          open_porch_sf             16.014246    16.014246\n",
       "120       sale_type_ConLD              4.680934     4.680934\n",
       "44        ms_subclass_180              3.061522    -3.061522\n",
       "58   neighborhood_ClearCr              0.278343    -0.278343"
      ]
     },
     "execution_count": 69,
     "metadata": {},
     "output_type": "execute_result"
    }
   ],
   "source": [
    "#filtering to show features with coefficients lower than absolute value of 100\n",
    "low_coef = ridge_coef_df.loc[ridge_coef_df['coefficient_absolute'] < 100].sort_values(by=['coefficient_absolute'], ascending=False)\n",
    "low_coef"
   ]
  },
  {
   "cell_type": "code",
   "execution_count": 70,
   "metadata": {},
   "outputs": [
    {
     "data": {
      "image/png": "[encoded data removed]",
      "text/plain": [
       "<Figure size 1080x360 with 1 Axes>"
      ]
     },
     "metadata": {
      "needs_background": "light"
     },
     "output_type": "display_data"
    }
   ],
   "source": [
    "#plot coefficients that have absolute values of lower than 100\n",
    "low_coef_ax = pd.Series(list(low_coef['coefficient']), index=low_coef['feature']).plot(kind='bar', figsize=(15, 5));\n",
    "low_coef_ax.set_xticklabels(labels=low_coef['feature'], rotation=45, ha='right', fontsize=10);\n",
    "low_coef_ax.set_xlabel('Features', fontsize=14);\n",
    "low_coef_ax.set_ylabel('Coefficient Value', fontsize=14);\n",
    "low_coef_ax.set_title('Features with Absolute Coefficients lower than 100', pad=10.0, fontsize=18);\n",
    "low_coef_ax.axhline(y=0, color='black');\n",
    "plt.show();"
   ]
  },
  {
   "cell_type": "markdown",
   "metadata": {},
   "source": [
    "## Model Fitting"
   ]
  },
  {
   "cell_type": "code",
   "execution_count": 77,
   "metadata": {},
   "outputs": [],
   "source": [
    "# Open the test.csv that is being modified and dummified\n",
    "# The cleaning and dummifying of test.csv is being done in Appendix 1\n",
    "test_dummified = pd.read_csv('../data/test_modified_dummified.csv')"
   ]
  },
  {
   "cell_type": "code",
   "execution_count": 78,
   "metadata": {},
   "outputs": [],
   "source": [
    "# Save all columns of test_dummified into features\n",
    "features = [col for col in test_dummified._get_numeric_data().columns if col != 'Saleprice']\n",
    "features.remove('id')                        # Drop 'id' from features\n",
    "X_ = test_dummified[features]                 # Assign it into X_"
   ]
  },
  {
   "cell_type": "code",
   "execution_count": 79,
   "metadata": {},
   "outputs": [],
   "source": [
    "# Standardization of all variables to ensure that the beta values for each predictor variable to be on the same scale.\n",
    "ss = StandardScaler()\n",
    "ss.fit(X_)\n",
    "Z = ss.transform(X_)"
   ]
  },
  {
   "cell_type": "code",
   "execution_count": 80,
   "metadata": {},
   "outputs": [],
   "source": [
    "# Initiate ridge model\n",
    "ridge = RidgeCV(alphas=np.logspace(0, 5, 200))"
   ]
  },
  {
   "cell_type": "code",
   "execution_count": 81,
   "metadata": {},
   "outputs": [
    {
     "data": {
      "text/plain": [
       "RidgeCV(alphas=array([1.00000000e+00, 1.05956018e+00, 1.12266777e+00, 1.18953407e+00,\n",
       "       1.26038293e+00, 1.33545156e+00, 1.41499130e+00, 1.49926843e+00,\n",
       "       1.58856513e+00, 1.68318035e+00, 1.78343088e+00, 1.88965234e+00,\n",
       "       2.00220037e+00, 2.12145178e+00, 2.24780583e+00, 2.38168555e+00,\n",
       "       2.52353917e+00, 2.67384162e+00, 2.83309610e+00, 3.00183581e+00,\n",
       "       3.18062569e+00, 3.37006433e+0...\n",
       "       2.64308149e+04, 2.80050389e+04, 2.96730241e+04, 3.14403547e+04,\n",
       "       3.33129479e+04, 3.52970730e+04, 3.73993730e+04, 3.96268864e+04,\n",
       "       4.19870708e+04, 4.44878283e+04, 4.71375313e+04, 4.99450512e+04,\n",
       "       5.29197874e+04, 5.60716994e+04, 5.94113398e+04, 6.29498899e+04,\n",
       "       6.66991966e+04, 7.06718127e+04, 7.48810386e+04, 7.93409667e+04,\n",
       "       8.40665289e+04, 8.90735464e+04, 9.43787828e+04, 1.00000000e+05]))"
      ]
     },
     "execution_count": 81,
     "metadata": {},
     "output_type": "execute_result"
    }
   ],
   "source": [
    "# Fit Z_train and y_train into ridge model\n",
    "ridge.fit(Z_train, y_train)"
   ]
  },
  {
   "cell_type": "code",
   "execution_count": 82,
   "metadata": {},
   "outputs": [],
   "source": [
    "# Prediction done on Z based on the model trained by ridge, and save it into pred as array\n",
    "pred = ridge.predict(Z)"
   ]
  },
  {
   "cell_type": "code",
   "execution_count": 83,
   "metadata": {},
   "outputs": [],
   "source": [
    "# Create a dataframe 'pred_df'\n",
    "pred_df = pd.DataFrame(pred)"
   ]
  },
  {
   "cell_type": "code",
   "execution_count": 96,
   "metadata": {},
   "outputs": [
    {
     "data": {
      "text/html": [
       "<div>\n",
       "<style scoped>\n",
       "    .dataframe tbody tr th:only-of-type {\n",
       "        vertical-align: middle;\n",
       "    }\n",
       "\n",
       "    .dataframe tbody tr th {\n",
       "        vertical-align: top;\n",
       "    }\n",
       "\n",
       "    .dataframe thead th {\n",
       "        text-align: right;\n",
       "    }\n",
       "</style>\n",
       "<table border=\"1\" class=\"dataframe\">\n",
       "  <thead>\n",
       "    <tr style=\"text-align: right;\">\n",
       "      <th></th>\n",
       "      <th>0</th>\n",
       "    </tr>\n",
       "  </thead>\n",
       "  <tbody>\n",
       "    <tr>\n",
       "      <th>0</th>\n",
       "      <td>211514.626016</td>\n",
       "    </tr>\n",
       "    <tr>\n",
       "      <th>1</th>\n",
       "      <td>177720.192346</td>\n",
       "    </tr>\n",
       "    <tr>\n",
       "      <th>2</th>\n",
       "      <td>211840.359999</td>\n",
       "    </tr>\n",
       "    <tr>\n",
       "      <th>3</th>\n",
       "      <td>162456.061630</td>\n",
       "    </tr>\n",
       "    <tr>\n",
       "      <th>4</th>\n",
       "      <td>192667.873871</td>\n",
       "    </tr>\n",
       "  </tbody>\n",
       "</table>\n",
       "</div>"
      ],
      "text/plain": [
       "               0\n",
       "0  211514.626016\n",
       "1  177720.192346\n",
       "2  211840.359999\n",
       "3  162456.061630\n",
       "4  192667.873871"
      ]
     },
     "execution_count": 96,
     "metadata": {},
     "output_type": "execute_result"
    }
   ],
   "source": [
    "# Print few rows of 'pred_df'\n",
    "pred_df.head()"
   ]
  },
  {
   "cell_type": "code",
   "execution_count": 85,
   "metadata": {},
   "outputs": [],
   "source": [
    "# Store the 'id' column in test_dummified to test_kaggle dataframe\n",
    "test_kaggle = test_dummified[['id']]"
   ]
  },
  {
   "cell_type": "code",
   "execution_count": 98,
   "metadata": {},
   "outputs": [
    {
     "data": {
      "text/html": [
       "<div>\n",
       "<style scoped>\n",
       "    .dataframe tbody tr th:only-of-type {\n",
       "        vertical-align: middle;\n",
       "    }\n",
       "\n",
       "    .dataframe tbody tr th {\n",
       "        vertical-align: top;\n",
       "    }\n",
       "\n",
       "    .dataframe thead th {\n",
       "        text-align: right;\n",
       "    }\n",
       "</style>\n",
       "<table border=\"1\" class=\"dataframe\">\n",
       "  <thead>\n",
       "    <tr style=\"text-align: right;\">\n",
       "      <th></th>\n",
       "      <th>id</th>\n",
       "    </tr>\n",
       "  </thead>\n",
       "  <tbody>\n",
       "    <tr>\n",
       "      <th>0</th>\n",
       "      <td>2658</td>\n",
       "    </tr>\n",
       "    <tr>\n",
       "      <th>1</th>\n",
       "      <td>2718</td>\n",
       "    </tr>\n",
       "    <tr>\n",
       "      <th>2</th>\n",
       "      <td>2414</td>\n",
       "    </tr>\n",
       "    <tr>\n",
       "      <th>3</th>\n",
       "      <td>1989</td>\n",
       "    </tr>\n",
       "    <tr>\n",
       "      <th>4</th>\n",
       "      <td>625</td>\n",
       "    </tr>\n",
       "  </tbody>\n",
       "</table>\n",
       "</div>"
      ],
      "text/plain": [
       "     id\n",
       "0  2658\n",
       "1  2718\n",
       "2  2414\n",
       "3  1989\n",
       "4   625"
      ]
     },
     "execution_count": 98,
     "metadata": {},
     "output_type": "execute_result"
    }
   ],
   "source": [
    "# print few rows of test_dummified[['id']] \n",
    "test_dummified[['id']].head()"
   ]
  },
  {
   "cell_type": "code",
   "execution_count": 87,
   "metadata": {
    "scrolled": false
   },
   "outputs": [
    {
     "name": "stderr",
     "output_type": "stream",
     "text": [
      "<ipython-input-87-2c362cacd5a5>:2: SettingWithCopyWarning: \n",
      "A value is trying to be set on a copy of a slice from a DataFrame.\n",
      "Try using .loc[row_indexer,col_indexer] = value instead\n",
      "\n",
      "See the caveats in the documentation: https://pandas.pydata.org/pandas-docs/stable/user_guide/indexing.html#returning-a-view-versus-a-copy\n",
      "  test_kaggle['SalePrice'] = pred_df\n"
     ]
    }
   ],
   "source": [
    "# Add a column named 'SalePrice' and save all pred_df values inside\n",
    "test_kaggle['SalePrice'] = pred_df"
   ]
  },
  {
   "cell_type": "code",
   "execution_count": 88,
   "metadata": {},
   "outputs": [],
   "source": [
    "# Rename 'id' column to 'Id'\n",
    "test_kaggle = test_kaggle.rename(columns={'id': 'Id'})"
   ]
  },
  {
   "cell_type": "code",
   "execution_count": 99,
   "metadata": {},
   "outputs": [
    {
     "data": {
      "text/html": [
       "<div>\n",
       "<style scoped>\n",
       "    .dataframe tbody tr th:only-of-type {\n",
       "        vertical-align: middle;\n",
       "    }\n",
       "\n",
       "    .dataframe tbody tr th {\n",
       "        vertical-align: top;\n",
       "    }\n",
       "\n",
       "    .dataframe thead th {\n",
       "        text-align: right;\n",
       "    }\n",
       "</style>\n",
       "<table border=\"1\" class=\"dataframe\">\n",
       "  <thead>\n",
       "    <tr style=\"text-align: right;\">\n",
       "      <th></th>\n",
       "      <th>Id</th>\n",
       "      <th>SalePrice</th>\n",
       "    </tr>\n",
       "  </thead>\n",
       "  <tbody>\n",
       "    <tr>\n",
       "      <th>0</th>\n",
       "      <td>2658</td>\n",
       "      <td>211514.626016</td>\n",
       "    </tr>\n",
       "    <tr>\n",
       "      <th>1</th>\n",
       "      <td>2718</td>\n",
       "      <td>177720.192346</td>\n",
       "    </tr>\n",
       "    <tr>\n",
       "      <th>2</th>\n",
       "      <td>2414</td>\n",
       "      <td>211840.359999</td>\n",
       "    </tr>\n",
       "    <tr>\n",
       "      <th>3</th>\n",
       "      <td>1989</td>\n",
       "      <td>162456.061630</td>\n",
       "    </tr>\n",
       "    <tr>\n",
       "      <th>4</th>\n",
       "      <td>625</td>\n",
       "      <td>192667.873871</td>\n",
       "    </tr>\n",
       "  </tbody>\n",
       "</table>\n",
       "</div>"
      ],
      "text/plain": [
       "     Id      SalePrice\n",
       "0  2658  211514.626016\n",
       "1  2718  177720.192346\n",
       "2  2414  211840.359999\n",
       "3  1989  162456.061630\n",
       "4   625  192667.873871"
      ]
     },
     "execution_count": 99,
     "metadata": {},
     "output_type": "execute_result"
    }
   ],
   "source": [
    "# Print few columns of 'test_kaggle' dataframe\n",
    "test_kaggle.head()"
   ]
  },
  {
   "cell_type": "code",
   "execution_count": 90,
   "metadata": {},
   "outputs": [],
   "source": [
    "# Save it into test_kaggle.csv in the Kaggle Submission Model\n",
    "test_kaggle.to_csv('../Kaggle Submission/test_kaggle.csv', index = False)"
   ]
  },
  {
   "cell_type": "markdown",
   "metadata": {},
   "source": [
    "Submitted the test_kaggle.csv to kaggle. Do refer to folder 'Kaggle Submission' for more details."
   ]
  },
  {
   "cell_type": "markdown",
   "metadata": {},
   "source": [
    "## Conclusions and Future Works"
   ]
  },
  {
   "cell_type": "markdown",
   "metadata": {},
   "source": [
    "### Conclusion\n",
    "**Neighborhood**\n",
    "\n",
    "Focus on marketing the houses in Northridge Heights and Northridge.\n",
    "\n",
    "**Quality of House**\n",
    "\n",
    "Advice clients with below average housing quality to refurbish their home.\n",
    "\n",
    "**Fireplaces**\n",
    "\n",
    "Focus on marketing houses with at least 1 fireplace and encourage clients to build a fireplace if they do not have one.\n",
    "\n",
    "**Housing Exteriors**\n",
    "\n",
    " Avoid houses with hardboard or stucco exteriors as they are prone to rot and mold especially with the above average snowfall in Ames.\n",
    "\n",
    "**BIGGER is NOT always BETTER**\n",
    "\n",
    "A bigger house may have a higher potential sale price, but that also means that it could have a lower chance of being sold due to a lower number of potential buyers who can afford it"
   ]
  },
  {
   "cell_type": "markdown",
   "metadata": {},
   "source": [
    "### Future Work\n",
    "**Total No. of Houses in Neighborhoods**\n",
    "\n",
    "This would allow us to evaluate the percentage % of houses that are sold across all neighborhoods.\n",
    "\n",
    "**Demographic of Neighborhood and Buyers**\n",
    "\n",
    "Age range, Marital Status, Family size, No. of kids could play a part in helping realtors recommend the right houses to the right buyers.\n",
    "\n",
    "**Sale price in real value to take into account of inflation**\n",
    "\n",
    "Rate of inflation would allow us to “reflect” the past sale prices based on today’s economy.\n"
   ]
  }
 ],
 "metadata": {
  "kernelspec": {
   "display_name": "Python 3",
   "language": "python",
   "name": "python3"
  },
  "language_info": {
   "codemirror_mode": {
    "name": "ipython",
    "version": 3
   },
   "file_extension": ".py",
   "mimetype": "text/x-python",
   "name": "python",
   "nbconvert_exporter": "python",
   "pygments_lexer": "ipython3",
   "version": "3.8.5"
  }
 },
 "nbformat": 4,
 "nbformat_minor": 4
}
